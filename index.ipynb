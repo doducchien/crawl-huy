{
 "cells": [
  {
   "cell_type": "code",
   "execution_count": null,
   "metadata": {},
   "outputs": [],
   "source": [
    "from selenium.webdriver.common.by import By\n",
    "import time\n",
    "import json\n",
    "import re\n",
    "from tqdm import tqdm\n",
    "\n",
    "def get_data(i, driver):\n",
    "    # Khởi động trình duyệt\n",
    "    link = f\"https://batdongsan.com.vn/cho-thue-nha-tro-phong-tro-ha-noi/p{i}\"\n",
    "\n",
    "    try:\n",
    "        # Mở trang danh sách\n",
    "        driver.get(link)\n",
    "        time.sleep(3)  # Đợi trang tải\n",
    "\n",
    "        # Lấy danh sách các liên kết chi tiết (URLs)\n",
    "        listings = driver.find_elements(By.CSS_SELECTOR, \"a.js__product-link-for-product-id\")\n",
    "        links = [listing.get_attribute(\"href\") for listing in listings]\n",
    "\n",
    "        all_data = []  # Danh sách lưu dữ liệu các mục\n",
    "\n",
    "        for link in tqdm(links, desc=f\"Link: {link}\", unit=\"link\"):\n",
    "            # Mở liên kết trong cùng tab\n",
    "            driver.get(link)\n",
    "            time.sleep(5)  # Đợi trang chi tiết tải\n",
    "\n",
    "            # Lấy thông tin từ trang chi tiết\n",
    "            try:\n",
    "                title = driver.find_element(By.CSS_SELECTOR, \"h1.re__pr-title\").text\n",
    "            except:\n",
    "                title = \"\"\n",
    "\n",
    "            try:\n",
    "                rent_fee = driver.find_element(By.CSS_SELECTOR, \"div.re__pr-short-info-item span.value\").text.replace(\"triệu/tháng\", \"\").replace(\",\", \".\")\n",
    "                rent_fee = float(rent_fee)\n",
    "            except:\n",
    "                rent_fee = \"\"\n",
    "\n",
    "            try:\n",
    "                detail_address = driver.find_element(By.CSS_SELECTOR, \"span.js__pr-address\").text\n",
    "            except:\n",
    "                detail_address = \"\"\n",
    "\n",
    "            try:\n",
    "                description = driver.find_element(By.CSS_SELECTOR, \"div.re__detail-content\").text\n",
    "            except:\n",
    "                description = \"\"\n",
    "\n",
    "            try:\n",
    "                acreage = driver.find_element(By.CSS_SELECTOR, \"div.re__pr-short-info-item:nth-of-type(2) span.value\").text\n",
    "            except:\n",
    "                acreage = \"\"\n",
    "\n",
    "            try:\n",
    "                contact_phone = driver.find_element(By.CSS_SELECTOR, \"span.hidden-mobile\").text.replace(\" \", \"\")\n",
    "            except:\n",
    "                contact_phone = \"\"\n",
    "            try:\n",
    "                contact_name = driver.find_element(By.CSS_SELECTOR, \"span.hidden-mobile\").get_attribute(\"data-kyc-name\")\n",
    "            except:\n",
    "                contact_name = \"\"\n",
    "            \n",
    "            try:\n",
    "                image_div = driver.find_element(By.CSS_SELECTOR, \"div.re__pr-image-cover\")\n",
    "                style_attribute = image_div.get_attribute(\"style\")\n",
    "                image_url = re.search(r'url\\(\"(.*?)\"\\)', style_attribute).group(1)\n",
    "            except:\n",
    "                image_url = \"\"\n",
    "            try:\n",
    "                bread_crumb = driver.find_elements(By.CSS_SELECTOR, \"div.re__breadcrumb a\")\n",
    "                city = bread_crumb[1].text\n",
    "                district = bread_crumb[2].text\n",
    "            except:\n",
    "                city = \"\"\n",
    "                district = \"\"\n",
    "\n",
    "\n",
    "\n",
    "            # Thêm dữ liệu vào danh sách\n",
    "            data = {\n",
    "                \"title\": title,\n",
    "                \"rent_fee\": rent_fee,\n",
    "                \"detail_address\": detail_address,\n",
    "                \"description\": description,\n",
    "                \"room_type\": \"MOTEL\",\n",
    "                \"acreage\": acreage,\n",
    "                \"url\": link,\n",
    "                \"contact_phone\": contact_phone,\n",
    "                \"contact_name\": contact_name,\n",
    "                \"image_url\": image_url,\n",
    "                \"city\": city,\n",
    "                \"district\": district\n",
    "            }\n",
    "            all_data.append(data)\n",
    "            print(\"Getting data successfully at: \", title)\n",
    "\n",
    "\n",
    "        # Lưu dữ liệu dưới dạng JSON\n",
    "        with open(f\"data/batdongsan_com_vn/listings_details_{i}.json\", \"w\", encoding=\"utf-8\") as f:\n",
    "            json.dump(all_data, f, ensure_ascii=False, indent=4)\n",
    "\n",
    "        print(f\"Hoàn thành việc crawl và lưu dữ liệu tại page thứ {1}\")\n",
    "\n",
    "    except:\n",
    "        pass\n",
    "\n"
   ]
  },
  {
   "cell_type": "code",
   "execution_count": 3,
   "metadata": {},
   "outputs": [
    {
     "name": "stderr",
     "output_type": "stream",
     "text": [
      "Crawling first 8 pages:   0%|          | 0/17 [00:00<?, ?page/s]"
     ]
    },
    {
     "name": "stdout",
     "output_type": "stream",
     "text": [
      "Getting data successfully at:  Cho thuê phòng trọ khép kín đầy đủ tiện nghi tại 173 phố Lò đúc,quận Hai Bà Trưng,Hà nội\n"
     ]
    },
    {
     "name": "stderr",
     "output_type": "stream",
     "text": []
    },
    {
     "name": "stdout",
     "output_type": "stream",
     "text": [
      "Getting data successfully at:  Chính chủ cho thuê phòng dạng căn hộ mini 20m2 đủ đồ thoáng sáng tại Cầu Giấy 3,9tr/ tháng\n"
     ]
    },
    {
     "name": "stderr",
     "output_type": "stream",
     "text": []
    },
    {
     "name": "stdout",
     "output_type": "stream",
     "text": [
      "Getting data successfully at:  Cho thuê phòng đẹp tại vị trí trung tâm 218 Đội Cấn\n"
     ]
    },
    {
     "name": "stderr",
     "output_type": "stream",
     "text": []
    },
    {
     "name": "stdout",
     "output_type": "stream",
     "text": [
      "Getting data successfully at:  Ngõ 97 Phố Chính Kinh, chung cư full đồ, đầy đủ PCCC, gần rất nhiều trường đại học (NV, TN... )\n"
     ]
    },
    {
     "name": "stderr",
     "output_type": "stream",
     "text": []
    },
    {
     "name": "stdout",
     "output_type": "stream",
     "text": [
      "Getting data successfully at:  Ngõ 190 Nguyễn Trãi, chung cư full đồ, đầy đủ PCCC, gần rất nhiều trường đại học, Lh 0904 253 ***\n"
     ]
    },
    {
     "name": "stderr",
     "output_type": "stream",
     "text": []
    },
    {
     "name": "stdout",
     "output_type": "stream",
     "text": [
      "Getting data successfully at:  Chính chủ cho thuê phòng MP Đê La Thành: 25m2, điều hòa, nóng lạnh, thang máy, giá: 3,5tr/tháng\n"
     ]
    },
    {
     "name": "stderr",
     "output_type": "stream",
     "text": []
    },
    {
     "name": "stdout",
     "output_type": "stream",
     "text": [
      "Getting data successfully at:  Chính chủ cho thuê phòng CCMN ở Đội Cấn. Khu vực Vip của quận Ba Đình, giáp quận Đống Đa, Cầu Giấy\n"
     ]
    },
    {
     "name": "stderr",
     "output_type": "stream",
     "text": []
    },
    {
     "name": "stdout",
     "output_type": "stream",
     "text": [
      "Getting data successfully at:  Nhà có 4 phòng khép kín, full đồ, giá thuê 2 - 3tr/phòng/tháng hoặc có thể thuê nguyên căn giá 9tr\n"
     ]
    },
    {
     "name": "stderr",
     "output_type": "stream",
     "text": []
    },
    {
     "name": "stdout",
     "output_type": "stream",
     "text": [
      "Getting data successfully at:  Cho thuê CHMN 50m2, Hoàng Hoa Thám, Ba Đình, Hà Nội đủ tiện nghi\n"
     ]
    },
    {
     "name": "stderr",
     "output_type": "stream",
     "text": []
    },
    {
     "name": "stdout",
     "output_type": "stream",
     "text": [
      "Getting data successfully at:  Cho thuê nhà trọ đẹp xuất sắc mới sửa xong đẹp xuất sắc tại ngõ 203 Đường Kim Ngưu, 2 triệu\n"
     ]
    },
    {
     "name": "stderr",
     "output_type": "stream",
     "text": []
    },
    {
     "name": "stdout",
     "output_type": "stream",
     "text": [
      "Getting data successfully at:  Ngõ 190 Nguyễn Trãi, chung cư full đồ, đầy đủ PCCC, gần rất nhiều trường đại học, Lh 0904 253 ***\n"
     ]
    },
    {
     "name": "stderr",
     "output_type": "stream",
     "text": []
    },
    {
     "name": "stdout",
     "output_type": "stream",
     "text": [
      "Getting data successfully at:  Cho thuê phòng tại Nguyễn Khang, Yên Hòa, Cầu Giấy, Hà Nội, 4,5 triệu, 25m2\n"
     ]
    },
    {
     "name": "stderr",
     "output_type": "stream",
     "text": []
    },
    {
     "name": "stdout",
     "output_type": "stream",
     "text": [
      "Getting data successfully at:  Cho thuê phòng khép kín tại Nguyễn An Ninh\n"
     ]
    },
    {
     "name": "stderr",
     "output_type": "stream",
     "text": []
    },
    {
     "name": "stdout",
     "output_type": "stream",
     "text": [
      "Getting data successfully at:  Comi Homes cho thuê phòng Studio đủ đồ - hiện đại - tiện nghi tại 55 Lê Quý Đôn, Lò Đúc\n"
     ]
    },
    {
     "name": "stderr",
     "output_type": "stream",
     "text": []
    },
    {
     "name": "stdout",
     "output_type": "stream",
     "text": [
      "Getting data successfully at:  Comi Homes cho thuê phòng Studio đủ đồ, xinh xắn thoáng mát tại ngõ 34 Hoàng Cầu, Đống Đa\n"
     ]
    },
    {
     "name": "stderr",
     "output_type": "stream",
     "text": []
    },
    {
     "name": "stdout",
     "output_type": "stream",
     "text": [
      "Getting data successfully at:  1N 1K - 2WC 55m2 rẻ bất ngờ, cực kì hợp lý cho hộ gia đình tại Nguyễn Hoàng - Lê Đức Thọ - Mỹ Đình\n"
     ]
    },
    {
     "name": "stderr",
     "output_type": "stream",
     "text": []
    },
    {
     "name": "stdout",
     "output_type": "stream",
     "text": [
      "Getting data successfully at:  Cho thuê phòng căn hộ mini nhiều tiện nghi, mới tinh, có ban công nhà số 14, ngõ 7 Tú Mỡ, Trung Hòa\n"
     ]
    },
    {
     "name": "stderr",
     "output_type": "stream",
     "text": []
    },
    {
     "name": "stdout",
     "output_type": "stream",
     "text": [
      "Getting data successfully at:  CCMN cao cấp 30m2 Lê Đức Thọ Full đồ cả SOFA chỉ 3tr89/tháng\n"
     ]
    },
    {
     "name": "stderr",
     "output_type": "stream",
     "text": []
    },
    {
     "name": "stdout",
     "output_type": "stream",
     "text": [
      "Getting data successfully at:  Cho thuê căn hộ Full đồ có Ban công Minh Khai 4tr7/tháng\n"
     ]
    },
    {
     "name": "stderr",
     "output_type": "stream",
     "text": []
    },
    {
     "name": "stdout",
     "output_type": "stream",
     "text": [
      "Getting data successfully at:  Cho thuê phòng trọ cho sinh viên tại phố Xốm. Gía thuê từ 2 triệu - 2.3 triệu\n"
     ]
    },
    {
     "name": "stderr",
     "output_type": "stream",
     "text": []
    },
    {
     "name": "stdout",
     "output_type": "stream",
     "text": [
      "Getting data successfully at:  Anhome - PHÒNG ĐƠN BAN CÔNG SIÊU RỘNG Trần Đại Nghĩa (sát ĐHKTQD NEU) full đồ vào ở luôn\n"
     ]
    },
    {
     "name": "stderr",
     "output_type": "stream",
     "text": []
    },
    {
     "name": "stdout",
     "output_type": "stream",
     "text": [
      "Getting data successfully at:  Cho thuê phòng mới xây 30 m2 full đồ Cầu Giấy\n"
     ]
    },
    {
     "name": "stderr",
     "output_type": "stream",
     "text": []
    },
    {
     "name": "stdout",
     "output_type": "stream",
     "text": [
      "Getting data successfully at:  Chính chủ, phòng khép kín đầy đủ thiết bị, 3,1 - 4,4 triệu/th, ô tô đỗ, sau ĐH Hà Nội, 0332 839 ***\n"
     ]
    },
    {
     "name": "stderr",
     "output_type": "stream",
     "text": [
      "Link: https://batdongsan.com.vn/cho-thue-nha-tro-phong-tro-ha-noi/p1: 100%|██████████| 24/24 [03:02<00:00,  7.60s/link]\n",
      "Crawling first 8 pages:   6%|▌         | 1/17 [03:10<50:52, 190.79s/page]"
     ]
    },
    {
     "name": "stdout",
     "output_type": "stream",
     "text": [
      "Getting data successfully at:  Chính chủ, phòng khép kín đầy đủ thiết bị, 3,3 - 3,8 tr/th, gần ĐH Phương Đông, 0936 031 ***\n",
      "Hoàn thành việc crawl và lưu dữ liệu tại page thứ 1\n"
     ]
    },
    {
     "name": "stderr",
     "output_type": "stream",
     "text": []
    },
    {
     "name": "stdout",
     "output_type": "stream",
     "text": [
      "Getting data successfully at:  [Free T1/2025] Khai trương tòa mới xây, phòng 3tr1-3tr3-3tr6, ngõ 389 Cổ Nhuế.\n"
     ]
    },
    {
     "name": "stderr",
     "output_type": "stream",
     "text": []
    },
    {
     "name": "stdout",
     "output_type": "stream",
     "text": [
      "Getting data successfully at:  Chính chủ cho thuê phòng Studio 30m2 full đồ ngõ 124 Hoàng Ngân\n"
     ]
    },
    {
     "name": "stderr",
     "output_type": "stream",
     "text": []
    },
    {
     "name": "stdout",
     "output_type": "stream",
     "text": [
      "Getting data successfully at:  Chính chủ cho thuê phòng 1 ngủ 1 bếp riêng biệt, có ban công full đồ ngõ 124 Hoàng Ngân\n"
     ]
    },
    {
     "name": "stderr",
     "output_type": "stream",
     "text": []
    },
    {
     "name": "stdout",
     "output_type": "stream",
     "text": [
      "Getting data successfully at:  Ngõ 97 Phố Chính Kinh, chung cư full đồ, đầy đủ PCCC, gần rất nhiều trường đại học (NV, TN... )\n"
     ]
    },
    {
     "name": "stderr",
     "output_type": "stream",
     "text": []
    },
    {
     "name": "stdout",
     "output_type": "stream",
     "text": [
      "Getting data successfully at:  Ngõ 190 Nguyễn Trãi, chung cư full đồ, đầy đủ PCCC, gần rất nhiều trường đại học, Lh 0904 253 ***\n"
     ]
    },
    {
     "name": "stderr",
     "output_type": "stream",
     "text": []
    },
    {
     "name": "stdout",
     "output_type": "stream",
     "text": [
      "Getting data successfully at:  Chính chủ cho thuê phòng MP Đê La Thành: 25m2, điều hòa, nóng lạnh, thang máy, giá: 3,5tr/tháng\n"
     ]
    },
    {
     "name": "stderr",
     "output_type": "stream",
     "text": []
    },
    {
     "name": "stdout",
     "output_type": "stream",
     "text": [
      "Getting data successfully at:  Chính chủ cho thuê phòng CCMN ở Đội Cấn. Khu vực Vip của quận Ba Đình, giáp quận Đống Đa, Cầu Giấy\n"
     ]
    },
    {
     "name": "stderr",
     "output_type": "stream",
     "text": []
    },
    {
     "name": "stdout",
     "output_type": "stream",
     "text": [
      "Getting data successfully at:  Cho thuê phòng ở luôn tại 29 Xã Đàn, Đống Đa, Hà Nội\n"
     ]
    },
    {
     "name": "stderr",
     "output_type": "stream",
     "text": []
    },
    {
     "name": "stdout",
     "output_type": "stream",
     "text": [
      "Getting data successfully at:  Cho thuê chung cư mini mới tại 228 Lê Trọng Tấn, Thanh Xuân, Hà Nội\n"
     ]
    },
    {
     "name": "stderr",
     "output_type": "stream",
     "text": []
    },
    {
     "name": "stdout",
     "output_type": "stream",
     "text": [
      "Getting data successfully at:  Cho thuê căn hộ Studio, 1N 1K tại 178 Tây Sơn - Đống Đa\n"
     ]
    },
    {
     "name": "stderr",
     "output_type": "stream",
     "text": []
    },
    {
     "name": "stdout",
     "output_type": "stream",
     "text": [
      "Getting data successfully at:  Cho thuê căn hộ studio - 1N1K tại 154; 279 Đội Cấn, Ba Đình\n"
     ]
    },
    {
     "name": "stderr",
     "output_type": "stream",
     "text": []
    },
    {
     "name": "stdout",
     "output_type": "stream",
     "text": [
      "Getting data successfully at:  Phòng trọ đẹp, mới, thoáng tại Xuân Đỉnh - CV Hòa Bình\n"
     ]
    },
    {
     "name": "stderr",
     "output_type": "stream",
     "text": []
    },
    {
     "name": "stdout",
     "output_type": "stream",
     "text": [
      "Getting data successfully at:  Chính chủ cho thuê CCMN 1K 1N tại Cầu Diễn - Nguyên Xá\n"
     ]
    },
    {
     "name": "stderr",
     "output_type": "stream",
     "text": []
    },
    {
     "name": "stdout",
     "output_type": "stream",
     "text": [
      "Getting data successfully at:  Cho thuê căn hộ 1K1N full ban công tại Mỹ Đình\n"
     ]
    },
    {
     "name": "stderr",
     "output_type": "stream",
     "text": []
    },
    {
     "name": "stdout",
     "output_type": "stream",
     "text": [
      "Getting data successfully at:  Khai trương căn hộ full đồ mới tinh tại Mễ Trì - Miếu Đầm\n"
     ]
    },
    {
     "name": "stderr",
     "output_type": "stream",
     "text": []
    },
    {
     "name": "stdout",
     "output_type": "stream",
     "text": [
      "Getting data successfully at:  Cho thuê phòng trọ khép kín giá 4tr/th tầng 2, số 5 ngõ 150 phố Phó Đức Chính, Hồ Trúc Bạch\n"
     ]
    },
    {
     "name": "stderr",
     "output_type": "stream",
     "text": []
    },
    {
     "name": "stdout",
     "output_type": "stream",
     "text": [
      "Getting data successfully at:  Cho thuê phòng đủ đồ tầng 2 tại 56 Cầu Gỗ, sát Hồ Gươm, phố đi bộ Hoàn Kiếm, giá chỉ 4tr/th\n"
     ]
    },
    {
     "name": "stderr",
     "output_type": "stream",
     "text": []
    },
    {
     "name": "stdout",
     "output_type": "stream",
     "text": [
      "Getting data successfully at:  Cho thuê phòng trọ tầng 4 mới, đẹp, full đồ, thoáng, có ban công, gần đường sắt trên cao\n"
     ]
    },
    {
     "name": "stderr",
     "output_type": "stream",
     "text": []
    },
    {
     "name": "stdout",
     "output_type": "stream",
     "text": [
      "Getting data successfully at:  Cho thuê 1Ngủ 1 khách giá siêu hời tại Lê Trọng Tấn, Dương Nội, Hà Đông, HN\n"
     ]
    },
    {
     "name": "stderr",
     "output_type": "stream",
     "text": []
    },
    {
     "name": "stdout",
     "output_type": "stream",
     "text": [
      "Getting data successfully at:  Studio full đồ cho thuê dài hạn không tăng giá khu vực Lotte Mall view Thung Lũng Hoa Hồ Tây\n"
     ]
    },
    {
     "name": "stderr",
     "output_type": "stream",
     "text": []
    },
    {
     "name": "stdout",
     "output_type": "stream",
     "text": [
      "Getting data successfully at:  Chính chủ cho thuê phòng trọ khu vực Chùa Láng, Láng Thượng, Đống Đa 2tr5\n"
     ]
    },
    {
     "name": "stderr",
     "output_type": "stream",
     "text": []
    },
    {
     "name": "stdout",
     "output_type": "stream",
     "text": [
      "Getting data successfully at:  Cho thuê căn hộ mini cực đẹp đầy đủ nội thất đồ dùng, cuối đường Hàm Nghi\n"
     ]
    },
    {
     "name": "stderr",
     "output_type": "stream",
     "text": []
    },
    {
     "name": "stdout",
     "output_type": "stream",
     "text": [
      "Getting data successfully at:  Studio đầy đủ nội thất tại KDT Geleximco Dương Nội, Hà Đông\n"
     ]
    },
    {
     "name": "stderr",
     "output_type": "stream",
     "text": [
      "Link: https://batdongsan.com.vn/cho-thue-nha-tro-phong-tro-ha-noi/p2: 100%|██████████| 24/24 [03:18<00:00,  8.28s/link]\n",
      "Crawling first 8 pages:  12%|█▏        | 2/17 [06:35<49:48, 199.24s/page]"
     ]
    },
    {
     "name": "stdout",
     "output_type": "stream",
     "text": [
      "Getting data successfully at:  Cho thuê chung cư mini 35m2, đầy đủ tiện nghi tại 3 ngõ 183 Đặng Tiến Đông, không chung chủ\n",
      "Hoàn thành việc crawl và lưu dữ liệu tại page thứ 1\n"
     ]
    },
    {
     "name": "stderr",
     "output_type": "stream",
     "text": []
    },
    {
     "name": "stdout",
     "output_type": "stream",
     "text": [
      "Getting data successfully at:  Cho thuê nhà trọ khép kín. Ngõ 3 xóm Cầu Hữu Hoà Thanh Trì Hà Nội\n"
     ]
    },
    {
     "name": "stderr",
     "output_type": "stream",
     "text": []
    },
    {
     "name": "stdout",
     "output_type": "stream",
     "text": [
      "Getting data successfully at:  Phòng full đồ, vệ sinh khép kín, có điều hòa hai chiều mới tinh, nóng lạnh\n"
     ]
    },
    {
     "name": "stderr",
     "output_type": "stream",
     "text": []
    },
    {
     "name": "stdout",
     "output_type": "stream",
     "text": [
      "Getting data successfully at:  Cho thuê căn hộ dịch vụ cao cấp, có ban công, full đồ, giá còn 5.Xtỷ nhà mới xây xong 136 Quan Nhân\n"
     ]
    },
    {
     "name": "stderr",
     "output_type": "stream",
     "text": []
    },
    {
     "name": "stdout",
     "output_type": "stream",
     "text": [
      "Getting data successfully at:  Ngõ 97 Phố Chính Kinh, chung cư full đồ, đầy đủ PCCC, gần rất nhiều trường đại học (NV, TN... )\n"
     ]
    },
    {
     "name": "stderr",
     "output_type": "stream",
     "text": []
    },
    {
     "name": "stdout",
     "output_type": "stream",
     "text": [
      "Getting data successfully at:  Ngõ 190 Nguyễn Trãi, chung cư full đồ, đầy đủ PCCC, gần rất nhiều trường đại học, Lh 0904 253 ***\n"
     ]
    },
    {
     "name": "stderr",
     "output_type": "stream",
     "text": []
    },
    {
     "name": "stdout",
     "output_type": "stream",
     "text": [
      "Getting data successfully at:  Chính chủ cho thuê phòng MP Đê La Thành: 25m2, điều hòa, nóng lạnh, thang máy, giá: 3,5tr/tháng\n"
     ]
    },
    {
     "name": "stderr",
     "output_type": "stream",
     "text": []
    },
    {
     "name": "stdout",
     "output_type": "stream",
     "text": [
      "Getting data successfully at:  Chính chủ cho thuê phòng CCMN ở Đội Cấn. Khu vực Vip của quận Ba Đình, giáp quận Đống Đa, Cầu Giấy\n"
     ]
    },
    {
     "name": "stderr",
     "output_type": "stream",
     "text": []
    },
    {
     "name": "stdout",
     "output_type": "stream",
     "text": [
      "Getting data successfully at:  Cho Thuê phòng trọ 35m2 KM tháng này chỉ 3tr tại 250/80 Phan Trọng Tuệ - Thanh Trì full đồ tặng 1tr\n"
     ]
    },
    {
     "name": "stderr",
     "output_type": "stream",
     "text": []
    },
    {
     "name": "stdout",
     "output_type": "stream",
     "text": [
      "Getting data successfully at:  Cho thuê phòng studio 25m2 giá 3tr - 3.9tr/th tại Kim Giang Hoàng Mai có ban công thoáng có pccc\n"
     ]
    },
    {
     "name": "stderr",
     "output_type": "stream",
     "text": []
    },
    {
     "name": "stdout",
     "output_type": "stream",
     "text": [
      "Getting data successfully at:  Phòng 45m2 mới tinh khép kín 100% - chính chủ (ko qua môi giới)\n"
     ]
    },
    {
     "name": "stderr",
     "output_type": "stream",
     "text": []
    },
    {
     "name": "stdout",
     "output_type": "stream",
     "text": [
      "Getting data successfully at:  Cho thuê phòng trọ mới xây, giá rẻ ngõ 79 Cầu Giấy, 445 Nguyễn Khang\n"
     ]
    },
    {
     "name": "stderr",
     "output_type": "stream",
     "text": []
    },
    {
     "name": "stdout",
     "output_type": "stream",
     "text": [
      "Getting data successfully at:  Cho thuê phòng trọ tại Ngõ 1 Bùi Xương Trạch, ko chung chủ, full đồ, có cửa sổ to, an ninh tốt\n"
     ]
    },
    {
     "name": "stderr",
     "output_type": "stream",
     "text": []
    },
    {
     "name": "stdout",
     "output_type": "stream",
     "text": [
      "Getting data successfully at:  Cho thuê nhà Đại Từ, Hoàng Mai\n"
     ]
    },
    {
     "name": "stderr",
     "output_type": "stream",
     "text": []
    },
    {
     "name": "stdout",
     "output_type": "stream",
     "text": [
      "Getting data successfully at:  Cho thuê phòng dt 30m2, đầy đủ: Dh, NL, quạt, giường tủ. Cách DHCN 1,5 km, 3,5tr/th\n"
     ]
    },
    {
     "name": "stderr",
     "output_type": "stream",
     "text": []
    },
    {
     "name": "stdout",
     "output_type": "stream",
     "text": [
      "Getting data successfully at:  Chính chủ cho thuê phòng 1 ngủ 1 bếp 30m2 nhà mới 100%\n"
     ]
    },
    {
     "name": "stderr",
     "output_type": "stream",
     "text": []
    },
    {
     "name": "stdout",
     "output_type": "stream",
     "text": [
      "Getting data successfully at:  Cho thuê căn nhà trọ khép kín, diện tích sử dụng: 50m2. Có gác xép bê tông, điện nước riêng\n"
     ]
    },
    {
     "name": "stderr",
     "output_type": "stream",
     "text": []
    },
    {
     "name": "stdout",
     "output_type": "stream",
     "text": [
      "Getting data successfully at:  Phòng trọ Đại Mỗ 35m2, full đồ, PCCC\n"
     ]
    },
    {
     "name": "stderr",
     "output_type": "stream",
     "text": []
    },
    {
     "name": "stdout",
     "output_type": "stream",
     "text": [
      "Getting data successfully at:  Bên mình có Hệ Thống Homestay - phòng ghép full đồ chỉ cần mang vali đến ở, bạn tham lựa chọn nhé\n"
     ]
    },
    {
     "name": "stderr",
     "output_type": "stream",
     "text": []
    },
    {
     "name": "stdout",
     "output_type": "stream",
     "text": [
      "Getting data successfully at:  Homstay 24 Hoàng Quốc Việt, giá chỉ 1,1 tr/tháng đủ đồ riêng biệt\n"
     ]
    },
    {
     "name": "stderr",
     "output_type": "stream",
     "text": []
    },
    {
     "name": "stdout",
     "output_type": "stream",
     "text": [
      "Getting data successfully at:  CC cho thuê phòng 35 ngõ 160 Trần Đại Nghĩa DT 15 - 20 - 25m2 VSKK 3 - 4 - 4,8 tr/th ô tô đỗ\n"
     ]
    },
    {
     "name": "stderr",
     "output_type": "stream",
     "text": []
    },
    {
     "name": "stdout",
     "output_type": "stream",
     "text": [
      "Getting data successfully at:  Cho thuê phòng trọ Đồng Mai, Hà Đông\n"
     ]
    },
    {
     "name": "stderr",
     "output_type": "stream",
     "text": []
    },
    {
     "name": "stdout",
     "output_type": "stream",
     "text": [
      "Getting data successfully at:  Phòng trọ siêu đẹp 3.7 triệu/tháng - ngõ 8, Ngọc Hồi (Gần chùa Tứ Kỳ) - LH 0846 293 ***\n"
     ]
    },
    {
     "name": "stderr",
     "output_type": "stream",
     "text": []
    },
    {
     "name": "stdout",
     "output_type": "stream",
     "text": [
      "Getting data successfully at:  CCMN full đồ, khép kín, ô tô đỗ cửa tại KĐT Văn Phú - Đường Văn Phú - Phú La - Hà Đông có ban công\n"
     ]
    },
    {
     "name": "stderr",
     "output_type": "stream",
     "text": [
      "Link: https://batdongsan.com.vn/cho-thue-nha-tro-phong-tro-ha-noi/p3: 100%|██████████| 24/24 [02:48<00:00,  7.02s/link]\n",
      "Crawling first 8 pages:  18%|█▊        | 3/17 [09:29<43:42, 187.30s/page]"
     ]
    },
    {
     "name": "stdout",
     "output_type": "stream",
     "text": [
      "Getting data successfully at:  Cho thuê phòng 1 ngủ Dương Nội, Aeon Mall Hà Đông, có lot ô tô, full đồ giá từ 5 tr/th\n",
      "Hoàn thành việc crawl và lưu dữ liệu tại page thứ 1\n"
     ]
    },
    {
     "name": "stderr",
     "output_type": "stream",
     "text": []
    },
    {
     "name": "stdout",
     "output_type": "stream",
     "text": [
      "Getting data successfully at:  Cho thuê 1 ngủ Dương Nội, gần Aeon Mall Hà Đông, có lot ô tô, full đồ giá từ 4.5 tr/th\n"
     ]
    },
    {
     "name": "stderr",
     "output_type": "stream",
     "text": []
    },
    {
     "name": "stdout",
     "output_type": "stream",
     "text": [
      "Getting data successfully at:  Cho thuê phòng full đồ ngõ 290 Kim Mã\n"
     ]
    },
    {
     "name": "stderr",
     "output_type": "stream",
     "text": []
    },
    {
     "name": "stdout",
     "output_type": "stream",
     "text": [
      "Getting data successfully at:  Cho thuê phòng trung tâm, đường Minh Khai, gần các trường đại học Bách Khoa, Xây Dựng\n"
     ]
    },
    {
     "name": "stderr",
     "output_type": "stream",
     "text": []
    },
    {
     "name": "stdout",
     "output_type": "stream",
     "text": [
      "Getting data successfully at:  Ngõ 97 Phố Chính Kinh, chung cư full đồ, đầy đủ PCCC, gần rất nhiều trường đại học (NV, TN... )\n"
     ]
    },
    {
     "name": "stderr",
     "output_type": "stream",
     "text": []
    },
    {
     "name": "stdout",
     "output_type": "stream",
     "text": [
      "Getting data successfully at:  Ngõ 190 Nguyễn Trãi, chung cư full đồ, đầy đủ PCCC, gần rất nhiều trường đại học, Lh 0904 253 ***\n"
     ]
    },
    {
     "name": "stderr",
     "output_type": "stream",
     "text": []
    },
    {
     "name": "stdout",
     "output_type": "stream",
     "text": [
      "Getting data successfully at:  Chính chủ cho thuê phòng MP Đê La Thành: 25m2, điều hòa, nóng lạnh, thang máy, giá: 3,5tr/tháng\n"
     ]
    },
    {
     "name": "stderr",
     "output_type": "stream",
     "text": []
    },
    {
     "name": "stdout",
     "output_type": "stream",
     "text": [
      "Getting data successfully at:  Chính chủ cho thuê phòng CCMN ở Đội Cấn. Khu vực Vip của quận Ba Đình, giáp quận Đống Đa, Cầu Giấy\n"
     ]
    },
    {
     "name": "stderr",
     "output_type": "stream",
     "text": []
    },
    {
     "name": "stdout",
     "output_type": "stream",
     "text": [
      "Getting data successfully at:  Chính chủ cho thuê phòng tro khu đô thị Lideco, Hoài Đức\n"
     ]
    },
    {
     "name": "stderr",
     "output_type": "stream",
     "text": []
    },
    {
     "name": "stdout",
     "output_type": "stream",
     "text": [
      "Getting data successfully at:  Cho thuê nhà T1 Lạc Long Quân 2 phòng ngủ + WC + bếp, 5.5 triệu 80m2 giá rẻ phù hợp gia đình\n"
     ]
    },
    {
     "name": "stderr",
     "output_type": "stream",
     "text": []
    },
    {
     "name": "stdout",
     "output_type": "stream",
     "text": [
      "Getting data successfully at:  Chính chủ cho thuê 02 phòng đẹp làm để ở, làm VP, phố Phạm Tuấn Tài, Quận Cầu Giấy, chỉ 3 triệu\n"
     ]
    },
    {
     "name": "stderr",
     "output_type": "stream",
     "text": []
    },
    {
     "name": "stdout",
     "output_type": "stream",
     "text": [
      "Getting data successfully at:  Phòng trọ ngõ 160 Hào Nam, phòng ở tầng 2 vệ sinh chung, cách oto 10m, gần chợ, sát phố\n"
     ]
    },
    {
     "name": "stderr",
     "output_type": "stream",
     "text": []
    },
    {
     "name": "stdout",
     "output_type": "stream",
     "text": [
      "Getting data successfully at:  Phòng trọ tầng 4 có ban công số 37 ngõ 259 phố vọng oto đỗ cửa sát mặt phố gần bách khoa\n"
     ]
    },
    {
     "name": "stderr",
     "output_type": "stream",
     "text": []
    },
    {
     "name": "stdout",
     "output_type": "stream",
     "text": [
      "Getting data successfully at:  Khai trương CCMN full đồ có ban công 229 Minh Khai 4tr7/tháng\n"
     ]
    },
    {
     "name": "stderr",
     "output_type": "stream",
     "text": []
    },
    {
     "name": "stdout",
     "output_type": "stream",
     "text": [
      "Getting data successfully at:  Chính chủ cần cho thuê phòng trọ, VP khép kín ô tô đỗ cửa tại ngõ 97 đường Văn Cao, BĐ, 2 lối vào\n"
     ]
    },
    {
     "name": "stderr",
     "output_type": "stream",
     "text": []
    },
    {
     "name": "stdout",
     "output_type": "stream",
     "text": [
      "Getting data successfully at:  Cạnh hồ Văn Quán Còn phòng 1pk 1n rộng gần 40m2 siêu thoáng\n"
     ]
    },
    {
     "name": "stderr",
     "output_type": "stream",
     "text": []
    },
    {
     "name": "stdout",
     "output_type": "stream",
     "text": [
      "Getting data successfully at:  Giảm ngay 30% giá thuê khi thuê phòng tại Đình Thôn, Mễ Trì, Đỗ Đức Dục, giá chỉ còn 4,5 triệu/th\n"
     ]
    },
    {
     "name": "stderr",
     "output_type": "stream",
     "text": []
    },
    {
     "name": "stdout",
     "output_type": "stream",
     "text": [
      "Getting data successfully at:  Giảm ngay 40% giá thuê khi thuê phòng tại Đồng Me giá chỉ còn 4.8 triệu/tháng\n"
     ]
    },
    {
     "name": "stderr",
     "output_type": "stream",
     "text": []
    },
    {
     "name": "stdout",
     "output_type": "stream",
     "text": [
      "Getting data successfully at:  Chính chủ cho thuê nhà phòng ngõ 174 Trần Hưng Đạo, Nam Từ Liêm, Hà Nội\n"
     ]
    },
    {
     "name": "stderr",
     "output_type": "stream",
     "text": []
    },
    {
     "name": "stdout",
     "output_type": "stream",
     "text": [
      "Getting data successfully at:  Cho thuê phòng căn hộ dịch vụ De Charm House tại phố Tây Canaby KĐT Rue De Charm số 214 Nguyễn Xiển\n"
     ]
    },
    {
     "name": "stderr",
     "output_type": "stream",
     "text": []
    },
    {
     "name": "stdout",
     "output_type": "stream",
     "text": [
      "Getting data successfully at:  Khai trương chung cư mini cạnh cao đẳng FPT\n"
     ]
    },
    {
     "name": "stderr",
     "output_type": "stream",
     "text": []
    },
    {
     "name": "stdout",
     "output_type": "stream",
     "text": [
      "Getting data successfully at:  Chính chủ cho thuê phòng Lê Đại Hành 80m2 riêng biệt đầy đủ nội thất giá 10tr/tháng\n"
     ]
    },
    {
     "name": "stderr",
     "output_type": "stream",
     "text": []
    },
    {
     "name": "stdout",
     "output_type": "stream",
     "text": [
      "Getting data successfully at:  Cho thuê căn hộ gần phố Tây Sơn S20 - 40m2 đủ đồ cơ bản ô tô đỗ cửa giá từ 2 - 4 tr 0934 406 ***\n"
     ]
    },
    {
     "name": "stderr",
     "output_type": "stream",
     "text": []
    },
    {
     "name": "stdout",
     "output_type": "stream",
     "text": [
      "Getting data successfully at:  Cần cho thuê CCMN an toàn PCCC Hà Đông, DT 35m2 full đồ, giá 4.3tr. LH Kiều Thúy 0949 170 ***\n"
     ]
    },
    {
     "name": "stderr",
     "output_type": "stream",
     "text": [
      "Link: https://batdongsan.com.vn/cho-thue-nha-tro-phong-tro-ha-noi/p4: 100%|██████████| 24/24 [02:34<00:00,  6.45s/link]\n",
      "Crawling first 8 pages:  24%|██▎       | 4/17 [12:08<38:12, 176.33s/page]"
     ]
    },
    {
     "name": "stdout",
     "output_type": "stream",
     "text": [
      "Getting data successfully at:  Cho thuê phòng trọ Bát Tràng, Học Viện Nông Nghiệp, Vinhome Ocean Park, Gia Lâm\n",
      "Hoàn thành việc crawl và lưu dữ liệu tại page thứ 1\n"
     ]
    },
    {
     "name": "stderr",
     "output_type": "stream",
     "text": []
    },
    {
     "name": "stdout",
     "output_type": "stream",
     "text": [
      "Getting data successfully at:  nhà 5 tầng tại Thịnh Quang Tây Sơn Đống Đa Hà nội, Đang còn 1 phòng chống đầu tháng 2 có thể ở\n"
     ]
    },
    {
     "name": "stderr",
     "output_type": "stream",
     "text": []
    },
    {
     "name": "stdout",
     "output_type": "stream",
     "text": [
      "Getting data successfully at:  Chính chủ cho thuê CCMN 9 tầng tại Hoàng Quốc Việt, có ban công, full đồ, đầy đủ PCCC, ở được luôn\n"
     ]
    },
    {
     "name": "stderr",
     "output_type": "stream",
     "text": []
    },
    {
     "name": "stdout",
     "output_type": "stream",
     "text": [
      "Getting data successfully at:  CCMN 10 tầng xây mới, full đồ tại Xuân Thủy - 30m2 - ô tô đỗ cửa - gần chợ - nhận phòng luôn\n"
     ]
    },
    {
     "name": "stderr",
     "output_type": "stream",
     "text": []
    },
    {
     "name": "stdout",
     "output_type": "stream",
     "text": [
      "Getting data successfully at:  Ngõ 97 Phố Chính Kinh, chung cư full đồ, đầy đủ PCCC, gần rất nhiều trường đại học (NV, TN... )\n"
     ]
    },
    {
     "name": "stderr",
     "output_type": "stream",
     "text": []
    },
    {
     "name": "stdout",
     "output_type": "stream",
     "text": [
      "Getting data successfully at:  Ngõ 190 Nguyễn Trãi, chung cư full đồ, đầy đủ PCCC, gần rất nhiều trường đại học, Lh 0904 253 ***\n"
     ]
    },
    {
     "name": "stderr",
     "output_type": "stream",
     "text": []
    },
    {
     "name": "stdout",
     "output_type": "stream",
     "text": [
      "Getting data successfully at:  Chính chủ cho thuê phòng MP Đê La Thành: 25m2, điều hòa, nóng lạnh, thang máy, giá: 3,5tr/tháng\n"
     ]
    },
    {
     "name": "stderr",
     "output_type": "stream",
     "text": []
    },
    {
     "name": "stdout",
     "output_type": "stream",
     "text": [
      "Getting data successfully at:  Chính chủ cho thuê phòng CCMN ở Đội Cấn. Khu vực Vip của quận Ba Đình, giáp quận Đống Đa, Cầu Giấy\n"
     ]
    },
    {
     "name": "stderr",
     "output_type": "stream",
     "text": []
    },
    {
     "name": "stdout",
     "output_type": "stream",
     "text": [
      "Getting data successfully at:  Cho nữ thuê phòng phố Định Công, tiện ích bạt ngàn, full đồ siêu đẹp\n"
     ]
    },
    {
     "name": "stderr",
     "output_type": "stream",
     "text": []
    },
    {
     "name": "stdout",
     "output_type": "stream",
     "text": [
      "Getting data successfully at:  250 Kim Giang, Thanh Xuân - chính chủ cho thuê căn hộ CC mini, studio nhà trọ cao cấp 0972 362 ***\n"
     ]
    },
    {
     "name": "stderr",
     "output_type": "stream",
     "text": []
    },
    {
     "name": "stdout",
     "output_type": "stream",
     "text": [
      "Getting data successfully at:  250 Kim Giang, Hoàng Mai - chính chủ cho thuê căn hộ CC mini, studio nhà trọ cao cấp 0972 362 ***\n"
     ]
    },
    {
     "name": "stderr",
     "output_type": "stream",
     "text": []
    },
    {
     "name": "stdout",
     "output_type": "stream",
     "text": [
      "Getting data successfully at:  Chính chủ cho thuê CCMN hiện đại tại Chính Kinh - Nhân Chính - gần Ngã Tư Sở full đồ 0972 362 ***\n"
     ]
    },
    {
     "name": "stderr",
     "output_type": "stream",
     "text": []
    },
    {
     "name": "stdout",
     "output_type": "stream",
     "text": [
      "Getting data successfully at:  Còn 2 phòng cho thuê KK nội thất cao cấp tại 203 -Kim Mã, Ba Đình, Hà Nội. Giá 3,9tr và 4,4tr\n"
     ]
    },
    {
     "name": "stderr",
     "output_type": "stream",
     "text": []
    },
    {
     "name": "stdout",
     "output_type": "stream",
     "text": [
      "Getting data successfully at:  CCMN NHÀ MỚI GIÁ RẺ GẦN MẶT ĐƯỜNG LỚN Ở LUÔN\n"
     ]
    },
    {
     "name": "stderr",
     "output_type": "stream",
     "text": []
    },
    {
     "name": "stdout",
     "output_type": "stream",
     "text": [
      "Getting data successfully at:  Cho thuê căn hộ CCMN đầy đủ tiện ích xây mới, PCCC, tự do time, có chỗ để xe máy, mặt đường lớn 8m\n"
     ]
    },
    {
     "name": "stderr",
     "output_type": "stream",
     "text": []
    },
    {
     "name": "stdout",
     "output_type": "stream",
     "text": [
      "Getting data successfully at:  Cho thuê chung cư mini 25m2 có đồ tại số 92 ngõ 34 Hoàng Cầu\n"
     ]
    },
    {
     "name": "stderr",
     "output_type": "stream",
     "text": []
    },
    {
     "name": "stdout",
     "output_type": "stream",
     "text": [
      "Getting data successfully at:  Phòng trọ nguyễn lân thanh xuân hà nội\n"
     ]
    },
    {
     "name": "stderr",
     "output_type": "stream",
     "text": []
    },
    {
     "name": "stdout",
     "output_type": "stream",
     "text": [
      "Getting data successfully at:  500m tới Lotte Center căn hộ full đồ trung tâm Ba Đình - nhận giữ ra Tết giá tốt\n"
     ]
    },
    {
     "name": "stderr",
     "output_type": "stream",
     "text": []
    },
    {
     "name": "stdout",
     "output_type": "stream",
     "text": [
      "Getting data successfully at:  Phòng trọ 50 m2 tầng 3 riêng biệt, đủ đồ cao cấp ngõ 58 Đào tấn\n"
     ]
    },
    {
     "name": "stderr",
     "output_type": "stream",
     "text": []
    },
    {
     "name": "stdout",
     "output_type": "stream",
     "text": [
      "Getting data successfully at:  Phòng full đồ mặt phố khu Phạm Văn Đồng Mai Dịch chỉ 3tr4/tháng\n"
     ]
    },
    {
     "name": "stderr",
     "output_type": "stream",
     "text": []
    },
    {
     "name": "stdout",
     "output_type": "stream",
     "text": [
      "Getting data successfully at:  Cho thuê phòng trọ Kim Mã Thượng, 3 triệu, 25m2, bao đẹp\n"
     ]
    },
    {
     "name": "stderr",
     "output_type": "stream",
     "text": []
    },
    {
     "name": "stdout",
     "output_type": "stream",
     "text": [
      "Getting data successfully at:  Phòng full đồ cả TV tủ lạnh thoáng sáng đường Khương Đình, chỉ 4tr3/tháng\n"
     ]
    },
    {
     "name": "stderr",
     "output_type": "stream",
     "text": []
    },
    {
     "name": "stdout",
     "output_type": "stream",
     "text": [
      "Getting data successfully at:  Cho thuê phòng riêng không chung chủ, có ban công ở Tân Ấp\n"
     ]
    },
    {
     "name": "stderr",
     "output_type": "stream",
     "text": []
    },
    {
     "name": "stdout",
     "output_type": "stream",
     "text": [
      "Getting data successfully at:  Chính chủ thuê phòng tầng 4 khu Giảng Võ - Láng Hạ giá 3 triệu/tháng, dt 30m2\n"
     ]
    },
    {
     "name": "stderr",
     "output_type": "stream",
     "text": [
      "Link: https://batdongsan.com.vn/cho-thue-nha-tro-phong-tro-ha-noi/p5: 100%|██████████| 24/24 [02:36<00:00,  6.52s/link]\n",
      "Crawling first 8 pages:  29%|██▉       | 5/17 [14:49<34:10, 170.88s/page]"
     ]
    },
    {
     "name": "stdout",
     "output_type": "stream",
     "text": [
      "Getting data successfully at:  Cho thuê phòng trọ full đồ từ 1,5tr đến 2,5tr/th ở 61 Hoàng Cầu, Đống Đa, Hà Nội\n",
      "Hoàn thành việc crawl và lưu dữ liệu tại page thứ 1\n"
     ]
    },
    {
     "name": "stderr",
     "output_type": "stream",
     "text": []
    },
    {
     "name": "stdout",
     "output_type": "stream",
     "text": [
      "Getting data successfully at:  Chính chủ cho thuê phòng Studio Ngõ 16 Nguyễn Khánh Toàn, Cầu Giấy, ô tô đỗ cách 10m\n"
     ]
    },
    {
     "name": "stderr",
     "output_type": "stream",
     "text": []
    },
    {
     "name": "stdout",
     "output_type": "stream",
     "text": [
      "Getting data successfully at:  Chính chủ cho thuê phòng Chiến Thắng, Hà Đông. DT 30m2, đầy đủ đồ. Chỉ từ 1,6tr. Vào ở ngay\n"
     ]
    },
    {
     "name": "stderr",
     "output_type": "stream",
     "text": []
    },
    {
     "name": "stdout",
     "output_type": "stream",
     "text": [
      "Getting data successfully at:  Phòng trọ homestay giường tầng rẻ nhất Quận Cầu Giấy, sạch, đẹp, mới. Full tiện ích chỉ từ 1450k\n"
     ]
    },
    {
     "name": "stderr",
     "output_type": "stream",
     "text": []
    },
    {
     "name": "stdout",
     "output_type": "stream",
     "text": [
      "Getting data successfully at:  Ngõ 97 Phố Chính Kinh, chung cư full đồ, đầy đủ PCCC, gần rất nhiều trường đại học (NV, TN... )\n"
     ]
    },
    {
     "name": "stderr",
     "output_type": "stream",
     "text": []
    },
    {
     "name": "stdout",
     "output_type": "stream",
     "text": [
      "Getting data successfully at:  Ngõ 190 Nguyễn Trãi, chung cư full đồ, đầy đủ PCCC, gần rất nhiều trường đại học, Lh 0904 253 ***\n"
     ]
    },
    {
     "name": "stderr",
     "output_type": "stream",
     "text": []
    },
    {
     "name": "stdout",
     "output_type": "stream",
     "text": [
      "Getting data successfully at:  Chính chủ cho thuê phòng MP Đê La Thành: 25m2, điều hòa, nóng lạnh, thang máy, giá: 3,5tr/tháng\n"
     ]
    },
    {
     "name": "stderr",
     "output_type": "stream",
     "text": []
    },
    {
     "name": "stdout",
     "output_type": "stream",
     "text": [
      "Getting data successfully at:  Chính chủ cho thuê phòng CCMN ở Đội Cấn. Khu vực Vip của quận Ba Đình, giáp quận Đống Đa, Cầu Giấy\n"
     ]
    },
    {
     "name": "stderr",
     "output_type": "stream",
     "text": []
    },
    {
     "name": "stdout",
     "output_type": "stream",
     "text": [
      "Getting data successfully at:  Nhà view cực chill chill nóng lạnh điều hòa đủ cả 24/7\n"
     ]
    },
    {
     "name": "stderr",
     "output_type": "stream",
     "text": []
    },
    {
     "name": "stdout",
     "output_type": "stream",
     "text": [
      "Getting data successfully at:  Cho thuê CCMN Mễ Trì, gần KeangNam có ban công, bếp riêng biệt,gần chỗ gửi ôtô 5tr/th.LH 0833 811 ***\n"
     ]
    },
    {
     "name": "stderr",
     "output_type": "stream",
     "text": []
    },
    {
     "name": "stdout",
     "output_type": "stream",
     "text": [
      "Getting data successfully at:  Cho thuê phòng trọ tại Tứ Hiệp, Thanh Trì\n"
     ]
    },
    {
     "name": "stderr",
     "output_type": "stream",
     "text": []
    },
    {
     "name": "stdout",
     "output_type": "stream",
     "text": [
      "Getting data successfully at:  Chính chủ cho thuê phòng vào ở ngay- gần bến xe Nước Ngầm\n"
     ]
    },
    {
     "name": "stderr",
     "output_type": "stream",
     "text": []
    },
    {
     "name": "stdout",
     "output_type": "stream",
     "text": [
      "Getting data successfully at:  CCMN full đồ đối diện JW Marriott có ô thoáng sang xịn mịn\n"
     ]
    },
    {
     "name": "stderr",
     "output_type": "stream",
     "text": []
    },
    {
     "name": "stdout",
     "output_type": "stream",
     "text": [
      "Getting data successfully at:  CCMN full đồ ban công thoáng - khu vực Văn Quán Chiến Thắng - ở luôn - ô tô đỗ cửa\n"
     ]
    },
    {
     "name": "stderr",
     "output_type": "stream",
     "text": []
    },
    {
     "name": "stdout",
     "output_type": "stream",
     "text": [
      "Getting data successfully at:  Chính chủ cho thuê giường tầng số 16B8 Trần Quốc Hoàn\n"
     ]
    },
    {
     "name": "stderr",
     "output_type": "stream",
     "text": []
    },
    {
     "name": "stdout",
     "output_type": "stream",
     "text": [
      "Getting data successfully at:  Trống 1 phòng tại Xuân La 30m2 - ở được luôn\n"
     ]
    },
    {
     "name": "stderr",
     "output_type": "stream",
     "text": []
    },
    {
     "name": "stdout",
     "output_type": "stream",
     "text": [
      "Getting data successfully at:  Cho thuê phòng 40m2 Minh Khai, full nội thất mới, không chung chủ\n"
     ]
    },
    {
     "name": "stderr",
     "output_type": "stream",
     "text": []
    },
    {
     "name": "stdout",
     "output_type": "stream",
     "text": [
      "Getting data successfully at:  Cho thuê gấp 2 phòng trọ tại đường Minh Khai, 4 triệu/2p, 38 m2\n"
     ]
    },
    {
     "name": "stderr",
     "output_type": "stream",
     "text": []
    },
    {
     "name": "stdout",
     "output_type": "stream",
     "text": [
      "Getting data successfully at:  Chính chủ cho thuê phòng tại ngõ 82 phố Mễ Trì Hạ\n"
     ]
    },
    {
     "name": "stderr",
     "output_type": "stream",
     "text": []
    },
    {
     "name": "stdout",
     "output_type": "stream",
     "text": [
      "Getting data successfully at:  Chính chủ cho thuê phòng trọ tại Bia Bà, La Khê - Hà Đông giá siêu rẻ\n"
     ]
    },
    {
     "name": "stderr",
     "output_type": "stream",
     "text": []
    },
    {
     "name": "stdout",
     "output_type": "stream",
     "text": [
      "Getting data successfully at:  Ngõ 241 Yên Xá, Tân Triều, Thanh Trì, Hà Nội Diện tích: 25m vuông vskk 2,6tr\n"
     ]
    },
    {
     "name": "stderr",
     "output_type": "stream",
     "text": []
    },
    {
     "name": "stdout",
     "output_type": "stream",
     "text": [
      "Getting data successfully at:  Chính chủ cho thuê căn hộ studio + 1 gác xép / chính chủ\n"
     ]
    },
    {
     "name": "stderr",
     "output_type": "stream",
     "text": []
    },
    {
     "name": "stdout",
     "output_type": "stream",
     "text": [
      "Getting data successfully at:  Cho thuê chung cư 30m2 full đồ tại Ba Đình\n"
     ]
    },
    {
     "name": "stderr",
     "output_type": "stream",
     "text": []
    },
    {
     "name": "stdout",
     "output_type": "stream",
     "text": [
      "Getting data successfully at:  Chính chủ cho thuê chung cư mini 1 khách 1 ngủ ngay cạnh hồ Văn Quán\n"
     ]
    },
    {
     "name": "stderr",
     "output_type": "stream",
     "text": [
      "Link: https://batdongsan.com.vn/cho-thue-nha-tro-phong-tro-ha-noi/p6: 100%|██████████| 24/24 [02:34<00:00,  6.45s/link]\n",
      "Crawling first 8 pages:  35%|███▌      | 6/17 [17:29<30:36, 166.99s/page]"
     ]
    },
    {
     "name": "stdout",
     "output_type": "stream",
     "text": [
      "Getting data successfully at:  Chính chủ cho thuê CHDV ngõ 210 Đội Cấn 50m2 có ban công full nội thất có tầng hầm để xe 7 tr/th\n",
      "Hoàn thành việc crawl và lưu dữ liệu tại page thứ 1\n"
     ]
    },
    {
     "name": "stderr",
     "output_type": "stream",
     "text": []
    },
    {
     "name": "stdout",
     "output_type": "stream",
     "text": [
      "Getting data successfully at:  Cho thuê phòng trọ full đồ tại gần KĐT Dương Nội 35 m2, chỉ hơn 3 triệu\n"
     ]
    },
    {
     "name": "stderr",
     "output_type": "stream",
     "text": []
    },
    {
     "name": "stdout",
     "output_type": "stream",
     "text": [
      "Getting data successfully at:  Chính chủ cho thuê CCMN tại 45/181 Yên Lãng, Đống Đa: LH 0989 344 ***\n"
     ]
    },
    {
     "name": "stderr",
     "output_type": "stream",
     "text": []
    },
    {
     "name": "stdout",
     "output_type": "stream",
     "text": [
      "Getting data successfully at:  CHO THUÊ CĂN HỘ STUDIO NẰM NGAY ĐƯỜNG LỚN PHẠM VĂN ĐỒNG, CỔ NHUẾ\n"
     ]
    },
    {
     "name": "stderr",
     "output_type": "stream",
     "text": []
    },
    {
     "name": "stdout",
     "output_type": "stream",
     "text": [
      "Getting data successfully at:  Ngõ 97 Phố Chính Kinh, chung cư full đồ, đầy đủ PCCC, gần rất nhiều trường đại học (NV, TN... )\n"
     ]
    },
    {
     "name": "stderr",
     "output_type": "stream",
     "text": []
    },
    {
     "name": "stdout",
     "output_type": "stream",
     "text": [
      "Getting data successfully at:  Ngõ 190 Nguyễn Trãi, chung cư full đồ, đầy đủ PCCC, gần rất nhiều trường đại học, Lh 0904 253 ***\n"
     ]
    },
    {
     "name": "stderr",
     "output_type": "stream",
     "text": []
    },
    {
     "name": "stdout",
     "output_type": "stream",
     "text": [
      "Getting data successfully at:  Chính chủ cho thuê phòng MP Đê La Thành: 25m2, điều hòa, nóng lạnh, thang máy, giá: 3,5tr/tháng\n"
     ]
    },
    {
     "name": "stderr",
     "output_type": "stream",
     "text": []
    },
    {
     "name": "stdout",
     "output_type": "stream",
     "text": [
      "Getting data successfully at:  Chính chủ cho thuê phòng CCMN ở Đội Cấn. Khu vực Vip của quận Ba Đình, giáp quận Đống Đa, Cầu Giấy\n"
     ]
    },
    {
     "name": "stderr",
     "output_type": "stream",
     "text": []
    },
    {
     "name": "stdout",
     "output_type": "stream",
     "text": [
      "Getting data successfully at:  Chính chủ cho thuê phòng 35m2 tại khu đô thị Hinode Royal Park giá rẻ đầy đủ đồ sẵn vào ở ngay\n"
     ]
    },
    {
     "name": "stderr",
     "output_type": "stream",
     "text": []
    },
    {
     "name": "stdout",
     "output_type": "stream",
     "text": [
      "Getting data successfully at:  Chính chủ cho thuê p 38m đẹp khép kín ngõ 3 Thọ lão có ĐH, NL, MG, bếp không chung chủ 3,6tr/th\n"
     ]
    },
    {
     "name": "stderr",
     "output_type": "stream",
     "text": []
    },
    {
     "name": "stdout",
     "output_type": "stream",
     "text": [
      "Getting data successfully at:  Cho thuê phòng trọ mới tinh tại Tân Triều Full đồ cực rẻ, 25m2, PKK. Thuận tiện. Chỉ 3,5tr/ tháng\n"
     ]
    },
    {
     "name": "stderr",
     "output_type": "stream",
     "text": []
    },
    {
     "name": "stdout",
     "output_type": "stream",
     "text": [
      "Getting data successfully at:  TingTong 39 - phòng full đồ ngay gần đại học Hà Nội, ga Phùng Khoang, tiện ích đầy đủ\n"
     ]
    },
    {
     "name": "stderr",
     "output_type": "stream",
     "text": []
    },
    {
     "name": "stdout",
     "output_type": "stream",
     "text": [
      "Getting data successfully at:  Chỉ 2,8tr/phòng đã full đồ ô tô đỗ cửa Xuân Phương. Ra Mỹ Đình 5ph sang Vinsmart City Tây Mỗ 3ph\n"
     ]
    },
    {
     "name": "stderr",
     "output_type": "stream",
     "text": []
    },
    {
     "name": "stdout",
     "output_type": "stream",
     "text": [
      "Getting data successfully at:  Cho thuê phòng khép kín mặt ngõ 157 Chùa Láng\n"
     ]
    },
    {
     "name": "stderr",
     "output_type": "stream",
     "text": []
    },
    {
     "name": "stdout",
     "output_type": "stream",
     "text": [
      "Getting data successfully at:  Cho thuê phòng gác xép 12m2 vệ sinh riêng số 27 ngõ 33 Lãng Yên HN\n"
     ]
    },
    {
     "name": "stderr",
     "output_type": "stream",
     "text": []
    },
    {
     "name": "stdout",
     "output_type": "stream",
     "text": [
      "Getting data successfully at:  Chính chủ cho thuê phòng tại ngõ 66B Triều Khúc full NT. Có ban công, khép kín. Giá 3tr3 0908 764 ***\n"
     ]
    },
    {
     "name": "stderr",
     "output_type": "stream",
     "text": []
    },
    {
     "name": "stdout",
     "output_type": "stream",
     "text": [
      "Getting data successfully at:  Lý Thường Kiệt tặng 500k trải nghiệm nhà mặt phố\n"
     ]
    },
    {
     "name": "stderr",
     "output_type": "stream",
     "text": []
    },
    {
     "name": "stdout",
     "output_type": "stream",
     "text": [
      "Getting data successfully at:  Có phòng trống tại nhà trọ số 46, ngõ 204, Trần Duy Hưng\n"
     ]
    },
    {
     "name": "stderr",
     "output_type": "stream",
     "text": []
    },
    {
     "name": "stdout",
     "output_type": "stream",
     "text": [
      "Getting data successfully at:  Chính chủ cho thuê căn hộ studio mới, full đồ - có ban công\n"
     ]
    },
    {
     "name": "stderr",
     "output_type": "stream",
     "text": []
    },
    {
     "name": "stdout",
     "output_type": "stream",
     "text": [
      "Getting data successfully at:  Phòng Trần Cung, 30m2, ban công thoáng, free tiền phòng hết tháng 2\n"
     ]
    },
    {
     "name": "stderr",
     "output_type": "stream",
     "text": []
    },
    {
     "name": "stdout",
     "output_type": "stream",
     "text": [
      "Getting data successfully at:  Cho thuê nhà có điều hòa ở Hà Đông\n"
     ]
    },
    {
     "name": "stderr",
     "output_type": "stream",
     "text": []
    },
    {
     "name": "stdout",
     "output_type": "stream",
     "text": [
      "Getting data successfully at:  Cho thuê phòng riêng không chung chủ, nhà có ban công ở Ba Đình\n"
     ]
    },
    {
     "name": "stderr",
     "output_type": "stream",
     "text": []
    },
    {
     "name": "stdout",
     "output_type": "stream",
     "text": [
      "Getting data successfully at:  Phòng từ 4,1 triệu - PCCC - ngõ 26 Mỹ Đình, BX Mỹ Đình, CĐ FPT - Bách Khoa, ĐH Thương mại, Quốc gia\n"
     ]
    },
    {
     "name": "stderr",
     "output_type": "stream",
     "text": []
    },
    {
     "name": "stdout",
     "output_type": "stream",
     "text": [
      "Getting data successfully at:  Cho thuê phòng trọ sinh viên và hộ gia đình ở KĐT Vân Canh HUD, LH 0945 181 ***\n"
     ]
    },
    {
     "name": "stderr",
     "output_type": "stream",
     "text": [
      "Link: https://batdongsan.com.vn/cho-thue-nha-tro-phong-tro-ha-noi/p7: 100%|██████████| 24/24 [02:39<00:00,  6.64s/link]\n",
      "Crawling first 8 pages:  41%|████      | 7/17 [20:13<27:39, 165.98s/page]"
     ]
    },
    {
     "name": "stdout",
     "output_type": "stream",
     "text": [
      "Getting data successfully at:  Cho thuê phòng trọ mặt phố Lê Quý Đôn, 18m2 giá 3tr/th, quận Hai Bà Trưng an ninh đảm bảo văn minh\n",
      "Hoàn thành việc crawl và lưu dữ liệu tại page thứ 1\n"
     ]
    },
    {
     "name": "stderr",
     "output_type": "stream",
     "text": []
    },
    {
     "name": "stdout",
     "output_type": "stream",
     "text": [
      "Getting data successfully at:  Chính chủ cho thuê căn hộ khép kín - 387/31 Vũ Tông Phan - nhà mới full đồ ô tô vào - LH 0988 389 ***\n"
     ]
    },
    {
     "name": "stderr",
     "output_type": "stream",
     "text": []
    },
    {
     "name": "stdout",
     "output_type": "stream",
     "text": [
      "Getting data successfully at:  Phòng ở ngay đường Đỗ Đức Dục - Mễ Trì, DT 32m2 khép kín, có gác xép rộng, cao\n"
     ]
    },
    {
     "name": "stderr",
     "output_type": "stream",
     "text": []
    },
    {
     "name": "stdout",
     "output_type": "stream",
     "text": [
      "Getting data successfully at:  Phòng rộng thoáng, view đẹp đủ nội thất giá 4,3 triệu/th tại Phố Trạm (gần Aeon Mall)\n"
     ]
    },
    {
     "name": "stderr",
     "output_type": "stream",
     "text": []
    },
    {
     "name": "stdout",
     "output_type": "stream",
     "text": [
      "Getting data successfully at:  Ngõ 97 Phố Chính Kinh, chung cư full đồ, đầy đủ PCCC, gần rất nhiều trường đại học (NV, TN... )\n"
     ]
    },
    {
     "name": "stderr",
     "output_type": "stream",
     "text": []
    },
    {
     "name": "stdout",
     "output_type": "stream",
     "text": [
      "Getting data successfully at:  Ngõ 190 Nguyễn Trãi, chung cư full đồ, đầy đủ PCCC, gần rất nhiều trường đại học, Lh 0904 253 ***\n"
     ]
    },
    {
     "name": "stderr",
     "output_type": "stream",
     "text": []
    },
    {
     "name": "stdout",
     "output_type": "stream",
     "text": [
      "Getting data successfully at:  Chính chủ cho thuê phòng MP Đê La Thành: 25m2, điều hòa, nóng lạnh, thang máy, giá: 3,5tr/tháng\n"
     ]
    },
    {
     "name": "stderr",
     "output_type": "stream",
     "text": []
    },
    {
     "name": "stdout",
     "output_type": "stream",
     "text": [
      "Getting data successfully at:  Chính chủ cho thuê phòng CCMN ở Đội Cấn. Khu vực Vip của quận Ba Đình, giáp quận Đống Đa, Cầu Giấy\n"
     ]
    },
    {
     "name": "stderr",
     "output_type": "stream",
     "text": []
    },
    {
     "name": "stdout",
     "output_type": "stream",
     "text": [
      "Getting data successfully at:  Cho thuê phòng full tiện nghi giá 3.3tr/th tại 421 Bát Khối, đối diện Aeon Mall Long Biên\n"
     ]
    },
    {
     "name": "stderr",
     "output_type": "stream",
     "text": []
    },
    {
     "name": "stdout",
     "output_type": "stream",
     "text": [
      "Getting data successfully at:  Cho thuê CCMN ngay trường Chu Văn An, 25m - 35m2 full đồ, sân để xe riêng, ô tô vào. 3.3 triệu/th\n"
     ]
    },
    {
     "name": "stderr",
     "output_type": "stream",
     "text": []
    },
    {
     "name": "stdout",
     "output_type": "stream",
     "text": [
      "Getting data successfully at:  CC cho thuê phòng 30m2, full đồ, Tây Nam Linh Đàm, đối diện cổng trường Chu Văn An, ô tô, 3.3 triệu\n"
     ]
    },
    {
     "name": "stderr",
     "output_type": "stream",
     "text": []
    },
    {
     "name": "stdout",
     "output_type": "stream",
     "text": [
      "Getting data successfully at:  Cho thuê nhà chính chủ, đủ tiện nghi, 260 Kim Ngưu, Lạc Trung, Hà Nội\n"
     ]
    },
    {
     "name": "stderr",
     "output_type": "stream",
     "text": []
    },
    {
     "name": "stdout",
     "output_type": "stream",
     "text": [
      "Getting data successfully at:  TingTong 119 - CCMN full đồ- ôtô đỗ cách 150m - gần đường Trung Văn- Lương Thế Vinh -Lê Văn Lương\n"
     ]
    },
    {
     "name": "stderr",
     "output_type": "stream",
     "text": []
    },
    {
     "name": "stdout",
     "output_type": "stream",
     "text": [
      "Getting data successfully at:  TingTong 115 - Studio cực chất mới tinh tiện ích đầy đủ Văn Quán, Hà Đông\n"
     ]
    },
    {
     "name": "stderr",
     "output_type": "stream",
     "text": []
    },
    {
     "name": "stdout",
     "output_type": "stream",
     "text": [
      "Getting data successfully at:  TingTong 144 - Phòng gác xép - tiện nghi - Ngô Thì Sỹ, Vạn Phúc - giá siêu rẻ ở luôn\n"
     ]
    },
    {
     "name": "stderr",
     "output_type": "stream",
     "text": []
    },
    {
     "name": "stdout",
     "output_type": "stream",
     "text": [
      "Getting data successfully at:  TingTong 150 - Siêu phẩm mới tinh ngay gần BigC, Đại Lộ Thăng Long, Mễ Trì - Phòng trống vào ở ngay\n"
     ]
    },
    {
     "name": "stderr",
     "output_type": "stream",
     "text": []
    },
    {
     "name": "stdout",
     "output_type": "stream",
     "text": [
      "Getting data successfully at:  TingTong 59 - CCMN full đồ ô tô đỗ cửa ngay ngã tư Vạn Phúc - Tố Hữu\n"
     ]
    },
    {
     "name": "stderr",
     "output_type": "stream",
     "text": []
    },
    {
     "name": "stdout",
     "output_type": "stream",
     "text": [
      "Getting data successfully at:  TingTong 149 - phòng full đồ từ A - Z có gác xép - ở ngay - cách đường Nguyễn Xiển 100m\n"
     ]
    },
    {
     "name": "stderr",
     "output_type": "stream",
     "text": []
    },
    {
     "name": "stdout",
     "output_type": "stream",
     "text": [
      "Getting data successfully at:  Tingtong 28 - nhà trọ đủ tiện ích - giá rẻ - vào ở ngay - cửa sổ thoáng khu vực Hà Đông\n"
     ]
    },
    {
     "name": "stderr",
     "output_type": "stream",
     "text": []
    },
    {
     "name": "stdout",
     "output_type": "stream",
     "text": [
      "Getting data successfully at:  Tingtong 95 - Gác xép cao full đồ 500m ra Nguyễn Trãi, 200m ra Nguyễn Xiển, 2km Ngã Tư Sở full đồ\n"
     ]
    },
    {
     "name": "stderr",
     "output_type": "stream",
     "text": []
    },
    {
     "name": "stdout",
     "output_type": "stream",
     "text": [
      "Getting data successfully at:  Cho thuê nhà trọ tại Hào Nam, 1,9 triệu, đẹp, nhiều tiện ích\n"
     ]
    },
    {
     "name": "stderr",
     "output_type": "stream",
     "text": []
    },
    {
     "name": "stdout",
     "output_type": "stream",
     "text": [
      "Getting data successfully at:  TingTong 71 - gác xép full đồ có ban công - tách bếp ĐH Thăng Long, The Manor, 3km Ngã Tư Sở\n"
     ]
    },
    {
     "name": "stderr",
     "output_type": "stream",
     "text": []
    },
    {
     "name": "stdout",
     "output_type": "stream",
     "text": [
      "Getting data successfully at:  TingTong 52 - phòng trọ mới tinh tại Kim Giang full đồ - bếp tách riêng - cửa sổ thoáng\n"
     ]
    },
    {
     "name": "stderr",
     "output_type": "stream",
     "text": []
    },
    {
     "name": "stdout",
     "output_type": "stream",
     "text": [
      "Getting data successfully at:  Tingtong 78 - CCMN full đồ ngay 619 Vũ Tông Phan ban công siêu thoáng - ô tô đỗ cửa ở luôn\n"
     ]
    },
    {
     "name": "stderr",
     "output_type": "stream",
     "text": [
      "Link: https://batdongsan.com.vn/cho-thue-nha-tro-phong-tro-ha-noi/p8: 100%|██████████| 24/24 [02:41<00:00,  6.75s/link]\n",
      "Crawling first 8 pages:  47%|████▋     | 8/17 [22:59<24:55, 166.15s/page]"
     ]
    },
    {
     "name": "stdout",
     "output_type": "stream",
     "text": [
      "Getting data successfully at:  TingTong 124 - gác xép khu vực Hồ Tùng Mậu ĐH Quốc Gia, Thương Mại, Hunre ở được luôn\n",
      "Hoàn thành việc crawl và lưu dữ liệu tại page thứ 1\n"
     ]
    },
    {
     "name": "stderr",
     "output_type": "stream",
     "text": []
    },
    {
     "name": "stdout",
     "output_type": "stream",
     "text": [
      "Getting data successfully at:  TingTong 106 - căn hộ cao cấp full đồ ban công rộng rãi ô tô đỗ khu vực Nghĩa Đô - Cầu Giấy\n"
     ]
    },
    {
     "name": "stderr",
     "output_type": "stream",
     "text": []
    },
    {
     "name": "stdout",
     "output_type": "stream",
     "text": [
      "Getting data successfully at:  TingTong 75 - CCMN ở trung tâm Xuân La - Tây Hồ, 500m ra Hồ Tây\n"
     ]
    },
    {
     "name": "stderr",
     "output_type": "stream",
     "text": []
    },
    {
     "name": "stdout",
     "output_type": "stream",
     "text": [
      "Getting data successfully at:  TingTong 13 - CCMN giá rẻ sinh viên khu vực Bắc Từ Liêm, Cổ Nhuế gần KĐT Resco\n"
     ]
    },
    {
     "name": "stderr",
     "output_type": "stream",
     "text": []
    },
    {
     "name": "stdout",
     "output_type": "stream",
     "text": [
      "Getting data successfully at:  Ngõ 97 Phố Chính Kinh, chung cư full đồ, đầy đủ PCCC, gần rất nhiều trường đại học (NV, TN... )\n"
     ]
    },
    {
     "name": "stderr",
     "output_type": "stream",
     "text": []
    },
    {
     "name": "stdout",
     "output_type": "stream",
     "text": [
      "Getting data successfully at:  Ngõ 190 Nguyễn Trãi, chung cư full đồ, đầy đủ PCCC, gần rất nhiều trường đại học, Lh 0904 253 ***\n"
     ]
    },
    {
     "name": "stderr",
     "output_type": "stream",
     "text": []
    },
    {
     "name": "stdout",
     "output_type": "stream",
     "text": [
      "Getting data successfully at:  Chính chủ cho thuê phòng MP Đê La Thành: 25m2, điều hòa, nóng lạnh, thang máy, giá: 3,5tr/tháng\n"
     ]
    },
    {
     "name": "stderr",
     "output_type": "stream",
     "text": []
    },
    {
     "name": "stdout",
     "output_type": "stream",
     "text": [
      "Getting data successfully at:  Chính chủ cho thuê phòng CCMN ở Đội Cấn. Khu vực Vip của quận Ba Đình, giáp quận Đống Đa, Cầu Giấy\n"
     ]
    },
    {
     "name": "stderr",
     "output_type": "stream",
     "text": []
    },
    {
     "name": "stdout",
     "output_type": "stream",
     "text": [
      "Getting data successfully at:  TingTong 22 - căn hộ giá rẻ nhất khu vực Xuân Đỉnh - Hồ Tây đủ đồ (không điều hòa)\n"
     ]
    },
    {
     "name": "stderr",
     "output_type": "stream",
     "text": []
    },
    {
     "name": "stdout",
     "output_type": "stream",
     "text": [
      "Getting data successfully at:  TingTong 110 - cho thuê phòng full đồ, ô tô đỗ cửa khu Xuân La - Tây Hồ\n"
     ]
    },
    {
     "name": "stderr",
     "output_type": "stream",
     "text": []
    },
    {
     "name": "stdout",
     "output_type": "stream",
     "text": [
      "Getting data successfully at:  TingTong 104 - CCMN gác xép tiện nghi giá tốt khu vực CV Hòa Bình, Ngoại Giao Đoàn\n"
     ]
    },
    {
     "name": "stderr",
     "output_type": "stream",
     "text": []
    },
    {
     "name": "stdout",
     "output_type": "stream",
     "text": [
      "Getting data successfully at:  TingTong 72 - CCMN ngõ 177 Cầu Diễn - Cuối Hồ Tùng Mậu gần Thương Mại - FPT\n"
     ]
    },
    {
     "name": "stderr",
     "output_type": "stream",
     "text": []
    },
    {
     "name": "stdout",
     "output_type": "stream",
     "text": [
      "Getting data successfully at:  Cho thuê chung cư mini hàng loại vip rẻ hơn 20% thị trường, rẻ nhất (hệ thống PCCC, chuẩn)\n"
     ]
    },
    {
     "name": "stderr",
     "output_type": "stream",
     "text": []
    },
    {
     "name": "stdout",
     "output_type": "stream",
     "text": [
      "Getting data successfully at:  Cho thuê phòng trọ khu Lideco, Hoài Đức gần trường ĐH Công nghiệp giá từ 2,5 triệu\n"
     ]
    },
    {
     "name": "stderr",
     "output_type": "stream",
     "text": []
    },
    {
     "name": "stdout",
     "output_type": "stream",
     "text": [
      "Getting data successfully at:  Phòng trọ vip khép kín, mới đẹp, thang máy Nguyễn Công Hoan\n"
     ]
    },
    {
     "name": "stderr",
     "output_type": "stream",
     "text": []
    },
    {
     "name": "stdout",
     "output_type": "stream",
     "text": [
      "Getting data successfully at:  Phòng trọ vip, đối diện hồ Thành Công, khép kín, mới đẹp, thang máy\n"
     ]
    },
    {
     "name": "stderr",
     "output_type": "stream",
     "text": []
    },
    {
     "name": "stdout",
     "output_type": "stream",
     "text": [
      "Getting data successfully at:  Phòng trọ vip, đối diện hồ Ngọc Khánh, khép kín, mới đẹp, thang máy\n"
     ]
    },
    {
     "name": "stderr",
     "output_type": "stream",
     "text": []
    },
    {
     "name": "stdout",
     "output_type": "stream",
     "text": [
      "Getting data successfully at:  Chính chủ cho thuê căn hộ dịch vụ tại KĐT Văn Phú, Hà Đông, nhà mới bóc tem, full nội thất\n"
     ]
    },
    {
     "name": "stderr",
     "output_type": "stream",
     "text": []
    },
    {
     "name": "stdout",
     "output_type": "stream",
     "text": [
      "Getting data successfully at:  Cho thuê phòng ngõ 402 Mỹ Đình, full đồ, nhà thoáng, ở ngay, giờ tự do giá từ 2.8 tr/ tháng\n"
     ]
    },
    {
     "name": "stderr",
     "output_type": "stream",
     "text": []
    },
    {
     "name": "stdout",
     "output_type": "stream",
     "text": [
      "Getting data successfully at:  Chính chủ cho thuê CCMN 575 Kim Mã, Ba Đình 1N1K full đồ đẹp hơn khách sạn 5*\n"
     ]
    },
    {
     "name": "stderr",
     "output_type": "stream",
     "text": []
    },
    {
     "name": "stdout",
     "output_type": "stream",
     "text": [
      "Getting data successfully at:  Cho thuê phòng trọ nhà cấp 4, có 2 phòng khác nhau\n"
     ]
    },
    {
     "name": "stderr",
     "output_type": "stream",
     "text": []
    },
    {
     "name": "stdout",
     "output_type": "stream",
     "text": [
      "Getting data successfully at:  Cho thuê 2 ngủ 1 khách Dương Nội, gần Aeon Mall Hà Đông, có lot ô tô, full đồ giá từ 7 tr/th\n"
     ]
    },
    {
     "name": "stderr",
     "output_type": "stream",
     "text": [
      "Link: https://batdongsan.com.vn/cho-thue-nha-tro-phong-tro-ha-noi/p9:  88%|████████▊ | 21/24 [02:33<00:21,  7.32s/link]\n",
      "Crawling first 8 pages: 100%|██████████| 17/17 [25:38<00:00, 90.49s/page]\n"
     ]
    }
   ],
   "source": [
    "from tqdm import tqdm\n",
    "from selenium import webdriver\n",
    "driver = webdriver.Chrome()\n",
    "for i in tqdm(range(17), desc=\"Crawling first 8 pages\", unit=\"page\"):\n",
    "        data = get_data(i + 1, driver)\n",
    "# Đóng trình duyệt\n",
    "driver.quit()"
   ]
  },
  {
   "cell_type": "code",
   "execution_count": null,
   "metadata": {},
   "outputs": [],
   "source": []
  }
 ],
 "metadata": {
  "kernelspec": {
   "display_name": "Python 3",
   "language": "python",
   "name": "python3"
  },
  "language_info": {
   "codemirror_mode": {
    "name": "ipython",
    "version": 3
   },
   "file_extension": ".py",
   "mimetype": "text/x-python",
   "name": "python",
   "nbconvert_exporter": "python",
   "pygments_lexer": "ipython3",
   "version": "3.12.3"
  }
 },
 "nbformat": 4,
 "nbformat_minor": 2
}
