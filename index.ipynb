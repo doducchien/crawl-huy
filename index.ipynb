{
 "cells": [
  {
   "cell_type": "code",
   "execution_count": 2,
   "metadata": {},
   "outputs": [
    {
     "name": "stdout",
     "output_type": "stream",
     "text": [
      "Collecting selenium\n",
      "  Downloading selenium-4.27.1-py3-none-any.whl.metadata (7.1 kB)\n",
      "Collecting urllib3<3,>=1.26 (from urllib3[socks]<3,>=1.26->selenium)\n",
      "  Downloading urllib3-2.3.0-py3-none-any.whl.metadata (6.5 kB)\n",
      "Collecting trio~=0.17 (from selenium)\n",
      "  Downloading trio-0.28.0-py3-none-any.whl.metadata (8.5 kB)\n",
      "Collecting trio-websocket~=0.9 (from selenium)\n",
      "  Downloading trio_websocket-0.11.1-py3-none-any.whl.metadata (4.7 kB)\n",
      "Collecting certifi>=2021.10.8 (from selenium)\n",
      "  Downloading certifi-2024.12.14-py3-none-any.whl.metadata (2.3 kB)\n",
      "Collecting typing_extensions~=4.9 (from selenium)\n",
      "  Downloading typing_extensions-4.12.2-py3-none-any.whl.metadata (3.0 kB)\n",
      "Collecting websocket-client~=1.8 (from selenium)\n",
      "  Downloading websocket_client-1.8.0-py3-none-any.whl.metadata (8.0 kB)\n",
      "Collecting attrs>=23.2.0 (from trio~=0.17->selenium)\n",
      "  Downloading attrs-24.3.0-py3-none-any.whl.metadata (11 kB)\n",
      "Collecting sortedcontainers (from trio~=0.17->selenium)\n",
      "  Downloading sortedcontainers-2.4.0-py2.py3-none-any.whl.metadata (10 kB)\n",
      "Collecting idna (from trio~=0.17->selenium)\n",
      "  Downloading idna-3.10-py3-none-any.whl.metadata (10 kB)\n",
      "Collecting outcome (from trio~=0.17->selenium)\n",
      "  Downloading outcome-1.3.0.post0-py2.py3-none-any.whl.metadata (2.6 kB)\n",
      "Collecting sniffio>=1.3.0 (from trio~=0.17->selenium)\n",
      "  Downloading sniffio-1.3.1-py3-none-any.whl.metadata (3.9 kB)\n",
      "Collecting cffi>=1.14 (from trio~=0.17->selenium)\n",
      "  Downloading cffi-1.17.1-cp312-cp312-win_amd64.whl.metadata (1.6 kB)\n",
      "Collecting wsproto>=0.14 (from trio-websocket~=0.9->selenium)\n",
      "  Downloading wsproto-1.2.0-py3-none-any.whl.metadata (5.6 kB)\n",
      "Collecting pysocks!=1.5.7,<2.0,>=1.5.6 (from urllib3[socks]<3,>=1.26->selenium)\n",
      "  Downloading PySocks-1.7.1-py3-none-any.whl.metadata (13 kB)\n",
      "Collecting pycparser (from cffi>=1.14->trio~=0.17->selenium)\n",
      "  Downloading pycparser-2.22-py3-none-any.whl.metadata (943 bytes)\n",
      "Collecting h11<1,>=0.9.0 (from wsproto>=0.14->trio-websocket~=0.9->selenium)\n",
      "  Downloading h11-0.14.0-py3-none-any.whl.metadata (8.2 kB)\n",
      "Downloading selenium-4.27.1-py3-none-any.whl (9.7 MB)\n",
      "   ---------------------------------------- 0.0/9.7 MB ? eta -:--:--\n",
      "   - -------------------------------------- 0.3/9.7 MB ? eta -:--:--\n",
      "   --- ------------------------------------ 0.8/9.7 MB 5.6 MB/s eta 0:00:02\n",
      "   ------- -------------------------------- 1.8/9.7 MB 4.0 MB/s eta 0:00:02\n",
      "   ------------ --------------------------- 3.1/9.7 MB 4.7 MB/s eta 0:00:02\n",
      "   ------------------ --------------------- 4.5/9.7 MB 5.1 MB/s eta 0:00:02\n",
      "   ----------------------- ---------------- 5.8/9.7 MB 5.3 MB/s eta 0:00:01\n",
      "   ----------------------------- ---------- 7.1/9.7 MB 5.5 MB/s eta 0:00:01\n",
      "   ----------------------------------- ---- 8.7/9.7 MB 5.7 MB/s eta 0:00:01\n",
      "   ---------------------------------------- 9.7/9.7 MB 5.6 MB/s eta 0:00:00\n",
      "Downloading certifi-2024.12.14-py3-none-any.whl (164 kB)\n",
      "Downloading trio-0.28.0-py3-none-any.whl (486 kB)\n",
      "Downloading trio_websocket-0.11.1-py3-none-any.whl (17 kB)\n",
      "Downloading typing_extensions-4.12.2-py3-none-any.whl (37 kB)\n",
      "Downloading urllib3-2.3.0-py3-none-any.whl (128 kB)\n",
      "Downloading websocket_client-1.8.0-py3-none-any.whl (58 kB)\n",
      "Downloading attrs-24.3.0-py3-none-any.whl (63 kB)\n",
      "Downloading cffi-1.17.1-cp312-cp312-win_amd64.whl (181 kB)\n",
      "Downloading PySocks-1.7.1-py3-none-any.whl (16 kB)\n",
      "Downloading sniffio-1.3.1-py3-none-any.whl (10 kB)\n",
      "Downloading wsproto-1.2.0-py3-none-any.whl (24 kB)\n",
      "Downloading idna-3.10-py3-none-any.whl (70 kB)\n",
      "Downloading outcome-1.3.0.post0-py2.py3-none-any.whl (10 kB)\n",
      "Downloading sortedcontainers-2.4.0-py2.py3-none-any.whl (29 kB)\n",
      "Downloading h11-0.14.0-py3-none-any.whl (58 kB)\n",
      "Downloading pycparser-2.22-py3-none-any.whl (117 kB)\n",
      "Installing collected packages: sortedcontainers, websocket-client, urllib3, typing_extensions, sniffio, pysocks, pycparser, idna, h11, certifi, attrs, wsproto, outcome, cffi, trio, trio-websocket, selenium\n",
      "Successfully installed attrs-24.3.0 certifi-2024.12.14 cffi-1.17.1 h11-0.14.0 idna-3.10 outcome-1.3.0.post0 pycparser-2.22 pysocks-1.7.1 selenium-4.27.1 sniffio-1.3.1 sortedcontainers-2.4.0 trio-0.28.0 trio-websocket-0.11.1 typing_extensions-4.12.2 urllib3-2.3.0 websocket-client-1.8.0 wsproto-1.2.0\n"
     ]
    }
   ],
   "source": [
    "!pip install selenium"
   ]
  },
  {
   "cell_type": "code",
   "execution_count": 4,
   "metadata": {},
   "outputs": [
    {
     "name": "stdout",
     "output_type": "stream",
     "text": [
      "Collecting tqdm\n",
      "  Downloading tqdm-4.67.1-py3-none-any.whl.metadata (57 kB)\n",
      "Requirement already satisfied: colorama in c:\\users\\phamd\\desktop\\crawl-huy\\.venv\\lib\\site-packages (from tqdm) (0.4.6)\n",
      "Downloading tqdm-4.67.1-py3-none-any.whl (78 kB)\n",
      "Installing collected packages: tqdm\n",
      "Successfully installed tqdm-4.67.1\n"
     ]
    }
   ],
   "source": [
    "!pip install tqdm"
   ]
  },
  {
   "cell_type": "code",
   "execution_count": null,
   "metadata": {},
   "outputs": [],
   "source": [
    "from selenium.webdriver.common.by import By\n",
    "import time\n",
    "import json\n",
    "import re\n",
    "from tqdm import tqdm\n",
    "\n",
    "def get_data(i, driver):\n",
    "    # lhink trang\n",
    "    link = f\"https://batdongsan.com.vn/cho-thue-nha-tro-phong-tro-ha-noi/p{i}\"\n",
    "\n",
    "    try:\n",
    "        # Mở trang danh sách\n",
    "        driver.get(link)\n",
    "        time.sleep(3)  # Đợi trang tải\n",
    "\n",
    "        # Lấy danh sách các liên kết chi tiết (URLs)\n",
    "        listings = driver.find_elements(By.CSS_SELECTOR, \"a.js__product-link-for-product-id\")\n",
    "        links = [listing.get_attribute(\"href\") for listing in listings]\n",
    "\n",
    "        all_data = []  # Danh sách lưu dữ liệu các mục\n",
    "\n",
    "        for link in tqdm(links, desc=f\"Link: {link}\", unit=\"link\"):\n",
    "            # Mở liên kết trong cùng tab\n",
    "            driver.get(link)\n",
    "            time.sleep(5)  # Đợi trang chi tiết tải\n",
    "\n",
    "            # Lấy thông tin từ trang chi tiết\n",
    "            try:\n",
    "                title = driver.find_element(By.CSS_SELECTOR, \"h1.re__pr-title\").text\n",
    "            except:\n",
    "                title = \"\"\n",
    "\n",
    "            try:\n",
    "                rent_fee = driver.find_element(By.CSS_SELECTOR, \"div.re__pr-short-info-item span.value\").text.replace(\"triệu/tháng\", \"\").replace(\",\", \".\")\n",
    "                rent_fee = float(rent_fee)\n",
    "            except:\n",
    "                rent_fee = \"\"\n",
    "\n",
    "            try:\n",
    "                detail_address = driver.find_element(By.CSS_SELECTOR, \"span.js__pr-address\").text\n",
    "            except:\n",
    "                detail_address = \"\"\n",
    "\n",
    "            try:\n",
    "                description = driver.find_element(By.CSS_SELECTOR, \"div.re__detail-content\").text\n",
    "            except:\n",
    "                description = \"\"\n",
    "\n",
    "            try:\n",
    "                acreage = driver.find_element(By.CSS_SELECTOR, \"div.re__pr-short-info-item:nth-of-type(2) span.value\").text\n",
    "            except:\n",
    "                acreage = \"\"\n",
    "\n",
    "            try:\n",
    "                contact_phone = driver.find_element(By.CSS_SELECTOR, \"span.hidden-mobile\").text.replace(\" \", \"\")\n",
    "            except:\n",
    "                contact_phone = \"\"\n",
    "            try:\n",
    "                contact_name = driver.find_element(By.CSS_SELECTOR, \"span.hidden-mobile\").get_attribute(\"data-kyc-name\")\n",
    "            except:\n",
    "                contact_name = \"\"\n",
    "            \n",
    "            try:\n",
    "                image_div = driver.find_element(By.CSS_SELECTOR, \"div.re__pr-image-cover\")\n",
    "                style_attribute = image_div.get_attribute(\"style\")\n",
    "                image_url = re.search(r'url\\(\"(.*?)\"\\)', style_attribute).group(1)\n",
    "            except:\n",
    "                image_url = \"\"\n",
    "            try:\n",
    "                bread_crumb = driver.find_elements(By.CSS_SELECTOR, \"div.re__breadcrumb a\")\n",
    "                city = bread_crumb[1].text\n",
    "                district = bread_crumb[2].text\n",
    "            except:\n",
    "                city = \"\"\n",
    "                district = \"\"\n",
    "\n",
    "\n",
    "\n",
    "            # Thêm dữ liệu vào danh sách\n",
    "            data = {\n",
    "                \"title\": title,\n",
    "                \"rent_fee\": rent_fee,\n",
    "                \"detail_address\": detail_address,\n",
    "                \"description\": description,\n",
    "                \"room_type\": \"MOTEL\",\n",
    "                \"acreage\": acreage,\n",
    "                \"url\": link,\n",
    "                \"contact_phone\": contact_phone,\n",
    "                \"contact_name\": contact_name,\n",
    "                \"image_url\": image_url,\n",
    "                \"city\": city,\n",
    "                \"district\": district\n",
    "            }\n",
    "            all_data.append(data)\n",
    "            print(\"Getting data successfully at: \", title)\n",
    "\n",
    "\n",
    "        # Lưu dữ liệu dưới dạng JSON\n",
    "        with open(f\"data/batdongsan_com_vn/listings_details_{i}.json\", \"w\", encoding=\"utf-8\") as f:\n",
    "            json.dump(all_data, f, ensure_ascii=False, indent=4)\n",
    "\n",
    "        print(f\"Hoàn thành việc crawl và lưu dữ liệu tại page thứ {1}\")\n",
    "\n",
    "    except:\n",
    "        pass\n",
    "\n"
   ]
  },
  {
   "cell_type": "code",
   "execution_count": null,
   "metadata": {},
   "outputs": [
    {
     "name": "stderr",
     "output_type": "stream",
     "text": [
      "Crawling first 8 pages:   0%|          | 0/17 [00:00<?, ?page/s]"
     ]
    },
    {
     "name": "stdout",
     "output_type": "stream",
     "text": [
      "Getting data successfully at:  Cho thuê phòng trọ khép kín đầy đủ tiện nghi tại 173 phố Lò Đúc, quận Hai Bà Trưng, Hà Nội\n"
     ]
    },
    {
     "name": "stderr",
     "output_type": "stream",
     "text": []
    },
    {
     "name": "stdout",
     "output_type": "stream",
     "text": [
      "Getting data successfully at:  Chính chủ cho thuê phòng dạng căn hộ mini 20m2 đủ đồ thoáng sáng tại Cầu Giấy 3,9tr/ tháng\n"
     ]
    },
    {
     "name": "stderr",
     "output_type": "stream",
     "text": []
    },
    {
     "name": "stdout",
     "output_type": "stream",
     "text": [
      "Getting data successfully at:  Cho thuê phòng đẹp tại vị trí trung tâm 218 Đội Cấn\n"
     ]
    },
    {
     "name": "stderr",
     "output_type": "stream",
     "text": []
    },
    {
     "name": "stdout",
     "output_type": "stream",
     "text": [
      "Getting data successfully at:  Ngõ 97 Phố Chính Kinh, chung cư full đồ, đầy đủ PCCC, gần rất nhiều trường đại học (NV, TN... )\n"
     ]
    },
    {
     "name": "stderr",
     "output_type": "stream",
     "text": []
    },
    {
     "name": "stdout",
     "output_type": "stream",
     "text": [
      "Getting data successfully at:  Ngõ 190 Nguyễn Trãi, chung cư full đồ, đầy đủ PCCC, gần rất nhiều trường đại học, Lh 0904 253 ***\n"
     ]
    },
    {
     "name": "stderr",
     "output_type": "stream",
     "text": []
    },
    {
     "name": "stdout",
     "output_type": "stream",
     "text": [
      "Getting data successfully at:  Chính chủ cho thuê phòng MP Đê La Thành: 25m2, điều hòa, nóng lạnh, thang máy, giá: 3,5tr/tháng\n"
     ]
    },
    {
     "name": "stderr",
     "output_type": "stream",
     "text": []
    },
    {
     "name": "stdout",
     "output_type": "stream",
     "text": [
      "Getting data successfully at:  Chính chủ cho thuê phòng CCMN ở Đội Cấn. Khu vực Vip của quận Ba Đình, giáp quận Đống Đa, Cầu Giấy\n"
     ]
    },
    {
     "name": "stderr",
     "output_type": "stream",
     "text": []
    },
    {
     "name": "stdout",
     "output_type": "stream",
     "text": [
      "Getting data successfully at:  Nhà có 4 phòng khép kín, full đồ, giá thuê 2 - 3tr/phòng/tháng hoặc có thể thuê nguyên căn giá 9tr\n"
     ]
    },
    {
     "name": "stderr",
     "output_type": "stream",
     "text": []
    },
    {
     "name": "stdout",
     "output_type": "stream",
     "text": [
      "Getting data successfully at:  Cho thuê CHMN 50m2, Hoàng Hoa Thám, Ba Đình, Hà Nội đủ tiện nghi\n"
     ]
    },
    {
     "name": "stderr",
     "output_type": "stream",
     "text": []
    },
    {
     "name": "stdout",
     "output_type": "stream",
     "text": [
      "Getting data successfully at:  Cho thuê nhà trọ đẹp xuất sắc mới sửa xong đẹp xuất sắc tại ngõ 203 Đường Kim Ngưu, 2 triệu\n"
     ]
    },
    {
     "name": "stderr",
     "output_type": "stream",
     "text": []
    },
    {
     "name": "stdout",
     "output_type": "stream",
     "text": [
      "Getting data successfully at:  Ngõ 190 Nguyễn Trãi, chung cư full đồ, đầy đủ PCCC, gần rất nhiều trường đại học, Lh 0904 253 ***\n"
     ]
    },
    {
     "name": "stderr",
     "output_type": "stream",
     "text": []
    },
    {
     "name": "stdout",
     "output_type": "stream",
     "text": [
      "Getting data successfully at:  Cho thuê phòng khép kín tại Nguyễn An Ninh\n"
     ]
    },
    {
     "name": "stderr",
     "output_type": "stream",
     "text": []
    },
    {
     "name": "stdout",
     "output_type": "stream",
     "text": [
      "Getting data successfully at:  Cho thuê căn hộ mini cực đẹp đầy đủ nội thất đồ dùng, cuối đường Hàm Nghi\n"
     ]
    },
    {
     "name": "stderr",
     "output_type": "stream",
     "text": []
    },
    {
     "name": "stdout",
     "output_type": "stream",
     "text": [
      "Getting data successfully at:  Chính chủ cho thuê phòng đơn full đồ ngõ 123A nhà 31 Thụy Khuê, Tây Hồ. HN chỉ từ 1,7 triệu\n"
     ]
    },
    {
     "name": "stderr",
     "output_type": "stream",
     "text": []
    },
    {
     "name": "stdout",
     "output_type": "stream",
     "text": [
      "Getting data successfully at:  Chính chủ cho thuê phòng đơn. Full đồ. Khoá từ vân tay. Giờ tự do từ 1.7tr 2,4tr ở 61 Hoàng Cầu\n"
     ]
    },
    {
     "name": "stderr",
     "output_type": "stream",
     "text": []
    },
    {
     "name": "stdout",
     "output_type": "stream",
     "text": [
      "Getting data successfully at:  Chính chủ cho thuê phòng trọ đơn full đồ chỉ từ 1.5tr đến 2,5tr\n"
     ]
    },
    {
     "name": "stderr",
     "output_type": "stream",
     "text": []
    },
    {
     "name": "stdout",
     "output_type": "stream",
     "text": [
      "Getting data successfully at:  Cho thuê căn hộ khép kín diện tích 25m2\n"
     ]
    },
    {
     "name": "stderr",
     "output_type": "stream",
     "text": []
    },
    {
     "name": "stdout",
     "output_type": "stream",
     "text": [
      "Getting data successfully at:  Cho thuê nhà ở ngõ 133 Thái Hà\n"
     ]
    },
    {
     "name": "stderr",
     "output_type": "stream",
     "text": []
    },
    {
     "name": "stdout",
     "output_type": "stream",
     "text": [
      "Getting data successfully at:  Cho thuê khép kín 45m2 (2 ngủ), có ban công. Đầy đủ nội thất giường tủ - Lạc Long Quân - Giá 5tr8\n"
     ]
    },
    {
     "name": "stderr",
     "output_type": "stream",
     "text": []
    },
    {
     "name": "stdout",
     "output_type": "stream",
     "text": [
      "Getting data successfully at:  Cho thuê căn 1 ngủ đủ nội thất Lạc Long Quân (tầng 3) giá 3,6tr/tháng\n"
     ]
    },
    {
     "name": "stderr",
     "output_type": "stream",
     "text": []
    },
    {
     "name": "stdout",
     "output_type": "stream",
     "text": [
      "Getting data successfully at:  Cho thuê phòng trọ mới xây, giá rẻ ngõ 79 Cầu Giấy, 445 Nguyễn Khang\n"
     ]
    },
    {
     "name": "stderr",
     "output_type": "stream",
     "text": []
    },
    {
     "name": "stdout",
     "output_type": "stream",
     "text": [
      "Getting data successfully at:  Nhà mới tại Lạc Long Quân, Bưởi (5 tầng), full đồ đẹp\n"
     ]
    },
    {
     "name": "stderr",
     "output_type": "stream",
     "text": []
    },
    {
     "name": "stdout",
     "output_type": "stream",
     "text": [
      "Getting data successfully at:  Giá sinh viên, phòng trọ phường Khương Trung đủ điều hòa, nóng lạnh, ngõ ô tô\n"
     ]
    },
    {
     "name": "stderr",
     "output_type": "stream",
     "text": [
      "Link: https://batdongsan.com.vn/cho-thue-nha-tro-phong-tro-ha-noi/p1: 100%|██████████| 24/24 [03:10<00:00,  7.93s/link]\n",
      "Crawling first 8 pages:   6%|▌         | 1/17 [03:17<52:45, 197.84s/page]"
     ]
    },
    {
     "name": "stdout",
     "output_type": "stream",
     "text": [
      "Getting data successfully at:  Homestay ghép Cầu Giấy giá yêu thương\n",
      "Hoàn thành việc crawl và lưu dữ liệu tại page thứ 1\n"
     ]
    },
    {
     "name": "stderr",
     "output_type": "stream",
     "text": []
    },
    {
     "name": "stdout",
     "output_type": "stream",
     "text": [
      "Getting data successfully at:  Chính chủ cho thuê 02 phòng đẹp làm để ở, làm VP, phố Phạm Tuấn Tài, Quận Cầu Giấy, chỉ 3 triệu\n"
     ]
    },
    {
     "name": "stderr",
     "output_type": "stream",
     "text": []
    },
    {
     "name": "stdout",
     "output_type": "stream",
     "text": [
      "Getting data successfully at:  Homstay 24 Hoàng Quốc Việt, giá chỉ 1,1 tr/tháng đủ đồ riêng biệt\n"
     ]
    },
    {
     "name": "stderr",
     "output_type": "stream",
     "text": []
    },
    {
     "name": "stdout",
     "output_type": "stream",
     "text": [
      "Getting data successfully at:  Cho thuê nhà trọ, phòng trọ khép kín - đầy đủ nội thất, gần Thành Phố Giao Lưu, Phạm Văn Đồng\n"
     ]
    },
    {
     "name": "stderr",
     "output_type": "stream",
     "text": []
    },
    {
     "name": "stdout",
     "output_type": "stream",
     "text": [
      "Getting data successfully at:  Ngõ 97 Phố Chính Kinh, chung cư full đồ, đầy đủ PCCC, gần rất nhiều trường đại học (NV, TN... )\n"
     ]
    },
    {
     "name": "stderr",
     "output_type": "stream",
     "text": []
    },
    {
     "name": "stdout",
     "output_type": "stream",
     "text": [
      "Getting data successfully at:  Ngõ 190 Nguyễn Trãi, chung cư full đồ, đầy đủ PCCC, gần rất nhiều trường đại học, Lh 0904 253 ***\n"
     ]
    },
    {
     "name": "stderr",
     "output_type": "stream",
     "text": []
    },
    {
     "name": "stdout",
     "output_type": "stream",
     "text": [
      "Getting data successfully at:  Chính chủ cho thuê phòng MP Đê La Thành: 25m2, điều hòa, nóng lạnh, thang máy, giá: 3,5tr/tháng\n"
     ]
    },
    {
     "name": "stderr",
     "output_type": "stream",
     "text": []
    },
    {
     "name": "stdout",
     "output_type": "stream",
     "text": [
      "Getting data successfully at:  Chính chủ cho thuê phòng CCMN ở Đội Cấn. Khu vực Vip của quận Ba Đình, giáp quận Đống Đa, Cầu Giấy\n"
     ]
    },
    {
     "name": "stderr",
     "output_type": "stream",
     "text": []
    },
    {
     "name": "stdout",
     "output_type": "stream",
     "text": [
      "Getting data successfully at:  Cho thuê phòng căn hộ dịch vụ De Charm House tại phố Tây Canaby KĐT Rue De Charm số 214 Nguyễn Xiển\n"
     ]
    },
    {
     "name": "stderr",
     "output_type": "stream",
     "text": []
    },
    {
     "name": "stdout",
     "output_type": "stream",
     "text": [
      "Getting data successfully at:  Chính chủ cho thuê phòng trong nhà riêng 5 tầng\n"
     ]
    },
    {
     "name": "stderr",
     "output_type": "stream",
     "text": []
    },
    {
     "name": "stdout",
     "output_type": "stream",
     "text": [
      "Getting data successfully at:  Cho thuê phòng trọ 25m2, 3 triệu VND tại Đường Đội Cấn, Ba Đình, Hà Nội\n"
     ]
    },
    {
     "name": "stderr",
     "output_type": "stream",
     "text": []
    },
    {
     "name": "stdout",
     "output_type": "stream",
     "text": [
      "Getting data successfully at:  1N 1K - 2WC 55m2 rẻ bất ngờ, cực kì hợp lý cho hộ gia đình tại Nguyễn Hoàng - Lê Đức Thọ - Mỹ Đình\n"
     ]
    },
    {
     "name": "stderr",
     "output_type": "stream",
     "text": []
    },
    {
     "name": "stdout",
     "output_type": "stream",
     "text": [
      "Getting data successfully at:  Cho thuê phòng căn hộ mini nhiều tiện nghi, mới tinh, có ban công nhà số 14, ngõ 7 Tú Mỡ, Trung Hòa\n"
     ]
    },
    {
     "name": "stderr",
     "output_type": "stream",
     "text": []
    },
    {
     "name": "stdout",
     "output_type": "stream",
     "text": [
      "Getting data successfully at:  CCMN cao cấp 30m2 Lê Đức Thọ full đồ cả sofa chỉ 3tr89/tháng\n"
     ]
    },
    {
     "name": "stderr",
     "output_type": "stream",
     "text": []
    },
    {
     "name": "stdout",
     "output_type": "stream",
     "text": [
      "Getting data successfully at:  Cho thuê căn hộ Full đồ có ban công Minh Khai 4tr7/tháng\n"
     ]
    },
    {
     "name": "stderr",
     "output_type": "stream",
     "text": []
    },
    {
     "name": "stdout",
     "output_type": "stream",
     "text": [
      "Getting data successfully at:  Cho thuê phòng trọ cho sinh viên tại phố Xốm. Gía thuê từ 2 triệu - 2.3 triệu\n"
     ]
    },
    {
     "name": "stderr",
     "output_type": "stream",
     "text": []
    },
    {
     "name": "stdout",
     "output_type": "stream",
     "text": [
      "Getting data successfully at:  Anhome - PHÒNG ĐƠN BAN CÔNG SIÊU RỘNG Trần Đại Nghĩa (sát ĐHKTQD NEU) full đồ vào ở luôn\n"
     ]
    },
    {
     "name": "stderr",
     "output_type": "stream",
     "text": []
    },
    {
     "name": "stdout",
     "output_type": "stream",
     "text": [
      "Getting data successfully at:  Cho thuê phòng mới xây 30 m2 full đồ Cầu Giấy\n"
     ]
    },
    {
     "name": "stderr",
     "output_type": "stream",
     "text": []
    },
    {
     "name": "stdout",
     "output_type": "stream",
     "text": [
      "Getting data successfully at:  Chính chủ, phòng khép kín đầy đủ thiết bị, 3,1 - 4,4 triệu/th, ô tô đỗ, sau ĐH Hà Nội, 0332 839 ***\n"
     ]
    },
    {
     "name": "stderr",
     "output_type": "stream",
     "text": []
    },
    {
     "name": "stdout",
     "output_type": "stream",
     "text": [
      "Getting data successfully at:  Chính chủ, phòng khép kín đầy đủ thiết bị, 3,3 - 3,8 tr/th, gần ĐH Phương Đông, 0936 031 ***\n"
     ]
    },
    {
     "name": "stderr",
     "output_type": "stream",
     "text": []
    },
    {
     "name": "stdout",
     "output_type": "stream",
     "text": [
      "Getting data successfully at:  [Free T1/2025] Khai trương tòa mới xây, phòng 3tr1-3tr3-3tr6, ngõ 389 Cổ Nhuế.\n"
     ]
    },
    {
     "name": "stderr",
     "output_type": "stream",
     "text": []
    },
    {
     "name": "stdout",
     "output_type": "stream",
     "text": [
      "Getting data successfully at:  Chính chủ cho thuê phòng Studio 30m2 full đồ ngõ 124 Hoàng Ngân\n"
     ]
    },
    {
     "name": "stderr",
     "output_type": "stream",
     "text": []
    },
    {
     "name": "stdout",
     "output_type": "stream",
     "text": [
      "Getting data successfully at:  Chính chủ cho thuê phòng 1 ngủ 1 bếp riêng biệt, có ban công full đồ ngõ 124 Hoàng Ngân\n"
     ]
    },
    {
     "name": "stderr",
     "output_type": "stream",
     "text": []
    },
    {
     "name": "stdout",
     "output_type": "stream",
     "text": [
      "Getting data successfully at:  Cho thuê phòng ở luôn tại 29 Xã Đàn, Đống Đa, Hà Nội\n"
     ]
    },
    {
     "name": "stderr",
     "output_type": "stream",
     "text": [
      "Link: https://batdongsan.com.vn/cho-thue-nha-tro-phong-tro-ha-noi/p2: 100%|██████████| 24/24 [02:53<00:00,  7.22s/link]\n",
      "Crawling first 8 pages:  12%|█▏        | 2/17 [06:19<47:03, 188.20s/page]"
     ]
    },
    {
     "name": "stdout",
     "output_type": "stream",
     "text": [
      "Getting data successfully at:  Cho thuê chung cư mini mới tại 228 Lê Trọng Tấn, Thanh Xuân, Hà Nội\n",
      "Hoàn thành việc crawl và lưu dữ liệu tại page thứ 1\n"
     ]
    },
    {
     "name": "stderr",
     "output_type": "stream",
     "text": []
    },
    {
     "name": "stdout",
     "output_type": "stream",
     "text": [
      "Getting data successfully at:  Cho thuê căn hộ Studio, 1N 1K tại 178 Tây Sơn - Đống Đa\n"
     ]
    },
    {
     "name": "stderr",
     "output_type": "stream",
     "text": []
    },
    {
     "name": "stdout",
     "output_type": "stream",
     "text": [
      "Getting data successfully at:  Cho thuê căn hộ studio - 1N1K tại 154; 279 Đội Cấn, Ba Đình\n"
     ]
    },
    {
     "name": "stderr",
     "output_type": "stream",
     "text": []
    },
    {
     "name": "stdout",
     "output_type": "stream",
     "text": [
      "Getting data successfully at:  Phòng trọ đẹp, mới, thoáng tại Xuân Đỉnh - CV Hòa Bình\n"
     ]
    },
    {
     "name": "stderr",
     "output_type": "stream",
     "text": []
    },
    {
     "name": "stdout",
     "output_type": "stream",
     "text": [
      "Getting data successfully at:  Ngõ 97 Phố Chính Kinh, chung cư full đồ, đầy đủ PCCC, gần rất nhiều trường đại học (NV, TN... )\n"
     ]
    },
    {
     "name": "stderr",
     "output_type": "stream",
     "text": []
    },
    {
     "name": "stdout",
     "output_type": "stream",
     "text": [
      "Getting data successfully at:  Ngõ 190 Nguyễn Trãi, chung cư full đồ, đầy đủ PCCC, gần rất nhiều trường đại học, Lh 0904 253 ***\n"
     ]
    },
    {
     "name": "stderr",
     "output_type": "stream",
     "text": []
    },
    {
     "name": "stdout",
     "output_type": "stream",
     "text": [
      "Getting data successfully at:  Chính chủ cho thuê phòng MP Đê La Thành: 25m2, điều hòa, nóng lạnh, thang máy, giá: 3,5tr/tháng\n"
     ]
    },
    {
     "name": "stderr",
     "output_type": "stream",
     "text": []
    },
    {
     "name": "stdout",
     "output_type": "stream",
     "text": [
      "Getting data successfully at:  Chính chủ cho thuê phòng CCMN ở Đội Cấn. Khu vực Vip của quận Ba Đình, giáp quận Đống Đa, Cầu Giấy\n"
     ]
    },
    {
     "name": "stderr",
     "output_type": "stream",
     "text": []
    },
    {
     "name": "stdout",
     "output_type": "stream",
     "text": [
      "Getting data successfully at:  Cho thuê phòng trọ khép kín giá 4tr/th tầng 2, số 5 ngõ 150 phố Phó Đức Chính, Hồ Trúc Bạch\n"
     ]
    },
    {
     "name": "stderr",
     "output_type": "stream",
     "text": []
    },
    {
     "name": "stdout",
     "output_type": "stream",
     "text": [
      "Getting data successfully at:  Cho thuê phòng đủ đồ tầng 2 tại 56 Cầu Gỗ, sát Hồ Gươm, phố đi bộ Hoàn Kiếm, giá chỉ 4tr/th\n"
     ]
    },
    {
     "name": "stderr",
     "output_type": "stream",
     "text": []
    },
    {
     "name": "stdout",
     "output_type": "stream",
     "text": [
      "Getting data successfully at:  Cho thuê phòng trọ tầng 4 mới, đẹp, full đồ, thoáng, có ban công, gần đường sắt trên cao\n"
     ]
    },
    {
     "name": "stderr",
     "output_type": "stream",
     "text": []
    },
    {
     "name": "stdout",
     "output_type": "stream",
     "text": [
      "Getting data successfully at:  Cho thuê 1 Ngủ 1 khách giá siêu hời tại Lê Trọng Tấn, Dương Nội, Hà Đông, HN\n"
     ]
    },
    {
     "name": "stderr",
     "output_type": "stream",
     "text": []
    },
    {
     "name": "stdout",
     "output_type": "stream",
     "text": [
      "Getting data successfully at:  Studio full đồ cho thuê dài hạn không tăng giá khu vực Lotte Mall view Thung Lũng Hoa Hồ Tây\n"
     ]
    },
    {
     "name": "stderr",
     "output_type": "stream",
     "text": []
    },
    {
     "name": "stdout",
     "output_type": "stream",
     "text": [
      "Getting data successfully at:  Chính chủ cho thuê phòng trọ khu vực Chùa Láng, Láng Thượng, Đống Đa 2tr5\n"
     ]
    },
    {
     "name": "stderr",
     "output_type": "stream",
     "text": []
    },
    {
     "name": "stdout",
     "output_type": "stream",
     "text": [
      "Getting data successfully at:  Studio đầy đủ nội thất tại KDT Geleximco Dương Nội, Hà Đông\n"
     ]
    },
    {
     "name": "stderr",
     "output_type": "stream",
     "text": []
    },
    {
     "name": "stdout",
     "output_type": "stream",
     "text": [
      "Getting data successfully at:  Cho thuê chung cư mini 35m2, đầy đủ tiện nghi tại 3 ngõ 183 Đặng Tiến Đông, không chung chủ\n"
     ]
    },
    {
     "name": "stderr",
     "output_type": "stream",
     "text": []
    },
    {
     "name": "stdout",
     "output_type": "stream",
     "text": [
      "Getting data successfully at:  Cho thuê nhà trọ khép kín. Ngõ 3 xóm Cầu Hữu Hoà Thanh Trì Hà Nội\n"
     ]
    },
    {
     "name": "stderr",
     "output_type": "stream",
     "text": []
    },
    {
     "name": "stdout",
     "output_type": "stream",
     "text": [
      "Getting data successfully at:  Phòng full đồ, vệ sinh khép kín, có điều hòa hai chiều mới tinh, nóng lạnh\n"
     ]
    },
    {
     "name": "stderr",
     "output_type": "stream",
     "text": []
    },
    {
     "name": "stdout",
     "output_type": "stream",
     "text": [
      "Getting data successfully at:  Cho thuê căn hộ dịch vụ cao cấp, có ban công, full đồ, giá còn 5.Xtỷ nhà mới xây xong 136 Quan Nhân\n"
     ]
    },
    {
     "name": "stderr",
     "output_type": "stream",
     "text": []
    },
    {
     "name": "stdout",
     "output_type": "stream",
     "text": [
      "Getting data successfully at:  Cho Thuê phòng trọ 35m2 KM tháng này chỉ 3tr tại 250/80 Phan Trọng Tuệ - Thanh Trì full đồ tặng 1tr\n"
     ]
    },
    {
     "name": "stderr",
     "output_type": "stream",
     "text": []
    },
    {
     "name": "stdout",
     "output_type": "stream",
     "text": [
      "Getting data successfully at:  Cho thuê phòng studio 25m2 giá 3tr - 3.9tr/th tại Kim Giang Hoàng Mai có ban công thoáng có pccc\n"
     ]
    },
    {
     "name": "stderr",
     "output_type": "stream",
     "text": []
    },
    {
     "name": "stdout",
     "output_type": "stream",
     "text": [
      "Getting data successfully at:  Phòng 45m2 mới tinh khép kín 100% - chính chủ (ko qua môi giới)\n"
     ]
    },
    {
     "name": "stderr",
     "output_type": "stream",
     "text": []
    },
    {
     "name": "stdout",
     "output_type": "stream",
     "text": [
      "Getting data successfully at:  Cho thuê phòng trọ tại ngõ 1 Bùi Xương Trạch, ko chung chủ, full đồ, có cửa sổ to, an ninh tốt\n"
     ]
    },
    {
     "name": "stderr",
     "output_type": "stream",
     "text": []
    },
    {
     "name": "stdout",
     "output_type": "stream",
     "text": [
      "Getting data successfully at:  Cho thuê nhà Đại Từ, Hoàng Mai\n"
     ]
    },
    {
     "name": "stderr",
     "output_type": "stream",
     "text": [
      "Link: https://batdongsan.com.vn/cho-thue-nha-tro-phong-tro-ha-noi/p3: 100%|██████████| 24/24 [03:07<00:00,  7.82s/link]\n",
      "Crawling first 8 pages:  18%|█▊        | 3/17 [09:32<44:27, 190.52s/page]"
     ]
    },
    {
     "name": "stdout",
     "output_type": "stream",
     "text": [
      "Getting data successfully at:  Cho thuê phòng dt 30m2, đầy đủ: Dh, NL, quạt, giường tủ. Cách DHCN 1,5 km, 3,5tr/th\n",
      "Hoàn thành việc crawl và lưu dữ liệu tại page thứ 1\n"
     ]
    },
    {
     "name": "stderr",
     "output_type": "stream",
     "text": []
    },
    {
     "name": "stdout",
     "output_type": "stream",
     "text": [
      "Getting data successfully at:  Chính chủ cho thuê phòng 1 ngủ 1 bếp 30m2 nhà mới 100%\n"
     ]
    },
    {
     "name": "stderr",
     "output_type": "stream",
     "text": []
    },
    {
     "name": "stdout",
     "output_type": "stream",
     "text": [
      "Getting data successfully at:  Cho thuê căn nhà trọ khép kín, diện tích sử dụng: 50m2. Có gác xép bê tông, điện nước riêng\n"
     ]
    },
    {
     "name": "stderr",
     "output_type": "stream",
     "text": []
    },
    {
     "name": "stdout",
     "output_type": "stream",
     "text": [
      "Getting data successfully at:  Phòng trọ Đại Mỗ 35m2, full đồ, PCCC\n"
     ]
    },
    {
     "name": "stderr",
     "output_type": "stream",
     "text": []
    },
    {
     "name": "stdout",
     "output_type": "stream",
     "text": [
      "Getting data successfully at:  Ngõ 97 Phố Chính Kinh, chung cư full đồ, đầy đủ PCCC, gần rất nhiều trường đại học (NV, TN... )\n"
     ]
    },
    {
     "name": "stderr",
     "output_type": "stream",
     "text": []
    },
    {
     "name": "stdout",
     "output_type": "stream",
     "text": [
      "Getting data successfully at:  Ngõ 190 Nguyễn Trãi, chung cư full đồ, đầy đủ PCCC, gần rất nhiều trường đại học, Lh 0904 253 ***\n"
     ]
    },
    {
     "name": "stderr",
     "output_type": "stream",
     "text": []
    },
    {
     "name": "stdout",
     "output_type": "stream",
     "text": [
      "Getting data successfully at:  Chính chủ cho thuê phòng MP Đê La Thành: 25m2, điều hòa, nóng lạnh, thang máy, giá: 3,5tr/tháng\n"
     ]
    },
    {
     "name": "stderr",
     "output_type": "stream",
     "text": []
    },
    {
     "name": "stdout",
     "output_type": "stream",
     "text": [
      "Getting data successfully at:  Chính chủ cho thuê phòng CCMN ở Đội Cấn. Khu vực Vip của quận Ba Đình, giáp quận Đống Đa, Cầu Giấy\n"
     ]
    },
    {
     "name": "stderr",
     "output_type": "stream",
     "text": []
    },
    {
     "name": "stdout",
     "output_type": "stream",
     "text": [
      "Getting data successfully at:  Cho thuê phòng trọ Đồng Mai, Hà Đông\n"
     ]
    },
    {
     "name": "stderr",
     "output_type": "stream",
     "text": []
    },
    {
     "name": "stdout",
     "output_type": "stream",
     "text": [
      "Getting data successfully at:  Phòng trọ siêu đẹp 3.7 triệu/tháng - ngõ 8, Ngọc Hồi (Gần chùa Tứ Kỳ) - LH 0846 293 ***\n"
     ]
    },
    {
     "name": "stderr",
     "output_type": "stream",
     "text": []
    },
    {
     "name": "stdout",
     "output_type": "stream",
     "text": [
      "Getting data successfully at:  CCMN full đồ, khép kín, ô tô đỗ cửa tại KĐT Văn Phú - Đường Văn Phú - Phú La - Hà Đông có ban công\n"
     ]
    },
    {
     "name": "stderr",
     "output_type": "stream",
     "text": []
    },
    {
     "name": "stdout",
     "output_type": "stream",
     "text": [
      "Getting data successfully at:  Cho thuê phòng 1 ngủ Dương Nội, Aeon Mall Hà Đông, có lot ô tô, full đồ giá từ 5 tr/th\n"
     ]
    },
    {
     "name": "stderr",
     "output_type": "stream",
     "text": []
    },
    {
     "name": "stdout",
     "output_type": "stream",
     "text": [
      "Getting data successfully at:  Cho thuê 1 ngủ Dương Nội, gần Aeon Mall Hà Đông, có lot ô tô, full đồ giá từ 4.5 tr/th\n"
     ]
    },
    {
     "name": "stderr",
     "output_type": "stream",
     "text": []
    },
    {
     "name": "stdout",
     "output_type": "stream",
     "text": [
      "Getting data successfully at:  Cho thuê phòng full đồ ngõ 290 Kim Mã\n"
     ]
    },
    {
     "name": "stderr",
     "output_type": "stream",
     "text": []
    },
    {
     "name": "stdout",
     "output_type": "stream",
     "text": [
      "Getting data successfully at:  Cho thuê phòng trung tâm, đường Minh Khai, gần các trường đại học Bách Khoa, Xây Dựng\n"
     ]
    },
    {
     "name": "stderr",
     "output_type": "stream",
     "text": []
    },
    {
     "name": "stdout",
     "output_type": "stream",
     "text": [
      "Getting data successfully at:  Chính chủ cho thuê phòng tro khu đô thị Lideco, Hoài Đức\n"
     ]
    },
    {
     "name": "stderr",
     "output_type": "stream",
     "text": []
    },
    {
     "name": "stdout",
     "output_type": "stream",
     "text": [
      "Getting data successfully at:  Cho thuê nhà T1 Lạc Long Quân 2 phòng ngủ + WC + bếp, 5.5 triệu 80m2 giá rẻ phù hợp gia đình\n"
     ]
    },
    {
     "name": "stderr",
     "output_type": "stream",
     "text": []
    },
    {
     "name": "stdout",
     "output_type": "stream",
     "text": [
      "Getting data successfully at:  Phòng trọ ngõ 160 Hào Nam, phòng ở tầng 2 vệ sinh chung, cách oto 10m, gần chợ, sát phố\n"
     ]
    },
    {
     "name": "stderr",
     "output_type": "stream",
     "text": []
    },
    {
     "name": "stdout",
     "output_type": "stream",
     "text": [
      "Getting data successfully at:  Phòng trọ tầng 4 có ban công số 37 ngõ 259 phố vọng oto đỗ cửa sát mặt phố gần bách khoa\n"
     ]
    },
    {
     "name": "stderr",
     "output_type": "stream",
     "text": []
    },
    {
     "name": "stdout",
     "output_type": "stream",
     "text": [
      "Getting data successfully at:  Khai trương CCMN full đồ có ban công 229 Minh Khai 4tr7/tháng\n"
     ]
    },
    {
     "name": "stderr",
     "output_type": "stream",
     "text": []
    },
    {
     "name": "stdout",
     "output_type": "stream",
     "text": [
      "Getting data successfully at:  Chính chủ cần cho thuê phòng trọ, VP khép kín ô tô đỗ cửa tại ngõ 97 đường Văn Cao, BĐ, 2 lối vào\n"
     ]
    },
    {
     "name": "stderr",
     "output_type": "stream",
     "text": []
    },
    {
     "name": "stdout",
     "output_type": "stream",
     "text": [
      "Getting data successfully at:  Cạnh hồ Văn Quán Còn phòng 1pk 1n rộng gần 40m2 siêu thoáng\n"
     ]
    },
    {
     "name": "stderr",
     "output_type": "stream",
     "text": []
    },
    {
     "name": "stdout",
     "output_type": "stream",
     "text": [
      "Getting data successfully at:  Giảm ngay 30% giá thuê khi thuê phòng tại Đình Thôn, Mễ Trì, Đỗ Đức Dục, giá chỉ còn 4,5 triệu/th\n"
     ]
    },
    {
     "name": "stderr",
     "output_type": "stream",
     "text": []
    },
    {
     "name": "stdout",
     "output_type": "stream",
     "text": [
      "Getting data successfully at:  Giảm ngay 40% giá thuê khi thuê phòng tại Đồng Me giá chỉ còn 4.8 triệu/tháng\n"
     ]
    },
    {
     "name": "stderr",
     "output_type": "stream",
     "text": [
      "Link: https://batdongsan.com.vn/cho-thue-nha-tro-phong-tro-ha-noi/p4: 100%|██████████| 24/24 [03:14<00:00,  8.09s/link]\n",
      "Crawling first 8 pages:  24%|██▎       | 4/17 [12:52<42:03, 194.08s/page]"
     ]
    },
    {
     "name": "stdout",
     "output_type": "stream",
     "text": [
      "Getting data successfully at:  Chính chủ cho thuê nhà phòng ngõ 174 Trần Hưng Đạo, Nam Từ Liêm, Hà Nội\n",
      "Hoàn thành việc crawl và lưu dữ liệu tại page thứ 1\n"
     ]
    },
    {
     "name": "stderr",
     "output_type": "stream",
     "text": []
    },
    {
     "name": "stdout",
     "output_type": "stream",
     "text": [
      "Getting data successfully at:  Khai trương chung cư mini cạnh cao đẳng FPT\n"
     ]
    },
    {
     "name": "stderr",
     "output_type": "stream",
     "text": []
    },
    {
     "name": "stdout",
     "output_type": "stream",
     "text": [
      "Getting data successfully at:  Chính chủ cho thuê phòng Lê Đại Hành 80m2 riêng biệt đầy đủ nội thất giá 10tr/tháng\n"
     ]
    },
    {
     "name": "stderr",
     "output_type": "stream",
     "text": []
    },
    {
     "name": "stdout",
     "output_type": "stream",
     "text": [
      "Getting data successfully at:  Cho thuê căn hộ gần phố Tây Sơn S20 - 40m2 đủ đồ cơ bản ô tô đỗ cửa giá từ 2 - 4 tr 0934 406 ***\n"
     ]
    },
    {
     "name": "stderr",
     "output_type": "stream",
     "text": []
    },
    {
     "name": "stdout",
     "output_type": "stream",
     "text": [
      "Getting data successfully at:  Ngõ 97 Phố Chính Kinh, chung cư full đồ, đầy đủ PCCC, gần rất nhiều trường đại học (NV, TN... )\n"
     ]
    },
    {
     "name": "stderr",
     "output_type": "stream",
     "text": []
    },
    {
     "name": "stdout",
     "output_type": "stream",
     "text": [
      "Getting data successfully at:  Ngõ 190 Nguyễn Trãi, chung cư full đồ, đầy đủ PCCC, gần rất nhiều trường đại học, Lh 0904 253 ***\n"
     ]
    },
    {
     "name": "stderr",
     "output_type": "stream",
     "text": []
    },
    {
     "name": "stdout",
     "output_type": "stream",
     "text": [
      "Getting data successfully at:  Chính chủ cho thuê phòng MP Đê La Thành: 25m2, điều hòa, nóng lạnh, thang máy, giá: 3,5tr/tháng\n"
     ]
    },
    {
     "name": "stderr",
     "output_type": "stream",
     "text": []
    },
    {
     "name": "stdout",
     "output_type": "stream",
     "text": [
      "Getting data successfully at:  Chính chủ cho thuê phòng CCMN ở Đội Cấn. Khu vực Vip của quận Ba Đình, giáp quận Đống Đa, Cầu Giấy\n"
     ]
    },
    {
     "name": "stderr",
     "output_type": "stream",
     "text": []
    },
    {
     "name": "stdout",
     "output_type": "stream",
     "text": [
      "Getting data successfully at:  Cần cho thuê CCMN an toàn PCCC Hà Đông, DT 35m2 full đồ, giá 4.3tr. LH Kiều Thúy 0949 170 ***\n"
     ]
    },
    {
     "name": "stderr",
     "output_type": "stream",
     "text": []
    },
    {
     "name": "stdout",
     "output_type": "stream",
     "text": [
      "Getting data successfully at:  Cho thuê phòng trọ Bát Tràng, Học Viện Nông Nghiệp, Vinhome Ocean Park, Gia Lâm\n"
     ]
    },
    {
     "name": "stderr",
     "output_type": "stream",
     "text": []
    },
    {
     "name": "stdout",
     "output_type": "stream",
     "text": [
      "Getting data successfully at:  nhà 5 tầng tại Thịnh Quang Tây Sơn Đống Đa Hà nội, Đang còn 1 phòng chống đầu tháng 2 có thể ở\n"
     ]
    },
    {
     "name": "stderr",
     "output_type": "stream",
     "text": []
    },
    {
     "name": "stdout",
     "output_type": "stream",
     "text": [
      "Getting data successfully at:  Chính chủ cho thuê CCMN 9 tầng tại Hoàng Quốc Việt, có ban công, full đồ, đầy đủ PCCC, ở được luôn\n"
     ]
    },
    {
     "name": "stderr",
     "output_type": "stream",
     "text": []
    },
    {
     "name": "stdout",
     "output_type": "stream",
     "text": [
      "Getting data successfully at:  CCMN 10 tầng xây mới, full đồ tại Xuân Thủy - 30m2 - ô tô đỗ cửa - gần chợ - nhận phòng luôn\n"
     ]
    },
    {
     "name": "stderr",
     "output_type": "stream",
     "text": []
    },
    {
     "name": "stdout",
     "output_type": "stream",
     "text": [
      "Getting data successfully at:  Cho nữ thuê phòng phố Định Công, tiện ích bạt ngàn, full đồ siêu đẹp\n"
     ]
    },
    {
     "name": "stderr",
     "output_type": "stream",
     "text": []
    },
    {
     "name": "stdout",
     "output_type": "stream",
     "text": [
      "Getting data successfully at:  250 Kim Giang, Thanh Xuân - chính chủ cho thuê căn hộ CC mini, studio nhà trọ cao cấp - 0972 362 ***\n"
     ]
    },
    {
     "name": "stderr",
     "output_type": "stream",
     "text": []
    },
    {
     "name": "stdout",
     "output_type": "stream",
     "text": [
      "Getting data successfully at:  250 Kim Giang, Hoàng Mai - chính chủ cho thuê căn hộ CC mini, studio nhà trọ cao cấp - 0972 362 ***\n"
     ]
    },
    {
     "name": "stderr",
     "output_type": "stream",
     "text": []
    },
    {
     "name": "stdout",
     "output_type": "stream",
     "text": [
      "Getting data successfully at:  Chính chủ cho thuê CCMN hiện đại tại Chính Kinh - Nhân Chính - gần Ngã Tư Sở full đồ - 0972 362 ***\n"
     ]
    },
    {
     "name": "stderr",
     "output_type": "stream",
     "text": []
    },
    {
     "name": "stdout",
     "output_type": "stream",
     "text": [
      "Getting data successfully at:  Còn 2 phòng cho thuê KK nội thất cao cấp tại 203 -Kim Mã, Ba Đình, Hà Nội. Giá 3,9tr và 4,4tr\n"
     ]
    },
    {
     "name": "stderr",
     "output_type": "stream",
     "text": []
    },
    {
     "name": "stdout",
     "output_type": "stream",
     "text": [
      "Getting data successfully at:  CCMN NHÀ MỚI GIÁ RẺ GẦN MẶT ĐƯỜNG LỚN Ở LUÔN\n"
     ]
    },
    {
     "name": "stderr",
     "output_type": "stream",
     "text": []
    },
    {
     "name": "stdout",
     "output_type": "stream",
     "text": [
      "Getting data successfully at:  Cho thuê căn hộ CCMN đầy đủ tiện ích xây mới, PCCC, tự do time, có chỗ để xe máy, mặt đường lớn 8m\n"
     ]
    },
    {
     "name": "stderr",
     "output_type": "stream",
     "text": []
    },
    {
     "name": "stdout",
     "output_type": "stream",
     "text": [
      "Getting data successfully at:  Cho thuê chung cư mini 25m2 có đồ tại số 92 ngõ 34 Hoàng Cầu\n"
     ]
    },
    {
     "name": "stderr",
     "output_type": "stream",
     "text": []
    },
    {
     "name": "stdout",
     "output_type": "stream",
     "text": [
      "Getting data successfully at:  Phòng trọ nguyễn lân thanh xuân hà nội\n"
     ]
    },
    {
     "name": "stderr",
     "output_type": "stream",
     "text": []
    },
    {
     "name": "stdout",
     "output_type": "stream",
     "text": [
      "Getting data successfully at:  500m tới Lotte Center căn hộ full đồ trung tâm Ba Đình - nhận giữ ra Tết giá tốt\n"
     ]
    },
    {
     "name": "stderr",
     "output_type": "stream",
     "text": []
    },
    {
     "name": "stdout",
     "output_type": "stream",
     "text": [
      "Getting data successfully at:  Phòng trọ 50 m2 tầng 3 riêng biệt, đủ đồ cao cấp ngõ 58 Đào tấn\n"
     ]
    },
    {
     "name": "stderr",
     "output_type": "stream",
     "text": [
      "Link: https://batdongsan.com.vn/cho-thue-nha-tro-phong-tro-ha-noi/p5: 100%|██████████| 24/24 [03:20<00:00,  8.35s/link]\n",
      "Crawling first 8 pages:  29%|██▉       | 5/17 [16:20<39:48, 199.08s/page]"
     ]
    },
    {
     "name": "stdout",
     "output_type": "stream",
     "text": [
      "Getting data successfully at:  Phòng full đồ mặt phố khu Phạm Văn Đồng Mai Dịch chỉ 3tr4/tháng\n",
      "Hoàn thành việc crawl và lưu dữ liệu tại page thứ 1\n"
     ]
    },
    {
     "name": "stderr",
     "output_type": "stream",
     "text": []
    },
    {
     "name": "stdout",
     "output_type": "stream",
     "text": [
      "Getting data successfully at:  Phòng full đồ cả TV tủ lạnh thoáng sáng đường Khương Đình, chỉ 4tr3/tháng\n"
     ]
    },
    {
     "name": "stderr",
     "output_type": "stream",
     "text": []
    },
    {
     "name": "stdout",
     "output_type": "stream",
     "text": [
      "Getting data successfully at:  Cho thuê phòng riêng không chung chủ, có ban công ở Tân Ấp\n"
     ]
    },
    {
     "name": "stderr",
     "output_type": "stream",
     "text": []
    },
    {
     "name": "stdout",
     "output_type": "stream",
     "text": [
      "Getting data successfully at:  Chính chủ thuê phòng tầng 4 khu Giảng Võ - Láng Hạ giá 3 triệu/tháng, dt 30m2\n"
     ]
    },
    {
     "name": "stderr",
     "output_type": "stream",
     "text": []
    },
    {
     "name": "stdout",
     "output_type": "stream",
     "text": [
      "Getting data successfully at:  Ngõ 97 Phố Chính Kinh, chung cư full đồ, đầy đủ PCCC, gần rất nhiều trường đại học (NV, TN... )\n"
     ]
    },
    {
     "name": "stderr",
     "output_type": "stream",
     "text": []
    },
    {
     "name": "stdout",
     "output_type": "stream",
     "text": [
      "Getting data successfully at:  Ngõ 190 Nguyễn Trãi, chung cư full đồ, đầy đủ PCCC, gần rất nhiều trường đại học, Lh 0904 253 ***\n"
     ]
    },
    {
     "name": "stderr",
     "output_type": "stream",
     "text": []
    },
    {
     "name": "stdout",
     "output_type": "stream",
     "text": [
      "Getting data successfully at:  Chính chủ cho thuê phòng MP Đê La Thành: 25m2, điều hòa, nóng lạnh, thang máy, giá: 3,5tr/tháng\n"
     ]
    },
    {
     "name": "stderr",
     "output_type": "stream",
     "text": []
    },
    {
     "name": "stdout",
     "output_type": "stream",
     "text": [
      "Getting data successfully at:  Chính chủ cho thuê phòng CCMN ở Đội Cấn. Khu vực Vip của quận Ba Đình, giáp quận Đống Đa, Cầu Giấy\n"
     ]
    },
    {
     "name": "stderr",
     "output_type": "stream",
     "text": []
    },
    {
     "name": "stdout",
     "output_type": "stream",
     "text": [
      "Getting data successfully at:  Cho thuê phòng trọ full đồ từ 1,5tr đến 2,5tr/th ở 61 Hoàng Cầu, Đống Đa, Hà Nội\n"
     ]
    },
    {
     "name": "stderr",
     "output_type": "stream",
     "text": []
    },
    {
     "name": "stdout",
     "output_type": "stream",
     "text": [
      "Getting data successfully at:  Chính chủ cho thuê phòng Studio Ngõ 16 Nguyễn Khánh Toàn, Cầu Giấy, ô tô đỗ cách 10m\n"
     ]
    },
    {
     "name": "stderr",
     "output_type": "stream",
     "text": []
    },
    {
     "name": "stdout",
     "output_type": "stream",
     "text": [
      "Getting data successfully at:  Chính chủ cho thuê phòng Chiến Thắng, Hà Đông. DT 30m2, đầy đủ đồ. Chỉ từ 1,6tr. Vào ở ngay\n"
     ]
    },
    {
     "name": "stderr",
     "output_type": "stream",
     "text": []
    },
    {
     "name": "stdout",
     "output_type": "stream",
     "text": [
      "Getting data successfully at:  Phòng trọ homestay giường tầng rẻ nhất Quận Cầu Giấy, sạch, đẹp, mới. Full tiện ích chỉ từ 1450k\n"
     ]
    },
    {
     "name": "stderr",
     "output_type": "stream",
     "text": []
    },
    {
     "name": "stdout",
     "output_type": "stream",
     "text": [
      "Getting data successfully at:  Nhà view cực chill chill nóng lạnh điều hòa đủ cả 24/7\n"
     ]
    },
    {
     "name": "stderr",
     "output_type": "stream",
     "text": []
    },
    {
     "name": "stdout",
     "output_type": "stream",
     "text": [
      "Getting data successfully at:  Cho thuê CCMN Mễ Trì, gần KeangNam có ban công, bếp riêng biệt,gần chỗ gửi ôtô 4tr/th.LH 0833 811 ***\n"
     ]
    },
    {
     "name": "stderr",
     "output_type": "stream",
     "text": []
    },
    {
     "name": "stdout",
     "output_type": "stream",
     "text": [
      "Getting data successfully at:  Cho thuê phòng trọ tại Tứ Hiệp, Thanh Trì\n"
     ]
    },
    {
     "name": "stderr",
     "output_type": "stream",
     "text": []
    },
    {
     "name": "stdout",
     "output_type": "stream",
     "text": [
      "Getting data successfully at:  Chính chủ cho thuê phòng vào ở ngay- gần bến xe Nước Ngầm\n"
     ]
    },
    {
     "name": "stderr",
     "output_type": "stream",
     "text": []
    },
    {
     "name": "stdout",
     "output_type": "stream",
     "text": [
      "Getting data successfully at:  CCMN full đồ đối diện JW Marriott có ô thoáng sang xịn mịn\n"
     ]
    },
    {
     "name": "stderr",
     "output_type": "stream",
     "text": []
    },
    {
     "name": "stdout",
     "output_type": "stream",
     "text": [
      "Getting data successfully at:  CCMN full đồ ban công thoáng - khu vực Văn Quán Chiến Thắng - ở luôn - ô tô đỗ cửa\n"
     ]
    },
    {
     "name": "stderr",
     "output_type": "stream",
     "text": []
    },
    {
     "name": "stdout",
     "output_type": "stream",
     "text": [
      "Getting data successfully at:  Chính chủ cho thuê giường tầng số 16B8 Trần Quốc Hoàn\n"
     ]
    },
    {
     "name": "stderr",
     "output_type": "stream",
     "text": [
      "Link: https://batdongsan.com.vn/cho-thue-nha-tro-phong-tro-ha-noi/p6:  75%|███████▌  | 18/24 [02:32<00:50,  8.46s/link]\n",
      "Crawling first 8 pages:  35%|███▌      | 6/17 [18:58<33:56, 185.10s/page]"
     ]
    },
    {
     "name": "stdout",
     "output_type": "stream",
     "text": [
      "Getting data successfully at:  Chính chủ cho thuê căn hộ studio + 1 gác xép / chính chủ\n"
     ]
    },
    {
     "name": "stderr",
     "output_type": "stream",
     "text": []
    },
    {
     "name": "stdout",
     "output_type": "stream",
     "text": [
      "Getting data successfully at:  Cho thuê chung cư 30m2 full đồ tại Ba Đình\n"
     ]
    },
    {
     "name": "stderr",
     "output_type": "stream",
     "text": []
    },
    {
     "name": "stdout",
     "output_type": "stream",
     "text": [
      "Getting data successfully at:  Chính chủ cho thuê chung cư mini 1 khách 1 ngủ ngay cạnh hồ Văn Quán\n"
     ]
    },
    {
     "name": "stderr",
     "output_type": "stream",
     "text": []
    },
    {
     "name": "stdout",
     "output_type": "stream",
     "text": [
      "Getting data successfully at:  Ngõ 97 Phố Chính Kinh, chung cư full đồ, đầy đủ PCCC, gần rất nhiều trường đại học (NV, TN... )\n"
     ]
    },
    {
     "name": "stderr",
     "output_type": "stream",
     "text": []
    },
    {
     "name": "stdout",
     "output_type": "stream",
     "text": [
      "Getting data successfully at:  Ngõ 190 Nguyễn Trãi, chung cư full đồ, đầy đủ PCCC, gần rất nhiều trường đại học, Lh 0904 253 ***\n"
     ]
    },
    {
     "name": "stderr",
     "output_type": "stream",
     "text": []
    },
    {
     "name": "stdout",
     "output_type": "stream",
     "text": [
      "Getting data successfully at:  Chính chủ cho thuê phòng MP Đê La Thành: 25m2, điều hòa, nóng lạnh, thang máy, giá: 3,5tr/tháng\n"
     ]
    },
    {
     "name": "stderr",
     "output_type": "stream",
     "text": []
    },
    {
     "name": "stdout",
     "output_type": "stream",
     "text": [
      "Getting data successfully at:  Chính chủ cho thuê phòng CCMN ở Đội Cấn. Khu vực Vip của quận Ba Đình, giáp quận Đống Đa, Cầu Giấy\n"
     ]
    },
    {
     "name": "stderr",
     "output_type": "stream",
     "text": []
    },
    {
     "name": "stdout",
     "output_type": "stream",
     "text": [
      "Getting data successfully at:  Chính chủ cho thuê CHDV ngõ 210 Đội Cấn 50m2 có ban công full nội thất có tầng hầm để xe 7 tr/th\n"
     ]
    },
    {
     "name": "stderr",
     "output_type": "stream",
     "text": []
    },
    {
     "name": "stdout",
     "output_type": "stream",
     "text": [
      "Getting data successfully at:  Cho thuê phòng trọ full đồ tại gần KĐT Dương Nội 35 m2, chỉ hơn 3 triệu\n"
     ]
    },
    {
     "name": "stderr",
     "output_type": "stream",
     "text": []
    },
    {
     "name": "stdout",
     "output_type": "stream",
     "text": [
      "Getting data successfully at:  Chính chủ cho thuê CCMN tại 45/181 Yên Lãng, Đống Đa: LH 0989 344 ***\n"
     ]
    },
    {
     "name": "stderr",
     "output_type": "stream",
     "text": []
    },
    {
     "name": "stdout",
     "output_type": "stream",
     "text": [
      "Getting data successfully at:  CHO THUÊ CĂN HỘ STUDIO NẰM NGAY ĐƯỜNG LỚN PHẠM VĂN ĐỒNG, CỔ NHUẾ\n"
     ]
    },
    {
     "name": "stderr",
     "output_type": "stream",
     "text": []
    },
    {
     "name": "stdout",
     "output_type": "stream",
     "text": [
      "Getting data successfully at:  Chính chủ cho thuê phòng 35m2 tại khu đô thị Hinode Royal Park giá rẻ đầy đủ đồ sẵn vào ở ngay\n"
     ]
    },
    {
     "name": "stderr",
     "output_type": "stream",
     "text": []
    },
    {
     "name": "stdout",
     "output_type": "stream",
     "text": [
      "Getting data successfully at:  Chính chủ cho thuê p 38m đẹp khép kín ngõ 3 Thọ lão có ĐH, NL, MG, bếp không chung chủ 3,6tr/th\n"
     ]
    },
    {
     "name": "stderr",
     "output_type": "stream",
     "text": []
    },
    {
     "name": "stdout",
     "output_type": "stream",
     "text": [
      "Getting data successfully at:  Cho thuê phòng trọ mới tinh tại Tân Triều Full đồ cực rẻ, 25m2, PKK. Thuận tiện. Chỉ 3,5tr/ tháng\n"
     ]
    },
    {
     "name": "stderr",
     "output_type": "stream",
     "text": []
    },
    {
     "name": "stdout",
     "output_type": "stream",
     "text": [
      "Getting data successfully at:  TingTong 39 - phòng full đồ ngay gần đại học Hà Nội, ga Phùng Khoang, tiện ích đầy đủ\n"
     ]
    },
    {
     "name": "stderr",
     "output_type": "stream",
     "text": []
    },
    {
     "name": "stdout",
     "output_type": "stream",
     "text": [
      "Getting data successfully at:  Chỉ 2,8tr/phòng đã full đồ ô tô đỗ cửa Xuân Phương. Ra Mỹ Đình 5ph sang Vinsmart City Tây Mỗ 3ph\n"
     ]
    },
    {
     "name": "stderr",
     "output_type": "stream",
     "text": []
    },
    {
     "name": "stdout",
     "output_type": "stream",
     "text": [
      "Getting data successfully at:  Cho thuê phòng khép kín mặt ngõ 157 Chùa Láng\n"
     ]
    },
    {
     "name": "stderr",
     "output_type": "stream",
     "text": []
    },
    {
     "name": "stdout",
     "output_type": "stream",
     "text": [
      "Getting data successfully at:  Cho thuê phòng gác xép 12m2 vệ sinh riêng số 27 ngõ 33 Lãng Yên HN\n"
     ]
    },
    {
     "name": "stderr",
     "output_type": "stream",
     "text": []
    },
    {
     "name": "stdout",
     "output_type": "stream",
     "text": [
      "Getting data successfully at:  Chính chủ cho thuê phòng tại ngõ 66B Triều Khúc full NT. Có ban công, khép kín. Giá 3tr3 0908 764 ***\n"
     ]
    },
    {
     "name": "stderr",
     "output_type": "stream",
     "text": []
    },
    {
     "name": "stdout",
     "output_type": "stream",
     "text": [
      "Getting data successfully at:  Lý Thường Kiệt tặng 500k trải nghiệm nhà mặt phố\n"
     ]
    },
    {
     "name": "stderr",
     "output_type": "stream",
     "text": []
    },
    {
     "name": "stdout",
     "output_type": "stream",
     "text": [
      "Getting data successfully at:  Có phòng trống tại nhà trọ số 46, ngõ 204, Trần Duy Hưng\n"
     ]
    },
    {
     "name": "stderr",
     "output_type": "stream",
     "text": []
    },
    {
     "name": "stdout",
     "output_type": "stream",
     "text": [
      "Getting data successfully at:  Chính chủ cho thuê căn hộ studio mới, full đồ - có ban công\n"
     ]
    },
    {
     "name": "stderr",
     "output_type": "stream",
     "text": []
    },
    {
     "name": "stdout",
     "output_type": "stream",
     "text": [
      "Getting data successfully at:  Phòng Trần Cung, 30m2, ban công thoáng, free tiền phòng hết tháng 2\n"
     ]
    },
    {
     "name": "stderr",
     "output_type": "stream",
     "text": [
      "Link: https://batdongsan.com.vn/cho-thue-nha-tro-phong-tro-ha-noi/p7: 100%|██████████| 24/24 [02:57<00:00,  7.38s/link]\n",
      "Crawling first 8 pages:  41%|████      | 7/17 [22:01<30:45, 184.58s/page]"
     ]
    },
    {
     "name": "stdout",
     "output_type": "stream",
     "text": [
      "Getting data successfully at:  Cho thuê nhà có điều hòa ở Hà Đông\n",
      "Hoàn thành việc crawl và lưu dữ liệu tại page thứ 1\n"
     ]
    },
    {
     "name": "stderr",
     "output_type": "stream",
     "text": []
    },
    {
     "name": "stdout",
     "output_type": "stream",
     "text": [
      "Getting data successfully at:  Cho thuê phòng riêng không chung chủ, nhà có ban công ở Ba Đình\n"
     ]
    },
    {
     "name": "stderr",
     "output_type": "stream",
     "text": []
    },
    {
     "name": "stdout",
     "output_type": "stream",
     "text": [
      "Getting data successfully at:  Phòng từ 4,1 triệu - PCCC - ngõ 26 Mỹ Đình, BX Mỹ Đình, CĐ FPT - Bách Khoa, ĐH Thương mại, Quốc gia\n"
     ]
    },
    {
     "name": "stderr",
     "output_type": "stream",
     "text": []
    },
    {
     "name": "stdout",
     "output_type": "stream",
     "text": [
      "Getting data successfully at:  Cho thuê phòng trọ sinh viên và hộ gia đình ở KĐT Vân Canh HUD, LH 0945 181 ***\n"
     ]
    },
    {
     "name": "stderr",
     "output_type": "stream",
     "text": []
    },
    {
     "name": "stdout",
     "output_type": "stream",
     "text": [
      "Getting data successfully at:  Ngõ 97 Phố Chính Kinh, chung cư full đồ, đầy đủ PCCC, gần rất nhiều trường đại học (NV, TN... )\n"
     ]
    },
    {
     "name": "stderr",
     "output_type": "stream",
     "text": []
    },
    {
     "name": "stdout",
     "output_type": "stream",
     "text": [
      "Getting data successfully at:  Ngõ 190 Nguyễn Trãi, chung cư full đồ, đầy đủ PCCC, gần rất nhiều trường đại học, Lh 0904 253 ***\n"
     ]
    },
    {
     "name": "stderr",
     "output_type": "stream",
     "text": []
    },
    {
     "name": "stdout",
     "output_type": "stream",
     "text": [
      "Getting data successfully at:  Chính chủ cho thuê phòng MP Đê La Thành: 25m2, điều hòa, nóng lạnh, thang máy, giá: 3,5tr/tháng\n"
     ]
    },
    {
     "name": "stderr",
     "output_type": "stream",
     "text": []
    },
    {
     "name": "stdout",
     "output_type": "stream",
     "text": [
      "Getting data successfully at:  Chính chủ cho thuê phòng CCMN ở Đội Cấn. Khu vực Vip của quận Ba Đình, giáp quận Đống Đa, Cầu Giấy\n"
     ]
    },
    {
     "name": "stderr",
     "output_type": "stream",
     "text": []
    },
    {
     "name": "stdout",
     "output_type": "stream",
     "text": [
      "Getting data successfully at:  Cho thuê phòng trọ mặt phố Lê Quý Đôn, 18m2 giá 3tr/th, quận Hai Bà Trưng an ninh đảm bảo văn minh\n"
     ]
    },
    {
     "name": "stderr",
     "output_type": "stream",
     "text": []
    },
    {
     "name": "stdout",
     "output_type": "stream",
     "text": [
      "Getting data successfully at:  Chính chủ cho thuê căn hộ khép kín - 387/31 Vũ Tông Phan - nhà mới full đồ ô tô vào - LH 0988 389 ***\n"
     ]
    },
    {
     "name": "stderr",
     "output_type": "stream",
     "text": []
    },
    {
     "name": "stdout",
     "output_type": "stream",
     "text": [
      "Getting data successfully at:  Phòng ở ngay đường Đỗ Đức Dục - Mễ Trì, DT 32m2 khép kín, có gác xép rộng, cao\n"
     ]
    },
    {
     "name": "stderr",
     "output_type": "stream",
     "text": []
    },
    {
     "name": "stdout",
     "output_type": "stream",
     "text": [
      "Getting data successfully at:  Phòng rộng thoáng, view đẹp đủ nội thất giá 4,3 triệu/th tại Phố Trạm (gần Aeon Mall)\n"
     ]
    },
    {
     "name": "stderr",
     "output_type": "stream",
     "text": []
    },
    {
     "name": "stdout",
     "output_type": "stream",
     "text": [
      "Getting data successfully at:  Cho thuê phòng full tiện nghi giá 3.3tr/th tại 421 Bát Khối, đối diện Aeon Mall Long Biên\n"
     ]
    },
    {
     "name": "stderr",
     "output_type": "stream",
     "text": []
    },
    {
     "name": "stdout",
     "output_type": "stream",
     "text": [
      "Getting data successfully at:  Cho thuê CCMN ngay trường Chu Văn An, 25m - 35m2 full đồ, sân để xe riêng, ô tô vào. 3.3 triệu/th\n"
     ]
    },
    {
     "name": "stderr",
     "output_type": "stream",
     "text": []
    },
    {
     "name": "stdout",
     "output_type": "stream",
     "text": [
      "Getting data successfully at:  CC cho thuê phòng 30m2, full đồ, Tây Nam Linh Đàm, đối diện cổng trường Chu Văn An, ô tô, 3.3 triệu\n"
     ]
    },
    {
     "name": "stderr",
     "output_type": "stream",
     "text": []
    },
    {
     "name": "stdout",
     "output_type": "stream",
     "text": [
      "Getting data successfully at:  Cho thuê nhà chính chủ, đủ tiện nghi, 260 Kim Ngưu, Lạc Trung, Hà Nội\n"
     ]
    },
    {
     "name": "stderr",
     "output_type": "stream",
     "text": []
    },
    {
     "name": "stdout",
     "output_type": "stream",
     "text": [
      "Getting data successfully at:  TingTong 119 - CCMN full đồ- ôtô đỗ cách 150m - gần đường Trung Văn- Lương Thế Vinh -Lê Văn Lương\n"
     ]
    },
    {
     "name": "stderr",
     "output_type": "stream",
     "text": []
    },
    {
     "name": "stdout",
     "output_type": "stream",
     "text": [
      "Getting data successfully at:  TingTong 115 - Studio cực chất mới tinh tiện ích đầy đủ Văn Quán, Hà Đông\n"
     ]
    },
    {
     "name": "stderr",
     "output_type": "stream",
     "text": []
    },
    {
     "name": "stdout",
     "output_type": "stream",
     "text": [
      "Getting data successfully at:  TingTong 144 - Phòng gác xép - tiện nghi - Ngô Thì Sỹ, Vạn Phúc - giá siêu rẻ ở luôn\n"
     ]
    },
    {
     "name": "stderr",
     "output_type": "stream",
     "text": []
    },
    {
     "name": "stdout",
     "output_type": "stream",
     "text": [
      "Getting data successfully at:  TingTong 150 - Siêu phẩm mới tinh ngay gần BigC, Đại Lộ Thăng Long, Mễ Trì - Phòng trống vào ở ngay\n"
     ]
    },
    {
     "name": "stderr",
     "output_type": "stream",
     "text": []
    },
    {
     "name": "stdout",
     "output_type": "stream",
     "text": [
      "Getting data successfully at:  TingTong 59 - CCMN full đồ ô tô đỗ cửa ngay ngã tư Vạn Phúc - Tố Hữu\n"
     ]
    },
    {
     "name": "stderr",
     "output_type": "stream",
     "text": []
    },
    {
     "name": "stdout",
     "output_type": "stream",
     "text": [
      "Getting data successfully at:  TingTong 149 - phòng full đồ từ A - Z có gác xép - ở ngay - cách đường Nguyễn Xiển 100m\n"
     ]
    },
    {
     "name": "stderr",
     "output_type": "stream",
     "text": []
    },
    {
     "name": "stdout",
     "output_type": "stream",
     "text": [
      "Getting data successfully at:  Tingtong 28 - nhà trọ đủ tiện ích - giá rẻ - vào ở ngay - cửa sổ thoáng khu vực Hà Đông\n"
     ]
    },
    {
     "name": "stderr",
     "output_type": "stream",
     "text": []
    },
    {
     "name": "stdout",
     "output_type": "stream",
     "text": [
      "Getting data successfully at:  Tingtong 95 - Gác xép cao full đồ 500m ra Nguyễn Trãi, 200m ra Nguyễn Xiển, 2km Ngã Tư Sở full đồ\n"
     ]
    },
    {
     "name": "stderr",
     "output_type": "stream",
     "text": [
      "Link: https://batdongsan.com.vn/cho-thue-nha-tro-phong-tro-ha-noi/p8: 100%|██████████| 24/24 [03:00<00:00,  7.53s/link]\n",
      "Crawling first 8 pages:  47%|████▋     | 8/17 [25:07<27:45, 185.07s/page]"
     ]
    },
    {
     "name": "stdout",
     "output_type": "stream",
     "text": [
      "Getting data successfully at:  Cho thuê nhà trọ tại Hào Nam, 1,9 triệu, đẹp, nhiều tiện ích\n",
      "Hoàn thành việc crawl và lưu dữ liệu tại page thứ 1\n"
     ]
    },
    {
     "name": "stderr",
     "output_type": "stream",
     "text": []
    },
    {
     "name": "stdout",
     "output_type": "stream",
     "text": [
      "Getting data successfully at:  TingTong 71 - gác xép full đồ có ban công - tách bếp ĐH Thăng Long, The Manor, 3km Ngã Tư Sở\n"
     ]
    },
    {
     "name": "stderr",
     "output_type": "stream",
     "text": []
    },
    {
     "name": "stdout",
     "output_type": "stream",
     "text": [
      "Getting data successfully at:  TingTong 52 - phòng trọ mới tinh tại Kim Giang full đồ - bếp tách riêng - cửa sổ thoáng\n"
     ]
    },
    {
     "name": "stderr",
     "output_type": "stream",
     "text": []
    },
    {
     "name": "stdout",
     "output_type": "stream",
     "text": [
      "Getting data successfully at:  Tingtong 78 - CCMN full đồ ngay 619 Vũ Tông Phan ban công siêu thoáng - ô tô đỗ cửa ở luôn\n"
     ]
    },
    {
     "name": "stderr",
     "output_type": "stream",
     "text": []
    },
    {
     "name": "stdout",
     "output_type": "stream",
     "text": [
      "Getting data successfully at:  Ngõ 97 Phố Chính Kinh, chung cư full đồ, đầy đủ PCCC, gần rất nhiều trường đại học (NV, TN... )\n"
     ]
    },
    {
     "name": "stderr",
     "output_type": "stream",
     "text": []
    },
    {
     "name": "stdout",
     "output_type": "stream",
     "text": [
      "Getting data successfully at:  Ngõ 190 Nguyễn Trãi, chung cư full đồ, đầy đủ PCCC, gần rất nhiều trường đại học, Lh 0904 253 ***\n"
     ]
    },
    {
     "name": "stderr",
     "output_type": "stream",
     "text": []
    },
    {
     "name": "stdout",
     "output_type": "stream",
     "text": [
      "Getting data successfully at:  Chính chủ cho thuê phòng MP Đê La Thành: 25m2, điều hòa, nóng lạnh, thang máy, giá: 3,5tr/tháng\n"
     ]
    },
    {
     "name": "stderr",
     "output_type": "stream",
     "text": []
    },
    {
     "name": "stdout",
     "output_type": "stream",
     "text": [
      "Getting data successfully at:  Chính chủ cho thuê phòng CCMN ở Đội Cấn. Khu vực Vip của quận Ba Đình, giáp quận Đống Đa, Cầu Giấy\n"
     ]
    },
    {
     "name": "stderr",
     "output_type": "stream",
     "text": []
    },
    {
     "name": "stdout",
     "output_type": "stream",
     "text": [
      "Getting data successfully at:  TingTong 124 - gác xép khu vực Hồ Tùng Mậu ĐH Quốc Gia, Thương Mại, Hunre ở được luôn\n"
     ]
    },
    {
     "name": "stderr",
     "output_type": "stream",
     "text": []
    },
    {
     "name": "stdout",
     "output_type": "stream",
     "text": [
      "Getting data successfully at:  TingTong 106 - căn hộ cao cấp full đồ ban công rộng rãi ô tô đỗ khu vực Nghĩa Đô - Cầu Giấy\n"
     ]
    },
    {
     "name": "stderr",
     "output_type": "stream",
     "text": []
    },
    {
     "name": "stdout",
     "output_type": "stream",
     "text": [
      "Getting data successfully at:  TingTong 75 - CCMN ở trung tâm Xuân La - Tây Hồ, 500m ra Hồ Tây\n"
     ]
    },
    {
     "name": "stderr",
     "output_type": "stream",
     "text": []
    },
    {
     "name": "stdout",
     "output_type": "stream",
     "text": [
      "Getting data successfully at:  TingTong 13 - CCMN giá rẻ sinh viên khu vực Bắc Từ Liêm, Cổ Nhuế gần KĐT Resco\n"
     ]
    },
    {
     "name": "stderr",
     "output_type": "stream",
     "text": []
    },
    {
     "name": "stdout",
     "output_type": "stream",
     "text": [
      "Getting data successfully at:  TingTong 22 - căn hộ giá rẻ nhất khu vực Xuân Đỉnh - Hồ Tây đủ đồ (không điều hòa)\n"
     ]
    },
    {
     "name": "stderr",
     "output_type": "stream",
     "text": []
    },
    {
     "name": "stdout",
     "output_type": "stream",
     "text": [
      "Getting data successfully at:  TingTong 110 - cho thuê phòng full đồ, ô tô đỗ cửa khu Xuân La - Tây Hồ\n"
     ]
    },
    {
     "name": "stderr",
     "output_type": "stream",
     "text": []
    },
    {
     "name": "stdout",
     "output_type": "stream",
     "text": [
      "Getting data successfully at:  TingTong 104 - CCMN gác xép tiện nghi giá tốt khu vực CV Hòa Bình, Ngoại Giao Đoàn\n"
     ]
    },
    {
     "name": "stderr",
     "output_type": "stream",
     "text": []
    },
    {
     "name": "stdout",
     "output_type": "stream",
     "text": [
      "Getting data successfully at:  TingTong 72 - CCMN ngõ 177 Cầu Diễn - Cuối Hồ Tùng Mậu gần Thương Mại - FPT\n"
     ]
    },
    {
     "name": "stderr",
     "output_type": "stream",
     "text": []
    },
    {
     "name": "stdout",
     "output_type": "stream",
     "text": [
      "Getting data successfully at:  Cho thuê chung cư mini hàng loại vip rẻ hơn 20% thị trường, rẻ nhất (hệ thống PCCC, chuẩn)\n"
     ]
    },
    {
     "name": "stderr",
     "output_type": "stream",
     "text": []
    },
    {
     "name": "stdout",
     "output_type": "stream",
     "text": [
      "Getting data successfully at:  Cho thuê phòng trọ khu Lideco, Hoài Đức gần trường ĐH Công nghiệp giá từ 2,5 triệu\n"
     ]
    },
    {
     "name": "stderr",
     "output_type": "stream",
     "text": []
    },
    {
     "name": "stdout",
     "output_type": "stream",
     "text": [
      "Getting data successfully at:  Chính chủ cho thuê căn hộ dịch vụ tại KĐT Văn Phú, Hà Đông, nhà mới bóc tem, full nội thất\n"
     ]
    },
    {
     "name": "stderr",
     "output_type": "stream",
     "text": []
    },
    {
     "name": "stdout",
     "output_type": "stream",
     "text": [
      "Getting data successfully at:  Cho thuê phòng ngõ 402 Mỹ Đình, full đồ, nhà thoáng, ở ngay, giờ tự do giá từ 2.8 tr/ tháng\n"
     ]
    },
    {
     "name": "stderr",
     "output_type": "stream",
     "text": []
    },
    {
     "name": "stdout",
     "output_type": "stream",
     "text": [
      "Getting data successfully at:  Chính chủ cho thuê CCMN 575 Kim Mã, Ba Đình 1N1K full đồ đẹp hơn khách sạn 5*\n"
     ]
    },
    {
     "name": "stderr",
     "output_type": "stream",
     "text": []
    },
    {
     "name": "stdout",
     "output_type": "stream",
     "text": [
      "Getting data successfully at:  Cho thuê phòng trọ nhà cấp 4, có 2 phòng khác nhau\n"
     ]
    },
    {
     "name": "stderr",
     "output_type": "stream",
     "text": []
    },
    {
     "name": "stdout",
     "output_type": "stream",
     "text": [
      "Getting data successfully at:  Cho thuê 2 ngủ 1 khách Dương Nội, gần Aeon Mall Hà Đông, có lot ô tô, full đồ giá từ 7 tr/th\n"
     ]
    },
    {
     "name": "stderr",
     "output_type": "stream",
     "text": []
    },
    {
     "name": "stdout",
     "output_type": "stream",
     "text": [
      "Getting data successfully at:  Ngay Chiến Thắng - Văn Quán còn phòng giá rẻ đủ đồ có thể ở ngay tiện ra Nguyễn Trãi, Trần Phú\n"
     ]
    },
    {
     "name": "stderr",
     "output_type": "stream",
     "text": [
      "Link: https://batdongsan.com.vn/cho-thue-nha-tro-phong-tro-ha-noi/p9: 100%|██████████| 24/24 [03:36<00:00,  9.03s/link]\n",
      "Crawling first 8 pages:  53%|█████▎    | 9/17 [28:50<26:15, 196.97s/page]"
     ]
    },
    {
     "name": "stdout",
     "output_type": "stream",
     "text": [
      "Getting data successfully at:  Ban công siêu thoáng có máy giặt riêng ngay Bưởi - Lạc Long Quân - Võng Thị full đồ giá tốt\n",
      "Hoàn thành việc crawl và lưu dữ liệu tại page thứ 1\n"
     ]
    },
    {
     "name": "stderr",
     "output_type": "stream",
     "text": []
    },
    {
     "name": "stdout",
     "output_type": "stream",
     "text": [
      "Getting data successfully at:  Căn phòng ban công máy giặt riêng - mặt đường ngay Văn Tiến Dũng - đủ đồ y hình vào ngay\n"
     ]
    },
    {
     "name": "stderr",
     "output_type": "stream",
     "text": []
    },
    {
     "name": "stdout",
     "output_type": "stream",
     "text": [
      "Getting data successfully at:  Phòng có WC khép kín rộng thoáng Lĩnh Nam, thang máy, nóng lạnh, điều hòa, thoát hiểm, view đẹp\n"
     ]
    },
    {
     "name": "stderr",
     "output_type": "stream",
     "text": []
    },
    {
     "name": "stdout",
     "output_type": "stream",
     "text": [
      "Getting data successfully at:  Cho thuê phòng Việt Hưng, Long Biên\n"
     ]
    },
    {
     "name": "stderr",
     "output_type": "stream",
     "text": []
    },
    {
     "name": "stdout",
     "output_type": "stream",
     "text": [
      "Getting data successfully at:  Ngõ 97 Phố Chính Kinh, chung cư full đồ, đầy đủ PCCC, gần rất nhiều trường đại học (NV, TN... )\n"
     ]
    },
    {
     "name": "stderr",
     "output_type": "stream",
     "text": []
    },
    {
     "name": "stdout",
     "output_type": "stream",
     "text": [
      "Getting data successfully at:  Ngõ 190 Nguyễn Trãi, chung cư full đồ, đầy đủ PCCC, gần rất nhiều trường đại học, Lh 0904 253 ***\n"
     ]
    },
    {
     "name": "stderr",
     "output_type": "stream",
     "text": []
    },
    {
     "name": "stdout",
     "output_type": "stream",
     "text": [
      "Getting data successfully at:  Chính chủ cho thuê phòng MP Đê La Thành: 25m2, điều hòa, nóng lạnh, thang máy, giá: 3,5tr/tháng\n"
     ]
    },
    {
     "name": "stderr",
     "output_type": "stream",
     "text": []
    },
    {
     "name": "stdout",
     "output_type": "stream",
     "text": [
      "Getting data successfully at:  Chính chủ cho thuê phòng CCMN ở Đội Cấn. Khu vực Vip của quận Ba Đình, giáp quận Đống Đa, Cầu Giấy\n"
     ]
    },
    {
     "name": "stderr",
     "output_type": "stream",
     "text": []
    },
    {
     "name": "stdout",
     "output_type": "stream",
     "text": [
      "Getting data successfully at:  Cho thuê phòng trọ giá ưu đãi tại 23 Lý Sơn, Ngọc Thụy, Long Biên, Hà Nội\n"
     ]
    },
    {
     "name": "stderr",
     "output_type": "stream",
     "text": []
    },
    {
     "name": "stdout",
     "output_type": "stream",
     "text": [
      "Getting data successfully at:  Cho thuê phòng trọ giá siêu hời chỉ 2,2tr/th tại 316 Ngọc Trì, Long Biên, Hà Nội\n"
     ]
    },
    {
     "name": "stderr",
     "output_type": "stream",
     "text": []
    },
    {
     "name": "stdout",
     "output_type": "stream",
     "text": [
      "Getting data successfully at:  Cho thuê phòng chính chủ Long Biên\n"
     ]
    },
    {
     "name": "stderr",
     "output_type": "stream",
     "text": []
    },
    {
     "name": "stdout",
     "output_type": "stream",
     "text": [
      "Getting data successfully at:  Cho thuê phòng chính chủ gần 10m2, có cửa sổ\n"
     ]
    },
    {
     "name": "stderr",
     "output_type": "stream",
     "text": []
    },
    {
     "name": "stdout",
     "output_type": "stream",
     "text": [
      "Getting data successfully at:  TRỐNG PHÒNG FULL ĐỒ - BAN CÔNG - MẶT ĐƯỜNG LỚN OTO ĐỖ CỬA\n"
     ]
    },
    {
     "name": "stderr",
     "output_type": "stream",
     "text": []
    },
    {
     "name": "stdout",
     "output_type": "stream",
     "text": [
      "Getting data successfully at:  Trống 1 phòng tại 12 Châu Long vào đươc ngay giá 8.5tr/th\n"
     ]
    },
    {
     "name": "stderr",
     "output_type": "stream",
     "text": []
    },
    {
     "name": "stdout",
     "output_type": "stream",
     "text": [
      "Getting data successfully at:  Cho thuê phòng khép kín đầy đủ đồ - 3.5 tr/th tại ngõ 2 Hoàng Cầu - Đống Đa\n"
     ]
    },
    {
     "name": "stderr",
     "output_type": "stream",
     "text": []
    },
    {
     "name": "stdout",
     "output_type": "stream",
     "text": [
      "Getting data successfully at:  Phòng rẻ đẹp ở 1 người, đủ đồ 61 Hoàng Cầu, ngõ rộng thoáng 1.9-2.3 tr\n"
     ]
    },
    {
     "name": "stderr",
     "output_type": "stream",
     "text": []
    },
    {
     "name": "stdout",
     "output_type": "stream",
     "text": [
      "Getting data successfully at:  Cho thuê phòng homes tay cho người ở dài hạn - Tại An Dương Vương - Tiện đi làm, đi học\n"
     ]
    },
    {
     "name": "stderr",
     "output_type": "stream",
     "text": []
    },
    {
     "name": "stdout",
     "output_type": "stream",
     "text": [
      "Getting data successfully at:  Cho thuê phòng trọ Mộ Lao, hà Đông\n"
     ]
    },
    {
     "name": "stderr",
     "output_type": "stream",
     "text": []
    },
    {
     "name": "stdout",
     "output_type": "stream",
     "text": [
      "Getting data successfully at:  Cho thuê phòng 30m2 chính chủ tại Hà Đông\n"
     ]
    },
    {
     "name": "stderr",
     "output_type": "stream",
     "text": []
    },
    {
     "name": "stdout",
     "output_type": "stream",
     "text": [
      "Getting data successfully at:  CCMN VnaHomes 29 Ngõ Hàng Cháo đối diện Sân Vận Động Hàng Đẫy\n"
     ]
    },
    {
     "name": "stderr",
     "output_type": "stream",
     "text": []
    },
    {
     "name": "stdout",
     "output_type": "stream",
     "text": [
      "Getting data successfully at:  Homestay miễn phí điện nước giá chỉ hơn 1trx/tháng/slot (khắp Hà Nội hơn 100 cơ sở)\n"
     ]
    },
    {
     "name": "stderr",
     "output_type": "stream",
     "text": []
    },
    {
     "name": "stdout",
     "output_type": "stream",
     "text": [
      "Getting data successfully at:  Homestay miễn phí điện nước giá chỉ hơn 1tr5 - 1tr690k/ tháng/slot Mỗ Lao và Trần Phú và Triều Khúc\n"
     ]
    },
    {
     "name": "stderr",
     "output_type": "stream",
     "text": []
    },
    {
     "name": "stdout",
     "output_type": "stream",
     "text": [
      "Getting data successfully at:  30m2 ban công rộng gần Nguyễn Khang, Cầu Giấy full đồ chỉ 4tr4/tháng\n"
     ]
    },
    {
     "name": "stderr",
     "output_type": "stream",
     "text": []
    },
    {
     "name": "stdout",
     "output_type": "stream",
     "text": [
      "Getting data successfully at:  CCMN full đồ cả TV tủ lạnh Khương Đình Ngã Tư Sở chỉ 4tr3/tháng\n"
     ]
    },
    {
     "name": "stderr",
     "output_type": "stream",
     "text": [
      "Link: https://batdongsan.com.vn/cho-thue-nha-tro-phong-tro-ha-noi/p10: 100%|██████████| 24/24 [03:08<00:00,  7.85s/link]\n",
      "Crawling first 8 pages:  59%|█████▉    | 10/17 [32:05<22:53, 196.21s/page]"
     ]
    },
    {
     "name": "stdout",
     "output_type": "stream",
     "text": [
      "Getting data successfully at:  CCMN Lê Đức Thọ mới xây Full đồ cửa sổ rộng chỉ 3tr8/tháng\n",
      "Hoàn thành việc crawl và lưu dữ liệu tại page thứ 1\n"
     ]
    },
    {
     "name": "stderr",
     "output_type": "stream",
     "text": []
    },
    {
     "name": "stdout",
     "output_type": "stream",
     "text": [
      "Getting data successfully at:  Cho thuê căn hộ dịch vụ full nội thất tại Nguyễn Văn Cừ\n"
     ]
    },
    {
     "name": "stderr",
     "output_type": "stream",
     "text": []
    },
    {
     "name": "stdout",
     "output_type": "stream",
     "text": [
      "Getting data successfully at:  5/77 Bằng Liệt còn trống p201 , ở ngay, ko chung chủ, giờ giấc tự do\n"
     ]
    },
    {
     "name": "stderr",
     "output_type": "stream",
     "text": []
    },
    {
     "name": "stdout",
     "output_type": "stream",
     "text": [
      "Getting data successfully at:  Cho thuê phòng trọ đẹp, 2,3 triệu, 15m2 tại Chùa Quỳnh, Thanh Nhàn, Hai Bà Trưng, HN\n"
     ]
    },
    {
     "name": "stderr",
     "output_type": "stream",
     "text": []
    },
    {
     "name": "stdout",
     "output_type": "stream",
     "text": [
      "Getting data successfully at:  Ngõ 97 Phố Chính Kinh, chung cư full đồ, đầy đủ PCCC, gần rất nhiều trường đại học (NV, TN... )\n"
     ]
    },
    {
     "name": "stderr",
     "output_type": "stream",
     "text": []
    },
    {
     "name": "stdout",
     "output_type": "stream",
     "text": [
      "Getting data successfully at:  Ngõ 190 Nguyễn Trãi, chung cư full đồ, đầy đủ PCCC, gần rất nhiều trường đại học, Lh 0904 253 ***\n"
     ]
    },
    {
     "name": "stderr",
     "output_type": "stream",
     "text": []
    },
    {
     "name": "stdout",
     "output_type": "stream",
     "text": [
      "Getting data successfully at:  Chính chủ cho thuê phòng MP Đê La Thành: 25m2, điều hòa, nóng lạnh, thang máy, giá: 3,5tr/tháng\n"
     ]
    },
    {
     "name": "stderr",
     "output_type": "stream",
     "text": []
    },
    {
     "name": "stdout",
     "output_type": "stream",
     "text": [
      "Getting data successfully at:  Chính chủ cho thuê phòng CCMN ở Đội Cấn. Khu vực Vip của quận Ba Đình, giáp quận Đống Đa, Cầu Giấy\n"
     ]
    },
    {
     "name": "stderr",
     "output_type": "stream",
     "text": []
    },
    {
     "name": "stdout",
     "output_type": "stream",
     "text": [
      "Getting data successfully at:  Phòng studio đồ cơ bản 18m2: 2.6-2.8 tr; Studio đủ đồ 27m2: 3.4tr; Combo 2 studio: 5.8 -6.0 tr\n"
     ]
    },
    {
     "name": "stderr",
     "output_type": "stream",
     "text": []
    },
    {
     "name": "stdout",
     "output_type": "stream",
     "text": [
      "Getting data successfully at:  Khai trương nhà mới full đồ cạnh hồ Văn Quán\n"
     ]
    },
    {
     "name": "stderr",
     "output_type": "stream",
     "text": []
    },
    {
     "name": "stdout",
     "output_type": "stream",
     "text": [
      "Getting data successfully at:  Cho thuê phòng để ở hoặc làm văn phòng tại 269 Nguyễn Khang, Yên Hoà, Cầu Giấy. 0832 134 ***\n"
     ]
    },
    {
     "name": "stderr",
     "output_type": "stream",
     "text": []
    },
    {
     "name": "stdout",
     "output_type": "stream",
     "text": [
      "Getting data successfully at:  Cho thuê phòng trọ trực tiếp ko qua môi giới (Ko chung chủ) 16 ngõ 93/29 Tam trinh yên sở\n"
     ]
    },
    {
     "name": "stderr",
     "output_type": "stream",
     "text": []
    },
    {
     "name": "stdout",
     "output_type": "stream",
     "text": [
      "Getting data successfully at:  Cho thuê CCMN ở Ngọc Thụy, gần cầu Long Biên full nội thất cao cấp, giá 6tr/th\n"
     ]
    },
    {
     "name": "stderr",
     "output_type": "stream",
     "text": []
    },
    {
     "name": "stdout",
     "output_type": "stream",
     "text": [
      "Getting data successfully at:  Cho thuê phòng trọ tại 9B ngõ 397 Phạm Văn Đồng, giá cực chất 3.9 triệu, 35 m2\n"
     ]
    },
    {
     "name": "stderr",
     "output_type": "stream",
     "text": []
    },
    {
     "name": "stdout",
     "output_type": "stream",
     "text": [
      "Getting data successfully at:  Cho thuê phòng trọ Đại Kim - Hoàng Mai - HN\n"
     ]
    },
    {
     "name": "stderr",
     "output_type": "stream",
     "text": []
    },
    {
     "name": "stdout",
     "output_type": "stream",
     "text": [
      "Getting data successfully at:  Cho thuê trọ Chiến Thắng - Văn Quán Hà Đông, full đồ, mới, khép kín 3,7-4,5tr 0983 669 ***\n"
     ]
    },
    {
     "name": "stderr",
     "output_type": "stream",
     "text": []
    },
    {
     "name": "stdout",
     "output_type": "stream",
     "text": [
      "Getting data successfully at:  Chính chủ cho thuê CCMN full đồ\n"
     ]
    },
    {
     "name": "stderr",
     "output_type": "stream",
     "text": []
    },
    {
     "name": "stdout",
     "output_type": "stream",
     "text": [
      "Getting data successfully at:  Căn hộ gác xép 30m siêu rộng rãi full đồ - PCCC an toàn tuyệt đối\n"
     ]
    },
    {
     "name": "stderr",
     "output_type": "stream",
     "text": []
    },
    {
     "name": "stdout",
     "output_type": "stream",
     "text": [
      "Getting data successfully at:  Cho thuê phòng trọ giá rẻ tại Xuân La\n"
     ]
    },
    {
     "name": "stderr",
     "output_type": "stream",
     "text": []
    },
    {
     "name": "stdout",
     "output_type": "stream",
     "text": [
      "Getting data successfully at:  Chính chủ cho thuê phòng trọ giá thấp nhất Quận Hà Đông, giá cực sốc hiếm có, LH 0979 546 ***\n"
     ]
    },
    {
     "name": "stderr",
     "output_type": "stream",
     "text": []
    },
    {
     "name": "stdout",
     "output_type": "stream",
     "text": [
      "Getting data successfully at:  Cho thuê chung cư mini gần đại học công nghiệp hà nội giá rẻ vào ngay 30m2 mới 100%\n"
     ]
    },
    {
     "name": "stderr",
     "output_type": "stream",
     "text": []
    },
    {
     "name": "stdout",
     "output_type": "stream",
     "text": [
      "Getting data successfully at:  Cần nhượng thuê lại căn hộ 1N1B sang xịn như khách sạn. Đầy đủ tiện ích chỉ việc xách vali đến ở\n"
     ]
    },
    {
     "name": "stderr",
     "output_type": "stream",
     "text": []
    },
    {
     "name": "stdout",
     "output_type": "stream",
     "text": [
      "Getting data successfully at:  Chính chủ cho thuê lại phòng 1N1B mặt phố Duy Tân. Phòng đủ đồ và tiện ích như khách sạn. View đẹp\n"
     ]
    },
    {
     "name": "stderr",
     "output_type": "stream",
     "text": []
    },
    {
     "name": "stdout",
     "output_type": "stream",
     "text": [
      "Getting data successfully at:  Cho thuê phòng trọ đủ đồ giá 2.2tr/th tại 24 Phan Bá Vành, sau bộ công an, riêng biệt rộng 13m2\n"
     ]
    },
    {
     "name": "stderr",
     "output_type": "stream",
     "text": [
      "Link: https://batdongsan.com.vn/cho-thue-nha-tro-phong-tro-ha-noi/p11: 100%|██████████| 24/24 [03:06<00:00,  7.77s/link]\n",
      "Crawling first 8 pages:  65%|██████▍   | 11/17 [35:18<19:31, 195.33s/page]"
     ]
    },
    {
     "name": "stdout",
     "output_type": "stream",
     "text": [
      "Getting data successfully at:  Cần nhượng lại phòng trọ Gốc Đề - Minh Khai - HBT, 3,8 triệu, 23m2 giá ưu đãi\n",
      "Hoàn thành việc crawl và lưu dữ liệu tại page thứ 1\n"
     ]
    },
    {
     "name": "stderr",
     "output_type": "stream",
     "text": []
    },
    {
     "name": "stdout",
     "output_type": "stream",
     "text": [
      "Getting data successfully at:  Cho thuê phòng mặt phố Dương Quảng Hàm, ban công rộng\n"
     ]
    },
    {
     "name": "stderr",
     "output_type": "stream",
     "text": []
    },
    {
     "name": "stdout",
     "output_type": "stream",
     "text": [
      "Getting data successfully at:  Mặt bằng siêu đẹp ngay mặt đường lớn giá rẻ\n"
     ]
    },
    {
     "name": "stderr",
     "output_type": "stream",
     "text": []
    },
    {
     "name": "stdout",
     "output_type": "stream",
     "text": [
      "Getting data successfully at:  Tìm người ở ghép giá từ 2tr Vinhomes Smart City\n"
     ]
    },
    {
     "name": "stderr",
     "output_type": "stream",
     "text": []
    },
    {
     "name": "stdout",
     "output_type": "stream",
     "text": [
      "Getting data successfully at:  Ngõ 97 Phố Chính Kinh, chung cư full đồ, đầy đủ PCCC, gần rất nhiều trường đại học (NV, TN... )\n"
     ]
    },
    {
     "name": "stderr",
     "output_type": "stream",
     "text": []
    },
    {
     "name": "stdout",
     "output_type": "stream",
     "text": [
      "Getting data successfully at:  Ngõ 190 Nguyễn Trãi, chung cư full đồ, đầy đủ PCCC, gần rất nhiều trường đại học, Lh 0904 253 ***\n"
     ]
    },
    {
     "name": "stderr",
     "output_type": "stream",
     "text": []
    },
    {
     "name": "stdout",
     "output_type": "stream",
     "text": [
      "Getting data successfully at:  Chính chủ cho thuê phòng MP Đê La Thành: 25m2, điều hòa, nóng lạnh, thang máy, giá: 3,5tr/tháng\n"
     ]
    },
    {
     "name": "stderr",
     "output_type": "stream",
     "text": []
    },
    {
     "name": "stdout",
     "output_type": "stream",
     "text": [
      "Getting data successfully at:  Chính chủ cho thuê phòng CCMN ở Đội Cấn. Khu vực Vip của quận Ba Đình, giáp quận Đống Đa, Cầu Giấy\n"
     ]
    },
    {
     "name": "stderr",
     "output_type": "stream",
     "text": []
    },
    {
     "name": "stdout",
     "output_type": "stream",
     "text": [
      "Getting data successfully at:  Phòng trọ cho thuê tại Bồ Đề Long Biên\n"
     ]
    },
    {
     "name": "stderr",
     "output_type": "stream",
     "text": []
    },
    {
     "name": "stdout",
     "output_type": "stream",
     "text": [
      "Getting data successfully at:  Dư 1 phòng CCMN tại Mễ trì, ở ngay, full nội thất, đẩy đủ tiện ích\n"
     ]
    },
    {
     "name": "stderr",
     "output_type": "stream",
     "text": []
    },
    {
     "name": "stdout",
     "output_type": "stream",
     "text": [
      "Getting data successfully at:  Chỉ 3tr có trọ ở Hậu Ái, Vân Canh, sát KĐT Vân Canh, sát đường huyết mạch Trịnh Văn Bô\n"
     ]
    },
    {
     "name": "stderr",
     "output_type": "stream",
     "text": []
    },
    {
     "name": "stdout",
     "output_type": "stream",
     "text": [
      "Getting data successfully at:  Cho thuê phòng trọ giá rẻ tại Quận Ba Đình\n"
     ]
    },
    {
     "name": "stderr",
     "output_type": "stream",
     "text": []
    },
    {
     "name": "stdout",
     "output_type": "stream",
     "text": [
      "Getting data successfully at:  Cho thuê căn hộ 1n1k tại 105 Doãn Kế Thiện\n"
     ]
    },
    {
     "name": "stderr",
     "output_type": "stream",
     "text": []
    },
    {
     "name": "stdout",
     "output_type": "stream",
     "text": [
      "Getting data successfully at:  Chính chủ cho thuê phòng trọ (ưu tiên nữ) 15m2, giá 1,7 triệu/1 tháng\n"
     ]
    },
    {
     "name": "stderr",
     "output_type": "stream",
     "text": []
    },
    {
     "name": "stdout",
     "output_type": "stream",
     "text": [
      "Getting data successfully at:  Cho thuê phòng trọ, nhà trọ, homestay ở ghép cao cấp giá cực rẻ 0983 726 ***\n"
     ]
    },
    {
     "name": "stderr",
     "output_type": "stream",
     "text": []
    },
    {
     "name": "stdout",
     "output_type": "stream",
     "text": [
      "Getting data successfully at:  Homestay 110 Nguyễn Thanh Bình cần tìm người ở ghép\n"
     ]
    },
    {
     "name": "stderr",
     "output_type": "stream",
     "text": []
    },
    {
     "name": "stdout",
     "output_type": "stream",
     "text": [
      "Getting data successfully at:  Phòng trọ quận Hoàn kiếm gần BV Phụ sản TƯ đủ đồ riêng chủ\n"
     ]
    },
    {
     "name": "stderr",
     "output_type": "stream",
     "text": []
    },
    {
     "name": "stdout",
     "output_type": "stream",
     "text": [
      "Getting data successfully at:  Cho thuê phòng trọ khép kín đầu ngõ 8 Lê Quang Đạo có điều hòa nóng lạnh\n"
     ]
    },
    {
     "name": "stderr",
     "output_type": "stream",
     "text": []
    },
    {
     "name": "stdout",
     "output_type": "stream",
     "text": [
      "Getting data successfully at:  Phòng trọ full đồ giá 2tr đến 3tr7, ở ghép 1tr1\n"
     ]
    },
    {
     "name": "stderr",
     "output_type": "stream",
     "text": []
    },
    {
     "name": "stdout",
     "output_type": "stream",
     "text": [
      "Getting data successfully at:  Ngõ 97 Phố Chính Kinh, chung cư full đồ, đầy đủ PCCC, gần rất nhiều trường đại học (NV, TN... )\n"
     ]
    },
    {
     "name": "stderr",
     "output_type": "stream",
     "text": []
    },
    {
     "name": "stdout",
     "output_type": "stream",
     "text": [
      "Getting data successfully at:  Chính chủ cho thuê phòng riêng full đồ tại 50 Đình Thôn, Nam Từ Liêm, giá 2.5 triệu!\n"
     ]
    },
    {
     "name": "stderr",
     "output_type": "stream",
     "text": []
    },
    {
     "name": "stdout",
     "output_type": "stream",
     "text": [
      "Getting data successfully at:  Cho thuê homestay giường tầng tại Đình Thôn, phòng 4N có ban công thoáng mát, giá 1triệu550/tháng\n"
     ]
    },
    {
     "name": "stderr",
     "output_type": "stream",
     "text": []
    },
    {
     "name": "stdout",
     "output_type": "stream",
     "text": [
      "Getting data successfully at:  Cầu Giấy phòng khép kín 30m2 có gác xép, bồn rửa bát giá 3,5 tr\n"
     ]
    },
    {
     "name": "stderr",
     "output_type": "stream",
     "text": []
    },
    {
     "name": "stdout",
     "output_type": "stream",
     "text": [
      "Getting data successfully at:  Căn hộ 3.5 triệu 35 m2 nhà 15 ngõ Bà Triệu, khép kín, đủ điều hòa, bình nóng lạnh, LH 0986 226 ***\n"
     ]
    },
    {
     "name": "stderr",
     "output_type": "stream",
     "text": [
      "Link: https://batdongsan.com.vn/cho-thue-nha-tro-phong-tro-ha-noi/p12: 100%|██████████| 24/24 [03:12<00:00,  8.01s/link]\n",
      "Crawling first 8 pages:  71%|███████   | 12/17 [38:38<16:22, 196.59s/page]"
     ]
    },
    {
     "name": "stdout",
     "output_type": "stream",
     "text": [
      "Getting data successfully at:  Cho thuê phòng tại phố Thái Hà, quận Đống Đa, Hà Nội (không phải CCMN)\n",
      "Hoàn thành việc crawl và lưu dữ liệu tại page thứ 1\n"
     ]
    },
    {
     "name": "stderr",
     "output_type": "stream",
     "text": []
    },
    {
     "name": "stdout",
     "output_type": "stream",
     "text": [
      "Getting data successfully at:  Cho thuê nhà chính chủ 260 Kim Ngưu, Lạc Trung 3 tr và 2.5 tr\n"
     ]
    },
    {
     "name": "stderr",
     "output_type": "stream",
     "text": []
    },
    {
     "name": "stdout",
     "output_type": "stream",
     "text": [
      "Getting data successfully at:  Chính chủ cho thuê CCMN tại ngõ 530 đường Thụy Khuê, Bưởi, Tây Hồ, Hà Nội\n"
     ]
    },
    {
     "name": "stderr",
     "output_type": "stream",
     "text": []
    },
    {
     "name": "stdout",
     "output_type": "stream",
     "text": [
      "Getting data successfully at:  Chính chủ cho thuê phòng khép kín 25m2 phố Định Công Thượng, Hoàng Mai, Hà Nội\n"
     ]
    },
    {
     "name": "stderr",
     "output_type": "stream",
     "text": []
    },
    {
     "name": "stdout",
     "output_type": "stream",
     "text": [
      "Getting data successfully at:  Ngõ 97 Phố Chính Kinh, chung cư full đồ, đầy đủ PCCC, gần rất nhiều trường đại học (NV, TN... )\n"
     ]
    },
    {
     "name": "stderr",
     "output_type": "stream",
     "text": []
    },
    {
     "name": "stdout",
     "output_type": "stream",
     "text": [
      "Getting data successfully at:  Ngõ 190 Nguyễn Trãi, chung cư full đồ, đầy đủ PCCC, gần rất nhiều trường đại học, Lh 0904 253 ***\n"
     ]
    },
    {
     "name": "stderr",
     "output_type": "stream",
     "text": []
    },
    {
     "name": "stdout",
     "output_type": "stream",
     "text": [
      "Getting data successfully at:  Chính chủ cho thuê phòng MP Đê La Thành: 25m2, điều hòa, nóng lạnh, thang máy, giá: 3,5tr/tháng\n"
     ]
    },
    {
     "name": "stderr",
     "output_type": "stream",
     "text": []
    },
    {
     "name": "stdout",
     "output_type": "stream",
     "text": [
      "Getting data successfully at:  Chính chủ cho thuê phòng CCMN ở Đội Cấn. Khu vực Vip của quận Ba Đình, giáp quận Đống Đa, Cầu Giấy\n"
     ]
    },
    {
     "name": "stderr",
     "output_type": "stream",
     "text": []
    },
    {
     "name": "stdout",
     "output_type": "stream",
     "text": [
      "Getting data successfully at:  Khai trương nhà trọ khép kín từ 2tr7 - 2tr9\n"
     ]
    },
    {
     "name": "stderr",
     "output_type": "stream",
     "text": []
    },
    {
     "name": "stdout",
     "output_type": "stream",
     "text": [
      "Getting data successfully at:  Khai trương căn hộ gác xếp tiện ích rộng 35m2 đầy đủ đồ tại Thanh Xuân\n"
     ]
    },
    {
     "name": "stderr",
     "output_type": "stream",
     "text": []
    },
    {
     "name": "stdout",
     "output_type": "stream",
     "text": [
      "Getting data successfully at:  Cho thuê CCMN khép kín mới, thoáng mặt đường Vũ Hữu, Thanh Xuân Bắc gần ĐH HN, Nhân Văn giá tốt\n"
     ]
    },
    {
     "name": "stderr",
     "output_type": "stream",
     "text": []
    },
    {
     "name": "stdout",
     "output_type": "stream",
     "text": [
      "Getting data successfully at:  Cho thuê các phòng tại phố Vũ Thạnh - Đống Đa, ngõ to rộng ô tô vào cửa nhà, nội thất cơ bản ở ngay\n"
     ]
    },
    {
     "name": "stderr",
     "output_type": "stream",
     "text": []
    },
    {
     "name": "stdout",
     "output_type": "stream",
     "text": [
      "Getting data successfully at:  Cho thuê nhà trọ Minh Khai, 3 triệu VND, 20 m2, 1PN, 1WC hàng hiếm tại Hà Nội\n"
     ]
    },
    {
     "name": "stderr",
     "output_type": "stream",
     "text": []
    },
    {
     "name": "stdout",
     "output_type": "stream",
     "text": [
      "Getting data successfully at:  Phòng giá rẻ điện nước giá dân, khép kín - điều hòa, nóng lạnh giá rẻ\n"
     ]
    },
    {
     "name": "stderr",
     "output_type": "stream",
     "text": []
    },
    {
     "name": "stdout",
     "output_type": "stream",
     "text": [
      "Getting data successfully at:  Hỗ trợ lên tới 2000,000 khi kí HĐ phòng chung cư mini mới xây full nội thất 100% mới - Bắc Từ Liêm\n"
     ]
    },
    {
     "name": "stderr",
     "output_type": "stream",
     "text": []
    },
    {
     "name": "stdout",
     "output_type": "stream",
     "text": [
      "Getting data successfully at:  Cho thuê CCMN 40m2 gần ĐH Phenikaa, Đại Nam Nguyễn Trãi, PCCC đảm bảo. LH: 0984 378 *** (call/zalo)\n"
     ]
    },
    {
     "name": "stderr",
     "output_type": "stream",
     "text": []
    },
    {
     "name": "stdout",
     "output_type": "stream",
     "text": [
      "Getting data successfully at:  Cho thuê CCMN 30m2 có gác xép rộng gần chợ Bông Đỏ, ngõ 18 Phan Đình Giót. LHCC: 0984 378 ***\n"
     ]
    },
    {
     "name": "stderr",
     "output_type": "stream",
     "text": []
    },
    {
     "name": "stdout",
     "output_type": "stream",
     "text": [
      "Getting data successfully at:  Cho thuê phòng khép kín rộng 30m2\n"
     ]
    },
    {
     "name": "stderr",
     "output_type": "stream",
     "text": []
    },
    {
     "name": "stdout",
     "output_type": "stream",
     "text": [
      "Getting data successfully at:  Cho thuê nhà trọ phòng trọ phố Cự Lộc, phường Nhân Chính, quận Thanh Xuân\n"
     ]
    },
    {
     "name": "stderr",
     "output_type": "stream",
     "text": []
    },
    {
     "name": "stdout",
     "output_type": "stream",
     "text": [
      "Getting data successfully at:  Cho thuê 1 ngủ Dương Nội, gần Aeon Mall Hà Đông, có lot ô tô, full đồ - Giá từ 5,5tr\n"
     ]
    },
    {
     "name": "stderr",
     "output_type": "stream",
     "text": []
    },
    {
     "name": "stdout",
     "output_type": "stream",
     "text": [
      "Getting data successfully at:  Cho Thuê Phòng rộng, đẹp Nhà liền kề khu đô thị văn phú\n"
     ]
    },
    {
     "name": "stderr",
     "output_type": "stream",
     "text": []
    },
    {
     "name": "stdout",
     "output_type": "stream",
     "text": [
      "Getting data successfully at:  Cho thuê phòng riêng trong căn hộ 3 PN, khu đô thị Goldmark City\n"
     ]
    },
    {
     "name": "stderr",
     "output_type": "stream",
     "text": []
    },
    {
     "name": "stdout",
     "output_type": "stream",
     "text": [
      "Getting data successfully at:  Chính chủ cho thuê phòng studio 35m2 KĐT Văn Phú, Hà Đông. Cửa sổ, ban công rộng\n"
     ]
    },
    {
     "name": "stderr",
     "output_type": "stream",
     "text": []
    },
    {
     "name": "stdout",
     "output_type": "stream",
     "text": [
      "Getting data successfully at:  Chính chủ cho thuê phòng trọ Nguyễn Khuyến, phòng khép kín 20m2, giá 2.5tr/th\n"
     ]
    },
    {
     "name": "stderr",
     "output_type": "stream",
     "text": [
      "Link: https://batdongsan.com.vn/cho-thue-nha-tro-phong-tro-ha-noi/p13: 100%|██████████| 24/24 [02:58<00:00,  7.46s/link]\n",
      "Crawling first 8 pages:  76%|███████▋  | 13/17 [41:42<12:52, 193.03s/page]"
     ]
    },
    {
     "name": "stdout",
     "output_type": "stream",
     "text": [
      "Getting data successfully at:  Cho thuê phòng ngõ 168 Hào Nam - Cát Linh, ô tô đỗ cửa, giá 3tr/th\n",
      "Hoàn thành việc crawl và lưu dữ liệu tại page thứ 1\n"
     ]
    },
    {
     "name": "stderr",
     "output_type": "stream",
     "text": []
    },
    {
     "name": "stdout",
     "output_type": "stream",
     "text": [
      "Getting data successfully at:  Chính chủ cho thuê phòng CCMN full đồ 262 Khương Đình, Thanh Xuân\n"
     ]
    },
    {
     "name": "stderr",
     "output_type": "stream",
     "text": []
    },
    {
     "name": "stdout",
     "output_type": "stream",
     "text": [
      "Getting data successfully at:  Chính chủ cho thuê căn hộ khép kín tại nhà liền kề ngõ 521 Cổ Nhuế\n"
     ]
    },
    {
     "name": "stderr",
     "output_type": "stream",
     "text": []
    },
    {
     "name": "stdout",
     "output_type": "stream",
     "text": [
      "Getting data successfully at:  CC cho thuê phòng tầng 3 số 703 Hoàng Hoa Thám có cửa sổ thoáng mát\n"
     ]
    },
    {
     "name": "stderr",
     "output_type": "stream",
     "text": []
    },
    {
     "name": "stdout",
     "output_type": "stream",
     "text": [
      "Getting data successfully at:  Ngõ 97 Phố Chính Kinh, chung cư full đồ, đầy đủ PCCC, gần rất nhiều trường đại học (NV, TN... )\n"
     ]
    },
    {
     "name": "stderr",
     "output_type": "stream",
     "text": []
    },
    {
     "name": "stdout",
     "output_type": "stream",
     "text": [
      "Getting data successfully at:  Ngõ 190 Nguyễn Trãi, chung cư full đồ, đầy đủ PCCC, gần rất nhiều trường đại học, Lh 0904 253 ***\n"
     ]
    },
    {
     "name": "stderr",
     "output_type": "stream",
     "text": []
    },
    {
     "name": "stdout",
     "output_type": "stream",
     "text": [
      "Getting data successfully at:  Chính chủ cho thuê phòng MP Đê La Thành: 25m2, điều hòa, nóng lạnh, thang máy, giá: 3,5tr/tháng\n"
     ]
    },
    {
     "name": "stderr",
     "output_type": "stream",
     "text": []
    },
    {
     "name": "stdout",
     "output_type": "stream",
     "text": [
      "Getting data successfully at:  Chính chủ cho thuê phòng CCMN ở Đội Cấn. Khu vực Vip của quận Ba Đình, giáp quận Đống Đa, Cầu Giấy\n"
     ]
    },
    {
     "name": "stderr",
     "output_type": "stream",
     "text": []
    },
    {
     "name": "stdout",
     "output_type": "stream",
     "text": [
      "Getting data successfully at:  Chính chủ cho thuê phòng trọ khép kín ngõ 521/36 đường Cổ Nhuế\n"
     ]
    },
    {
     "name": "stderr",
     "output_type": "stream",
     "text": []
    },
    {
     "name": "stdout",
     "output_type": "stream",
     "text": [
      "Getting data successfully at:  Cho thuê phòng đơn Sleepbox Phố Hào Nam 1 người ở giá chỉ từ 990.000đ/tháng\n"
     ]
    },
    {
     "name": "stderr",
     "output_type": "stream",
     "text": []
    },
    {
     "name": "stdout",
     "output_type": "stream",
     "text": [
      "Getting data successfully at:  Chính chủ cho thuê CCMN mới Yên Xá (số 9/2 ngõ 73 Yên Xá. Hoặc đi ngõ 87)\n"
     ]
    },
    {
     "name": "stderr",
     "output_type": "stream",
     "text": []
    },
    {
     "name": "stdout",
     "output_type": "stream",
     "text": [
      "Getting data successfully at:  Chính chủ cho thuê phòng MP Đê La Thành: 25m2, điều hòa, nóng lạnh, thang máy, giá: 3,5tr/tháng\n"
     ]
    },
    {
     "name": "stderr",
     "output_type": "stream",
     "text": []
    },
    {
     "name": "stdout",
     "output_type": "stream",
     "text": [
      "Getting data successfully at:  Cho thuê gấp nhà trọ 1PN, 1WC tại ngõ 495 Nguyễn Trãi, Thanh Xuân, Hà Nội, 5,5 triệu\n"
     ]
    },
    {
     "name": "stderr",
     "output_type": "stream",
     "text": []
    },
    {
     "name": "stdout",
     "output_type": "stream",
     "text": [
      "Getting data successfully at:  Cho thuê phòng CCMN tại 44 Trần Thái Tông, đã đầy đủ nội thất. Chỉ cần mang quần áo vào ở\n"
     ]
    },
    {
     "name": "stderr",
     "output_type": "stream",
     "text": []
    },
    {
     "name": "stdout",
     "output_type": "stream",
     "text": [
      "Getting data successfully at:  Cho thuê phòng ở tại ngõ 190 Nguyễn Trãi - gần Royal City và Ngã Tư Sở - vào ở ngay\n"
     ]
    },
    {
     "name": "stderr",
     "output_type": "stream",
     "text": []
    },
    {
     "name": "stdout",
     "output_type": "stream",
     "text": [
      "Getting data successfully at:  Cho thuê phòng riêng phố Tân Ấp, có ban công, không chung chủ, quận Ba Đình\n"
     ]
    },
    {
     "name": "stderr",
     "output_type": "stream",
     "text": []
    },
    {
     "name": "stdout",
     "output_type": "stream",
     "text": [
      "Getting data successfully at:  Cho thuê phòng riêng không chung chủ, nhà có ban công ở Ba Đình\n"
     ]
    },
    {
     "name": "stderr",
     "output_type": "stream",
     "text": []
    },
    {
     "name": "stdout",
     "output_type": "stream",
     "text": [
      "Getting data successfully at:  Chính chủ cho thuê phòng trọ khép kín,tầng 1, tách biệt với chủ nhà, 30m2 , 2,6 tr, cạnh chợ CNhuế\n"
     ]
    },
    {
     "name": "stderr",
     "output_type": "stream",
     "text": []
    },
    {
     "name": "stdout",
     "output_type": "stream",
     "text": [
      "Getting data successfully at:  Cho thuê phòng trọ khép kín đủ đồ ở 225 Quan Hoa, Cầu Giấy, HN 3tr6\n"
     ]
    },
    {
     "name": "stderr",
     "output_type": "stream",
     "text": []
    },
    {
     "name": "stdout",
     "output_type": "stream",
     "text": [
      "Getting data successfully at:  Cho thuê phòng để ở tầng 3, diện tích 20m2/phòng\n"
     ]
    },
    {
     "name": "stderr",
     "output_type": "stream",
     "text": []
    },
    {
     "name": "stdout",
     "output_type": "stream",
     "text": [
      "Getting data successfully at:  Chính chủ cho thuê CCMN 35m2 tại ngõ 286 Giáp Bát\n"
     ]
    },
    {
     "name": "stderr",
     "output_type": "stream",
     "text": []
    },
    {
     "name": "stdout",
     "output_type": "stream",
     "text": [
      "Getting data successfully at:  Chính chủ cho thuê căn studio, full nội thất, sát đường Trần Duy Hưng - Cầu Giấy\n"
     ]
    },
    {
     "name": "stderr",
     "output_type": "stream",
     "text": []
    },
    {
     "name": "stdout",
     "output_type": "stream",
     "text": [
      "Getting data successfully at:  Vào ở ngay, studio đủ đồ có cửa sổ thoáng tại khu đô thị Geleximco, Dương Nội, Hà Đông\n"
     ]
    },
    {
     "name": "stderr",
     "output_type": "stream",
     "text": []
    },
    {
     "name": "stdout",
     "output_type": "stream",
     "text": [
      "Getting data successfully at:  Cho thuê phòng trọ 50m2 tại đường Giang Văn Minh, Kim Mã, Ba Đình, Hà Nội giá 6 triệu VND\n"
     ]
    },
    {
     "name": "stderr",
     "output_type": "stream",
     "text": [
      "Link: https://batdongsan.com.vn/cho-thue-nha-tro-phong-tro-ha-noi/p14: 100%|██████████| 24/24 [02:56<00:00,  7.37s/link]\n",
      "Crawling first 8 pages:  82%|████████▏ | 14/17 [44:45<09:29, 189.88s/page]"
     ]
    },
    {
     "name": "stdout",
     "output_type": "stream",
     "text": [
      "Getting data successfully at:  Cho thuê phòng trọ ở ngõ 195 Trần Cung, diện tích 25m2, có ban công, khép kín, đầy đủ tiện nghi\n",
      "Hoàn thành việc crawl và lưu dữ liệu tại page thứ 1\n"
     ]
    },
    {
     "name": "stderr",
     "output_type": "stream",
     "text": []
    },
    {
     "name": "stdout",
     "output_type": "stream",
     "text": [
      "Getting data successfully at:  Cho thuê phòng trọ 651 Minh Khai rộng, nóng lạnh, wifi, điều hoà giá 2,5tr/tháng\n"
     ]
    },
    {
     "name": "stderr",
     "output_type": "stream",
     "text": []
    },
    {
     "name": "stdout",
     "output_type": "stream",
     "text": [
      "Getting data successfully at:  Hỗ trợ lên tới 2000,000đ khi kí HĐ chung cư mini full nội thất 100% mới - Triều Khúc - Thanh Xuân\n"
     ]
    },
    {
     "name": "stderr",
     "output_type": "stream",
     "text": []
    },
    {
     "name": "stdout",
     "output_type": "stream",
     "text": [
      "Getting data successfully at:  3Tr/th Full đồ - khép kín - mới tinh tại 46 Ngọc Hồi - bến xe nước ngầm\n"
     ]
    },
    {
     "name": "stderr",
     "output_type": "stream",
     "text": []
    },
    {
     "name": "stdout",
     "output_type": "stream",
     "text": [
      "Getting data successfully at:  Ngõ 97 Phố Chính Kinh, chung cư full đồ, đầy đủ PCCC, gần rất nhiều trường đại học (NV, TN... )\n"
     ]
    },
    {
     "name": "stderr",
     "output_type": "stream",
     "text": []
    },
    {
     "name": "stdout",
     "output_type": "stream",
     "text": [
      "Getting data successfully at:  Ngõ 190 Nguyễn Trãi, chung cư full đồ, đầy đủ PCCC, gần rất nhiều trường đại học, Lh 0904 253 ***\n"
     ]
    },
    {
     "name": "stderr",
     "output_type": "stream",
     "text": []
    },
    {
     "name": "stdout",
     "output_type": "stream",
     "text": [
      "Getting data successfully at:  Chính chủ cho thuê phòng MP Đê La Thành: 25m2, điều hòa, nóng lạnh, thang máy, giá: 3,5tr/tháng\n"
     ]
    },
    {
     "name": "stderr",
     "output_type": "stream",
     "text": []
    },
    {
     "name": "stdout",
     "output_type": "stream",
     "text": [
      "Getting data successfully at:  Chính chủ cho thuê phòng CCMN ở Đội Cấn. Khu vực Vip của quận Ba Đình, giáp quận Đống Đa, Cầu Giấy\n"
     ]
    },
    {
     "name": "stderr",
     "output_type": "stream",
     "text": []
    },
    {
     "name": "stdout",
     "output_type": "stream",
     "text": [
      "Getting data successfully at:  Cho thuê phòng trọ 25m2, full đồ, khép kín tại Mỹ Đình 2\n"
     ]
    },
    {
     "name": "stderr",
     "output_type": "stream",
     "text": []
    },
    {
     "name": "stdout",
     "output_type": "stream",
     "text": [
      "Getting data successfully at:  Chính chủ cho thuê phòng CCMN ở Đội Cấn. Khu vực Vip của quận Ba Đình, giáp quận Đống Đa, Cầu Giấy\n"
     ]
    },
    {
     "name": "stderr",
     "output_type": "stream",
     "text": []
    },
    {
     "name": "stdout",
     "output_type": "stream",
     "text": [
      "Getting data successfully at:  Phòng tầng 1,2,3,4 tòa nhà mặt phố Ngô Gia Tự, DT 40 - 65m2 giá chỉ 2tr - 3tr\n"
     ]
    },
    {
     "name": "stderr",
     "output_type": "stream",
     "text": []
    },
    {
     "name": "stdout",
     "output_type": "stream",
     "text": [
      "Getting data successfully at:  Cho thuê căn hộ khép kín tại ngõ 39 Bát Khối, Tư Đình Long Biên\n"
     ]
    },
    {
     "name": "stderr",
     "output_type": "stream",
     "text": []
    },
    {
     "name": "stdout",
     "output_type": "stream",
     "text": [
      "Getting data successfully at:  Cho thuê căn hộ cao cấp trong biệt thự liền kề 319 Vĩnh Hưng\n"
     ]
    },
    {
     "name": "stderr",
     "output_type": "stream",
     "text": []
    },
    {
     "name": "stdout",
     "output_type": "stream",
     "text": [
      "Getting data successfully at:  Cho thuê nhà trọ mới xây: Ngõ 243 Nam Dư, Hoàng Mai. Giá 3,6tr/ tháng. LH: 0383 426 ***\n"
     ]
    },
    {
     "name": "stderr",
     "output_type": "stream",
     "text": []
    },
    {
     "name": "stdout",
     "output_type": "stream",
     "text": [
      "Getting data successfully at:  Cho thuê phòng mặt đường GP đối diện hồ Linh Đàm từ 2,4tr - full đồ ĐH, NL, giường tủ, VSKK\n"
     ]
    },
    {
     "name": "stderr",
     "output_type": "stream",
     "text": []
    },
    {
     "name": "stdout",
     "output_type": "stream",
     "text": [
      "Getting data successfully at:  Homestay ở ghép Hà Nội giá rẻ cho sinh viên và người đi làm\n"
     ]
    },
    {
     "name": "stderr",
     "output_type": "stream",
     "text": []
    },
    {
     "name": "stdout",
     "output_type": "stream",
     "text": [
      "Getting data successfully at:  Cho thuê phòng đủ nội thất, điều hòa, Bùi Xương Trạch, Thanh Xuân, không tiếp quảng cáo, môi giới\n"
     ]
    },
    {
     "name": "stderr",
     "output_type": "stream",
     "text": []
    },
    {
     "name": "stdout",
     "output_type": "stream",
     "text": [
      "Getting data successfully at:  Còn 9 phòng cho thuê mới full nội thất diện tích 25 - 42m2 tại Cổ Nhuế ở ngay\n"
     ]
    },
    {
     "name": "stderr",
     "output_type": "stream",
     "text": []
    },
    {
     "name": "stdout",
     "output_type": "stream",
     "text": [
      "Getting data successfully at:  Cho thuê nhà làm văn phòng, cửa hàng hoặc để ở\n"
     ]
    },
    {
     "name": "stderr",
     "output_type": "stream",
     "text": []
    },
    {
     "name": "stdout",
     "output_type": "stream",
     "text": [
      "Getting data successfully at:  Cho thuê phòng đơn, slepbox ở Phan Văn Trường - Cầu Giấy - Hà Nội - Giá chỉ 1tr/tháng\n"
     ]
    },
    {
     "name": "stderr",
     "output_type": "stream",
     "text": []
    },
    {
     "name": "stdout",
     "output_type": "stream",
     "text": [
      "Getting data successfully at:  Cho thuê phòng trọ tại ngõ 105 Trần Quốc Vượng, Cầu Giấy, Hà Nội. Giá 3tr/tháng. LH 0914 764 ***\n"
     ]
    },
    {
     "name": "stderr",
     "output_type": "stream",
     "text": []
    },
    {
     "name": "stdout",
     "output_type": "stream",
     "text": [
      "Getting data successfully at:  Cho thuê CCMN ngõ 25c Trần Duy Hưng\n"
     ]
    },
    {
     "name": "stderr",
     "output_type": "stream",
     "text": []
    },
    {
     "name": "stdout",
     "output_type": "stream",
     "text": [
      "Getting data successfully at:  Phòng trọ sinh viên FPT Đông Á siêu rẻ đẹp giá chỉ từ 2tr8 - 3tr\n"
     ]
    },
    {
     "name": "stderr",
     "output_type": "stream",
     "text": []
    },
    {
     "name": "stdout",
     "output_type": "stream",
     "text": [
      "Getting data successfully at:  Phòng trọ gia đình Tân Tây Đô giá rẻ phòng rộng đẹp chỉ từ 2tr8\n"
     ]
    },
    {
     "name": "stderr",
     "output_type": "stream",
     "text": [
      "Link: https://batdongsan.com.vn/cho-thue-nha-tro-phong-tro-ha-noi/p15: 100%|██████████| 24/24 [03:17<00:00,  8.24s/link]\n",
      "Crawling first 8 pages:  88%|████████▊ | 15/17 [48:10<06:28, 194.34s/page]"
     ]
    },
    {
     "name": "stdout",
     "output_type": "stream",
     "text": [
      "Getting data successfully at:  Homestay miễn phí điện nước giá chỉ hơn 1tr5 - 1tr690k/tháng/người trọn gói (100 cơ sở khắp Hà Nội)\n",
      "Hoàn thành việc crawl và lưu dữ liệu tại page thứ 1\n"
     ]
    },
    {
     "name": "stderr",
     "output_type": "stream",
     "text": []
    },
    {
     "name": "stdout",
     "output_type": "stream",
     "text": [
      "Getting data successfully at:  Chính chủ cho thuê phòng tại 532 Bạch Đằng, Hoàn Kiếm, nhà mới xây, gần viện 108, LH 0912 571 ***\n"
     ]
    },
    {
     "name": "stderr",
     "output_type": "stream",
     "text": []
    },
    {
     "name": "stdout",
     "output_type": "stream",
     "text": [
      "Getting data successfully at:  Chính chủ cho thuê phòng trọ gần Đại Học Quốc Gia Hà Nôi giá từ 1tr - 2tr5\n"
     ]
    },
    {
     "name": "stderr",
     "output_type": "stream",
     "text": []
    },
    {
     "name": "stdout",
     "output_type": "stream",
     "text": [
      "Getting data successfully at:  Cho thuê phòng CCMN, 22M2 full NT, thang máy, chợ Văn Điển\n"
     ]
    },
    {
     "name": "stderr",
     "output_type": "stream",
     "text": []
    },
    {
     "name": "stdout",
     "output_type": "stream",
     "text": [
      "Getting data successfully at:  Ngõ 97 Phố Chính Kinh, chung cư full đồ, đầy đủ PCCC, gần rất nhiều trường đại học (NV, TN... )\n"
     ]
    },
    {
     "name": "stderr",
     "output_type": "stream",
     "text": []
    },
    {
     "name": "stdout",
     "output_type": "stream",
     "text": [
      "Getting data successfully at:  Ngõ 190 Nguyễn Trãi, chung cư full đồ, đầy đủ PCCC, gần rất nhiều trường đại học, Lh 0904 253 ***\n"
     ]
    },
    {
     "name": "stderr",
     "output_type": "stream",
     "text": []
    },
    {
     "name": "stdout",
     "output_type": "stream",
     "text": [
      "Getting data successfully at:  Chính chủ cho thuê phòng MP Đê La Thành: 25m2, điều hòa, nóng lạnh, thang máy, giá: 3,5tr/tháng\n"
     ]
    },
    {
     "name": "stderr",
     "output_type": "stream",
     "text": []
    },
    {
     "name": "stdout",
     "output_type": "stream",
     "text": [
      "Getting data successfully at:  Chính chủ cho thuê phòng CCMN ở Đội Cấn. Khu vực Vip của quận Ba Đình, giáp quận Đống Đa, Cầu Giấy\n"
     ]
    },
    {
     "name": "stderr",
     "output_type": "stream",
     "text": []
    },
    {
     "name": "stdout",
     "output_type": "stream",
     "text": [
      "Getting data successfully at:  Cho thuê CHDV 1 khách + 1 ngủ Đình Thôn\n"
     ]
    },
    {
     "name": "stderr",
     "output_type": "stream",
     "text": []
    },
    {
     "name": "stdout",
     "output_type": "stream",
     "text": [
      "Getting data successfully at:  Cho thuê nhà trọ full nội thất, đường 1A, 30m2, 2,5 triệu giá ưu đãi\n"
     ]
    }
   ],
   "source": [
    "from tqdm import tqdm\n",
    "from selenium import webdriver\n",
    "driver = webdriver.Chrome()\n",
    "for i in tqdm(range(17), desc=\"Crawling first 8 pages\", unit=\"page\"):\n",
    "        data = get_data(i + 1, driver)\n",
    "# Đóng trình duyệt\n",
    "driver.quit()"
   ]
  },
  {
   "cell_type": "code",
   "execution_count": null,
   "metadata": {},
   "outputs": [],
   "source": []
  }
 ],
 "metadata": {
  "kernelspec": {
   "display_name": ".venv",
   "language": "python",
   "name": "python3"
  },
  "language_info": {
   "codemirror_mode": {
    "name": "ipython",
    "version": 3
   },
   "file_extension": ".py",
   "mimetype": "text/x-python",
   "name": "python",
   "nbconvert_exporter": "python",
   "pygments_lexer": "ipython3",
   "version": "3.12.3"
  }
 },
 "nbformat": 4,
 "nbformat_minor": 2
}
